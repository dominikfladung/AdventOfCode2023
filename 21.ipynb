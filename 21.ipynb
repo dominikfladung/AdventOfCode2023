{
    "cells": [
        {
            "cell_type": "markdown",
            "metadata": {},
            "source": [
                "[Day 21 - Advent of Code 2023](https://adventofcode.com/2023/day/21)\n",
                "\n",
                "<article class=\"day-desc\">\n <h2>\n  --- Day 21: Step Counter ---\n </h2>\n <p>\n  You manage to catch the\n  <a href=\"7\">\n   airship\n  </a>\n  right as it's dropping someone else off on their all-expenses-paid trip to Desert Island! It even helpfully drops you off near the\n  <a href=\"5\">\n   gardener\n  </a>\n  and his massive farm.\n </p>\n <p>\n  \"You got the sand flowing again! Great work! Now we just need to wait until we have enough sand to filter the water for Snow Island and we'll have snow again in no time.\"\n </p>\n <p>\n  While you wait, one of the Elves that works with the gardener heard how good you are at solving problems and would like your help. He needs to get his\n  <a href=\"https://en.wikipedia.org/wiki/Pedometer\" target=\"_blank\">\n   steps\n  </a>\n  in for the day, and so he'd like to know\n  <em>\n   which garden plots he can reach with exactly his remaining\n   <code>\n    64\n   </code>\n   steps\n  </em>\n  .\n </p>\n <p>\n  He gives you an up-to-date map (your puzzle input) of his starting position (\n  <code>\n   S\n  </code>\n  ), garden plots (\n  <code>\n   .\n  </code>\n  ), and rocks (\n  <code>\n   #\n  </code>\n  ). For example:\n </p>\n <pre><code>...........\n.....###.#.\n.###.##..#.\n..#.#...#..\n....#.#....\n.##..S####.\n.##..#...#.\n.......##..\n.##.#.####.\n.##..##.##.\n...........\n</code></pre>\n <p>\n  The Elf starts at the starting position (\n  <code>\n   S\n  </code>\n  ) which also counts as a garden plot. Then, he can take one step north, south, east, or west, but only onto tiles that are garden plots. This would allow him to reach any of the tiles marked\n  <code>\n   O\n  </code>\n  :\n </p>\n <pre><code>...........\n.....###.#.\n.###.##..#.\n..#.#...#..\n....#O#....\n.##.OS####.\n.##..#...#.\n.......##..\n.##.#.####.\n.##..##.##.\n...........\n</code></pre>\n <p>\n  Then, he takes a second step. Since at this point he could be at\n  <em>\n   either\n  </em>\n  tile marked\n  <code>\n   O\n  </code>\n  , his second step would allow him to reach any garden plot that is one step north, south, east, or west of\n  <em>\n   any\n  </em>\n  tile that he could have reached after the first step:\n </p>\n <pre><code>...........\n.....###.#.\n.###.##..#.\n..#.#O..#..\n....#.#....\n.##O.O####.\n.##.O#...#.\n.......##..\n.##.#.####.\n.##..##.##.\n...........\n</code></pre>\n <p>\n  After two steps, he could be at any of the tiles marked\n  <code>\n   O\n  </code>\n  above, including the starting position (either by going north-then-south or by going west-then-east).\n </p>\n <p>\n  A single third step leads to even more possibilities:\n </p>\n <pre><code>...........\n.....###.#.\n.###.##..#.\n..#.#.O.#..\n...O#O#....\n.##.OS####.\n.##O.#...#.\n....O..##..\n.##.#.####.\n.##..##.##.\n...........\n</code></pre>\n <p>\n  He will continue like this until his steps for the day have been exhausted. After a total of\n  <code>\n   6\n  </code>\n  steps, he could reach any of the garden plots marked\n  <code>\n   O\n  </code>\n  :\n </p>\n <pre><code>...........\n.....###.#.\n.###.##.O#.\n.O#O#O.O#..\nO.O.#.#.O..\n.##O.O####.\n.##.O#O..#.\n.O.O.O.##..\n.##.#.####.\n.##O.##.##.\n...........\n</code></pre>\n <p>\n  In this example, if the Elf's goal was to get exactly\n  <code>\n   6\n  </code>\n  more steps today, he could use them to reach any of\n  <code>\n   <em>\n    16\n   </em>\n  </code>\n  garden plots.\n </p>\n <p>\n  However, the Elf\n  <em>\n   actually needs to get\n   <code>\n    64\n   </code>\n   steps today\n  </em>\n  , and the map he's handed you is much larger than the example map.\n </p>\n <p>\n  Starting from the garden plot marked\n  <code>\n   S\n  </code>\n  on your map,\n  <em>\n   how many garden plots could the Elf reach in exactly\n   <code>\n    64\n   </code>\n   steps?\n  </em>\n </p>\n</article>\n"
            ]
        },
        {
            "cell_type": "code",
            "execution_count": null,
            "metadata": {},
            "outputs": [],
            "source": [
                "import helpers\n",
                "from tqdm.notebook import tqdm\n",
                "import numpy as np\n",
                "import re"
            ]
        },
        {
            "cell_type": "code",
            "execution_count": null,
            "metadata": {},
            "outputs": [],
            "source": [
                "puzzle_input = helpers.import_input(21)"
            ]
        },
        {
            "cell_type": "markdown",
            "metadata": {},
            "source": [
                "## Part 1"
            ]
        },
        {
            "cell_type": "code",
            "execution_count": null,
            "metadata": {},
            "outputs": [],
            "source": [
                "test_puzzle_input_part_1 = \"\"\"...........\n.....###.#.\n.###.##..#.\n..#.#...#..\n....#.#....\n.##..S####.\n.##..#...#.\n.......##..\n.##.#.####.\n.##..##.##.\n...........\n\"\"\".splitlines()"
            ]
        },
        {
            "cell_type": "code",
            "execution_count": null,
            "metadata": {},
            "outputs": [],
            "source": [
                "def part_1(input):\n",
                "    return None\n",
                "\n",
                "assert part_1(test_puzzle_input_part_1) == 64"
            ]
        },
        {
            "cell_type": "code",
            "execution_count": null,
            "metadata": {},
            "outputs": [],
            "source": [
                "part_1(puzzle_input)"
            ]
        },
        {
            "cell_type": "markdown",
            "metadata": {},
            "source": [
                "## Part 2"
            ]
        },
        {
            "cell_type": "code",
            "execution_count": null,
            "metadata": {},
            "outputs": [],
            "source": [
                "test_puzzle_input_part_2 = \"\"\"\n",
                "\"\"\".splitlines()"
            ]
        },
        {
            "cell_type": "code",
            "execution_count": null,
            "metadata": {},
            "outputs": [],
            "source": [
                "def part_2(input):\n",
                "    return None\n",
                "\n",
                "assert part_2(test_puzzle_input_part_2) == None"
            ]
        },
        {
            "cell_type": "code",
            "execution_count": null,
            "metadata": {},
            "outputs": [],
            "source": [
                "part_2(puzzle_input)"
            ]
        }
    ],
    "metadata": {
        "kernelspec": {
            "display_name": "Python 3",
            "language": "python",
            "name": "python3"
        },
        "language_info": {
            "codemirror_mode": {
                "name": "ipython",
                "version": 3
            },
            "file_extension": ".py",
            "mimetype": "text/x-python",
            "name": "python",
            "nbconvert_exporter": "python",
            "pygments_lexer": "ipython3",
            "version": "3.11.0"
        }
    },
    "nbformat": 4,
    "nbformat_minor": 2
}