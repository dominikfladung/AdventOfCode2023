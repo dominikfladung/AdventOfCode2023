{
    "cells": [
        {
            "cell_type": "markdown",
            "metadata": {},
            "source": [
                "[Day 19 - Advent of Code 2023](https://adventofcode.com/2023/day/19)\n",
                "\n",
                "<article class=\"day-desc\">\n <h2>\n  --- Day 19: Aplenty ---\n </h2>\n <p>\n  The Elves of Gear Island are thankful for your help and send you on your way. They even have a hang glider that someone\n  <a href=\"9\">\n   stole\n  </a>\n  from Desert Island; since you're already going that direction, it would help them a lot if you would use it to get down there and return it to them.\n </p>\n <p>\n  As you reach the bottom of the\n  <em>\n   relentless avalanche of machine parts\n  </em>\n  , you discover that they're already forming a formidable heap. Don't worry, though - a group of Elves is already here organizing the parts, and they have a\n  <span title=\"This part sparks joy. This part sparks joy. This part ALSO sparks joy... I think we need a different system.\">\n   <em>\n    system\n   </em>\n  </span>\n  .\n </p>\n <p>\n  To start, each part is rated in each of four categories:\n </p>\n <ul>\n  <li>\n   <code>\n    x\n   </code>\n   : E\n   <em>\n    x\n   </em>\n   tremely cool looking\n  </li>\n  <li>\n   <code>\n    m\n   </code>\n   :\n   <em>\n    M\n   </em>\n   usical (it makes a noise when you hit it)\n  </li>\n  <li>\n   <code>\n    a\n   </code>\n   :\n   <em>\n    A\n   </em>\n   erodynamic\n  </li>\n  <li>\n   <code>\n    s\n   </code>\n   :\n   <em>\n    S\n   </em>\n   hiny\n  </li>\n </ul>\n <p>\n  Then, each part is sent through a series of\n  <em>\n   workflows\n  </em>\n  that will ultimately\n  <em>\n   accept\n  </em>\n  or\n  <em>\n   reject\n  </em>\n  the part. Each workflow has a name and contains a list of\n  <em>\n   rules\n  </em>\n  ; each rule specifies a condition and where to send the part if the condition is true. The first rule that matches the part being considered is applied immediately, and the part moves on to the destination described by the rule. (The last rule in each workflow has no condition and always applies if reached.)\n </p>\n <p>\n  Consider the workflow\n  <code>\n   ex{x&gt;10:one,m&lt;20:two,a&gt;30:R,A}\n  </code>\n  . This workflow is named\n  <code>\n   ex\n  </code>\n  and contains four rules. If workflow\n  <code>\n   ex\n  </code>\n  were considering a specific part, it would perform the following steps in order:\n </p>\n <ul>\n  <li>\n   Rule \"\n   <code>\n    x&gt;10:one\n   </code>\n   \": If the part's\n   <code>\n    x\n   </code>\n   is more than\n   <code>\n    10\n   </code>\n   , send the part to the workflow named\n   <code>\n    one\n   </code>\n   .\n  </li>\n  <li>\n   Rule \"\n   <code>\n    m&lt;20:two\n   </code>\n   \": Otherwise, if the part's\n   <code>\n    m\n   </code>\n   is less than\n   <code>\n    20\n   </code>\n   , send the part to the workflow named\n   <code>\n    two\n   </code>\n   .\n  </li>\n  <li>\n   Rule \"\n   <code>\n    a&gt;30:R\n   </code>\n   \": Otherwise, if the part's\n   <code>\n    a\n   </code>\n   is more than\n   <code>\n    30\n   </code>\n   , the part is immediately\n   <em>\n    rejected\n   </em>\n   (\n   <code>\n    R\n   </code>\n   ).\n  </li>\n  <li>\n   Rule \"\n   <code>\n    A\n   </code>\n   \": Otherwise, because no other rules matched the part, the part is immediately\n   <em>\n    accepted\n   </em>\n   (\n   <code>\n    A\n   </code>\n   ).\n  </li>\n </ul>\n <p>\n  If a part is sent to another workflow, it immediately switches to the start of that workflow instead and never returns. If a part is\n  <em>\n   accepted\n  </em>\n  (sent to\n  <code>\n   A\n  </code>\n  ) or\n  <em>\n   rejected\n  </em>\n  (sent to\n  <code>\n   R\n  </code>\n  ), the part immediately stops any further processing.\n </p>\n <p>\n  The system works, but it's not keeping up with the torrent of weird metal shapes. The Elves ask if you can help sort a few parts and give you the list of workflows and some part ratings (your puzzle input). For example:\n </p>\n <pre><code>px{a&lt;2006:qkq,m&gt;2090:A,rfg}\npv{a&gt;1716:R,A}\nlnx{m&gt;1548:A,A}\nrfg{s&lt;537:gd,x&gt;2440:R,A}\nqs{s&gt;3448:A,lnx}\nqkq{x&lt;1416:A,crn}\ncrn{x&gt;2662:A,R}\nin{s&lt;1351:px,qqz}\nqqz{s&gt;2770:qs,m&lt;1801:hdj,R}\ngd{a&gt;3333:R,R}\nhdj{m&gt;838:A,pv}\n\n{x=787,m=2655,a=1222,s=2876}\n{x=1679,m=44,a=2067,s=496}\n{x=2036,m=264,a=79,s=2244}\n{x=2461,m=1339,a=466,s=291}\n{x=2127,m=1623,a=2188,s=1013}\n</code></pre>\n <p>\n  The workflows are listed first, followed by a blank line, then the ratings of the parts the Elves would like you to sort. All parts begin in the workflow named\n  <code>\n   in\n  </code>\n  . In this example, the five listed parts go through the following workflows:\n </p>\n <ul>\n  <li>\n   <code>\n    {x=787,m=2655,a=1222,s=2876}\n   </code>\n   :\n   <code>\n    in\n   </code>\n   -&gt;\n   <code>\n    qqz\n   </code>\n   -&gt;\n   <code>\n    qs\n   </code>\n   -&gt;\n   <code>\n    lnx\n   </code>\n   -&gt;\n   <code>\n    <em>\n     A\n    </em>\n   </code>\n  </li>\n  <li>\n   <code>\n    {x=1679,m=44,a=2067,s=496}\n   </code>\n   :\n   <code>\n    in\n   </code>\n   -&gt;\n   <code>\n    px\n   </code>\n   -&gt;\n   <code>\n    rfg\n   </code>\n   -&gt;\n   <code>\n    gd\n   </code>\n   -&gt;\n   <code>\n    <em>\n     R\n    </em>\n   </code>\n  </li>\n  <li>\n   <code>\n    {x=2036,m=264,a=79,s=2244}\n   </code>\n   :\n   <code>\n    in\n   </code>\n   -&gt;\n   <code>\n    qqz\n   </code>\n   -&gt;\n   <code>\n    hdj\n   </code>\n   -&gt;\n   <code>\n    pv\n   </code>\n   -&gt;\n   <code>\n    <em>\n     A\n    </em>\n   </code>\n  </li>\n  <li>\n   <code>\n    {x=2461,m=1339,a=466,s=291}\n   </code>\n   :\n   <code>\n    in\n   </code>\n   -&gt;\n   <code>\n    px\n   </code>\n   -&gt;\n   <code>\n    qkq\n   </code>\n   -&gt;\n   <code>\n    crn\n   </code>\n   -&gt;\n   <code>\n    <em>\n     R\n    </em>\n   </code>\n  </li>\n  <li>\n   <code>\n    {x=2127,m=1623,a=2188,s=1013}\n   </code>\n   :\n   <code>\n    in\n   </code>\n   -&gt;\n   <code>\n    px\n   </code>\n   -&gt;\n   <code>\n    rfg\n   </code>\n   -&gt;\n   <code>\n    <em>\n     A\n    </em>\n   </code>\n  </li>\n </ul>\n <p>\n  Ultimately, three parts are\n  <em>\n   accepted\n  </em>\n  . Adding up the\n  <code>\n   x\n  </code>\n  ,\n  <code>\n   m\n  </code>\n  ,\n  <code>\n   a\n  </code>\n  , and\n  <code>\n   s\n  </code>\n  rating for each of the accepted parts gives\n  <code>\n   7540\n  </code>\n  for the part with\n  <code>\n   x=787\n  </code>\n  ,\n  <code>\n   4623\n  </code>\n  for the part with\n  <code>\n   x=2036\n  </code>\n  , and\n  <code>\n   6951\n  </code>\n  for the part with\n  <code>\n   x=2127\n  </code>\n  . Adding all of the ratings for\n  <em>\n   all\n  </em>\n  of the accepted parts gives the sum total of\n  <code>\n   <em>\n    19114\n   </em>\n  </code>\n  .\n </p>\n <p>\n  Sort through all of the parts you've been given;\n  <em>\n   what do you get if you add together all of the rating numbers for all of the parts that ultimately get accepted?\n  </em>\n </p>\n</article>\n"
            ]
        },
        {
            "cell_type": "code",
            "execution_count": null,
            "metadata": {},
            "outputs": [],
            "source": [
                "import helpers\n",
                "from tqdm.notebook import tqdm\n",
                "import numpy as np\n",
                "import re"
            ]
        },
        {
            "cell_type": "code",
            "execution_count": null,
            "metadata": {},
            "outputs": [],
            "source": [
                "puzzle_input = helpers.import_input(19)"
            ]
        },
        {
            "cell_type": "markdown",
            "metadata": {},
            "source": [
                "## Part 1"
            ]
        },
        {
            "cell_type": "code",
            "execution_count": null,
            "metadata": {},
            "outputs": [],
            "source": [
                "test_puzzle_input_part_1 = \"\"\"ex{x>10:one,m<20:two,a>30:R,A}\"\"\".splitlines()"
            ]
        },
        {
            "cell_type": "code",
            "execution_count": null,
            "metadata": {},
            "outputs": [],
            "source": [
                "def part_1(input):\n",
                "    return None\n",
                "\n",
                "assert part_1(test_puzzle_input_part_1) == 19114"
            ]
        },
        {
            "cell_type": "code",
            "execution_count": null,
            "metadata": {},
            "outputs": [],
            "source": [
                "part_1(puzzle_input)"
            ]
        },
        {
            "cell_type": "markdown",
            "metadata": {},
            "source": [
                "## Part 2"
            ]
        },
        {
            "cell_type": "code",
            "execution_count": null,
            "metadata": {},
            "outputs": [],
            "source": [
                "test_puzzle_input_part_2 = \"\"\"\n",
                "\"\"\".splitlines()"
            ]
        },
        {
            "cell_type": "code",
            "execution_count": null,
            "metadata": {},
            "outputs": [],
            "source": [
                "def part_2(input):\n",
                "    return None\n",
                "\n",
                "assert part_2(test_puzzle_input_part_2) == None"
            ]
        },
        {
            "cell_type": "code",
            "execution_count": null,
            "metadata": {},
            "outputs": [],
            "source": [
                "part_2(puzzle_input)"
            ]
        }
    ],
    "metadata": {
        "kernelspec": {
            "display_name": "Python 3",
            "language": "python",
            "name": "python3"
        },
        "language_info": {
            "codemirror_mode": {
                "name": "ipython",
                "version": 3
            },
            "file_extension": ".py",
            "mimetype": "text/x-python",
            "name": "python",
            "nbconvert_exporter": "python",
            "pygments_lexer": "ipython3",
            "version": "3.11.0"
        }
    },
    "nbformat": 4,
    "nbformat_minor": 2
}