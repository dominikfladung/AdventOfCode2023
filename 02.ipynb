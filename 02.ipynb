{
    "cells": [
        {
            "cell_type": "markdown",
            "metadata": {},
            "source": [
                "[Day 2 - Advent of Code 2023](https://adventofcode.com/2023/day/2)\n",
                "\n",
                "<article class=\"day-desc\">\n",
                " <h2>\n",
                "  --- Day 2: Cube Conundrum ---\n",
                " </h2>\n",
                " <p>\n",
                "  You're launched high into the atmosphere! The apex of your trajectory just barely reaches the surface of a large island floating in the sky. You gently land in a fluffy pile of leaves. It's quite cold, but you don't see much snow. An Elf runs over to greet you.\n",
                " </p>\n",
                " <p>\n",
                "  The Elf explains that you've arrived at\n",
                "  <em>\n",
                "   Snow Island\n",
                "  </em>\n",
                "  and apologizes for the lack of snow. He'll be happy to explain the situation, but it's a bit of a walk, so you have some time. They don't get many visitors up here;\n",
                "  <span title=\"No, the Elf's name is not 'WOPR'. It's Joshua.\">\n",
                "   would you like to play a game\n",
                "  </span>\n",
                "  in the meantime?\n",
                " </p>\n",
                " <p>\n",
                "  As you walk, the Elf shows you a small bag and some cubes which are either red, green, or blue. Each time you play this game, he will hide a secret number of cubes of each color in the bag, and your goal is to figure out information about the number of cubes.\n",
                " </p>\n",
                " <p>\n",
                "  To get information, once a bag has been loaded with cubes, the Elf will reach into the bag, grab a handful of random cubes, show them to you, and then put them back in the bag. He'll do this a few times per game.\n",
                " </p>\n",
                " <p>\n",
                "  You play several games and record the information from each game (your puzzle input). Each game is listed with its ID number (like the\n",
                "  <code>\n",
                "   11\n",
                "  </code>\n",
                "  in\n",
                "  <code>\n",
                "   Game 11: ...\n",
                "  </code>\n",
                "  ) followed by a semicolon-separated list of subsets of cubes that were revealed from the bag (like\n",
                "  <code>\n",
                "   3 red, 5 green, 4 blue\n",
                "  </code>\n",
                "  ).\n",
                " </p>\n",
                " <p>\n",
                "  For example, the record of a few games might look like this:\n",
                " </p>\n",
                " <pre><code>Game 1: 3 blue, 4 red; 1 red, 2 green, 6 blue; 2 green\n",
                "Game 2: 1 blue, 2 green; 3 green, 4 blue, 1 red; 1 green, 1 blue\n",
                "Game 3: 8 green, 6 blue, 20 red; 5 blue, 4 red, 13 green; 5 green, 1 red\n",
                "Game 4: 1 green, 3 red, 6 blue; 3 green, 6 red; 3 green, 15 blue, 14 red\n",
                "Game 5: 6 red, 1 blue, 3 green; 2 blue, 1 red, 2 green\n",
                "</code></pre>\n",
                " <p>\n",
                "  In game 1, three sets of cubes are revealed from the bag (and then put back again). The first set is 3 blue cubes and 4 red cubes; the second set is 1 red cube, 2 green cubes, and 6 blue cubes; the third set is only 2 green cubes.\n",
                " </p>\n",
                " <p>\n",
                "  The Elf would first like to know which games would have been possible if the bag contained\n",
                "  <em>\n",
                "   only 12 red cubes, 13 green cubes, and 14 blue cubes\n",
                "  </em>\n",
                "  ?\n",
                " </p>\n",
                " <p>\n",
                "  In the example above, games 1, 2, and 5 would have been\n",
                "  <em>\n",
                "   possible\n",
                "  </em>\n",
                "  if the bag had been loaded with that configuration. However, game 3 would have been\n",
                "  <em>\n",
                "   impossible\n",
                "  </em>\n",
                "  because at one point the Elf showed you 20 red cubes at once; similarly, game 4 would also have been\n",
                "  <em>\n",
                "   impossible\n",
                "  </em>\n",
                "  because the Elf showed you 15 blue cubes at once. If you add up the IDs of the games that would have been possible, you get\n",
                "  <code>\n",
                "   <em>\n",
                "    8\n",
                "   </em>\n",
                "  </code>\n",
                "  .\n",
                " </p>\n",
                " <p>\n",
                "  Determine which games would have been possible if the bag had been loaded with only 12 red cubes, 13 green cubes, and 14 blue cubes.\n",
                "  <em>\n",
                "   What is the sum of the IDs of those games?\n",
                "  </em>\n",
                " </p>\n",
                "</article>\n"
            ]
        },
        {
            "cell_type": "code",
            "execution_count": 1,
            "metadata": {},
            "outputs": [],
            "source": [
                "import helpers\n",
                "from tqdm.notebook import tqdm\n",
                "import numpy as np"
            ]
        },
        {
            "cell_type": "code",
            "execution_count": 2,
            "metadata": {},
            "outputs": [],
            "source": [
                "puzzle_input = helpers.import_input(2)"
            ]
        },
        {
            "cell_type": "markdown",
            "metadata": {},
            "source": [
                "## Part 1"
            ]
        },
        {
            "cell_type": "code",
            "execution_count": 3,
            "metadata": {},
            "outputs": [],
            "source": [
                "test_puzzle_input_part_1 = \"\"\"Game 1: 3 blue, 4 red; 1 red, 2 green, 6 blue; 2 green\n",
                "Game 2: 1 blue, 2 green; 3 green, 4 blue, 1 red; 1 green, 1 blue\n",
                "Game 3: 8 green, 6 blue, 20 red; 5 blue, 4 red, 13 green; 5 green, 1 red\n",
                "Game 4: 1 green, 3 red, 6 blue; 3 green, 6 red; 3 green, 15 blue, 14 red\n",
                "Game 5: 6 red, 1 blue, 3 green; 2 blue, 1 red, 2 green\"\"\".splitlines()"
            ]
        },
        {
            "cell_type": "code",
            "execution_count": 4,
            "metadata": {},
            "outputs": [],
            "source": [
                "class Game:\n",
                "    def __init__(self, row):\n",
                "        self.row = row\n",
                "        self.parse_input(row)\n",
                "\n",
                "    def parse_input(self, row):\n",
                "        parts = row.split(\":\")\n",
                "        self.id = int(parts[0].replace(\"Game \", \"\"))\n",
                "        self.rounds = [Round(x) for x in parts[1].split(\";\")]\n",
                "\n",
                "    def is_possible(self, max_red, max_blue, max_green):\n",
                "        return len([x for x in self.rounds if x.is_possible(max_red, max_blue, max_green)]) == len(self.rounds)\n",
                "\n",
                "    def get_power(self):\n",
                "        red = max([x.red for x in self.rounds])\n",
                "        blue = max([x.blue for x in self.rounds])\n",
                "        green = max([x.green for x in self.rounds])\n",
                "        return red * blue * green\n",
                "\n",
                "class Round:\n",
                "    green = 0\n",
                "    blue = 0\n",
                "    red = 0\n",
                "\n",
                "    def __init__(self, round):\n",
                "        self.round = round\n",
                "        self.parse_input(round)\n",
                "\n",
                "    def parse_input(self, row):\n",
                "        parts = row.strip().split(\", \")\n",
                "        for part in parts:\n",
                "            if \"red\" in part:\n",
                "                self.red = int(part.split(\" \")[0])\n",
                "            elif \"blue\" in part:\n",
                "                self.blue = int(part.split(\" \")[0])\n",
                "            elif \"green\" in part:\n",
                "                self.green = int(part.split(\" \")[0])\n",
                "\n",
                "    def is_possible(self, max_red, max_blue, max_green):\n",
                "        return self.red <= max_red and self.blue <= max_blue and self.green <= max_green\n",
                "                \n",
                "def part_1(input, max_red, max_blue, max_green):\n",
                "    games = [Game(x) for x in input]\n",
                "    possible_games = [x for x in games if x.is_possible(max_red, max_blue, max_green)]\n",
                "    ids = [x.id for x in possible_games]\n",
                "    return sum(ids)\n",
                "\n",
                "assert part_1(test_puzzle_input_part_1, 12, 14, 13) == 8"
            ]
        },
        {
            "cell_type": "code",
            "execution_count": 5,
            "metadata": {},
            "outputs": [
                {
                    "data": {
                        "text/plain": [
                            "2169"
                        ]
                    },
                    "execution_count": 5,
                    "metadata": {},
                    "output_type": "execute_result"
                }
            ],
            "source": [
                "part_1(puzzle_input, 12, 14, 13)"
            ]
        },
        {
            "cell_type": "markdown",
            "metadata": {},
            "source": [
                "## Part 2\n",
                "\n",
                "--- Part Two ---\n",
                "\n",
                "The Elf says they've stopped producing snow because they aren't getting any water! He isn't sure why the water stopped; however, he can show you how to get to the water source to check it out for yourself. It's just up ahead!\n",
                "\n",
                "As you continue your walk, the Elf poses a second question: in each game you played, what is the fewest number of cubes of each color that could have been in the bag to make the game possible?"
            ]
        },
        {
            "cell_type": "code",
            "execution_count": 6,
            "metadata": {},
            "outputs": [],
            "source": [
                "test_puzzle_input_part_2 = \"\"\"Game 1: 3 blue, 4 red; 1 red, 2 green, 6 blue; 2 green\n",
                "Game 2: 1 blue, 2 green; 3 green, 4 blue, 1 red; 1 green, 1 blue\n",
                "Game 3: 8 green, 6 blue, 20 red; 5 blue, 4 red, 13 green; 5 green, 1 red\n",
                "Game 4: 1 green, 3 red, 6 blue; 3 green, 6 red; 3 green, 15 blue, 14 red\n",
                "Game 5: 6 red, 1 blue, 3 green; 2 blue, 1 red, 2 green\n",
                "\"\"\".splitlines()"
            ]
        },
        {
            "cell_type": "code",
            "execution_count": 7,
            "metadata": {},
            "outputs": [],
            "source": [
                "def part_2(input):\n",
                "    games = [Game(x) for x in input]\n",
                "    powers = [x.get_power() for x in games]\n",
                "    return sum(powers)\n",
                "    \n",
                "    \n",
                "\n",
                "assert part_2(test_puzzle_input_part_2) == 2286"
            ]
        },
        {
            "cell_type": "code",
            "execution_count": 8,
            "metadata": {},
            "outputs": [
                {
                    "data": {
                        "text/plain": [
                            "60948"
                        ]
                    },
                    "execution_count": 8,
                    "metadata": {},
                    "output_type": "execute_result"
                }
            ],
            "source": [
                "part_2(puzzle_input)"
            ]
        }
    ],
    "metadata": {
        "kernelspec": {
            "display_name": "Python 3",
            "language": "python",
            "name": "python3"
        },
        "language_info": {
            "codemirror_mode": {
                "name": "ipython",
                "version": 3
            },
            "file_extension": ".py",
            "mimetype": "text/x-python",
            "name": "python",
            "nbconvert_exporter": "python",
            "pygments_lexer": "ipython3",
            "version": "3.10.11"
        }
    },
    "nbformat": 4,
    "nbformat_minor": 2
}
