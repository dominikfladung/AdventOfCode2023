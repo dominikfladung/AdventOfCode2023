{
    "cells": [
        {
            "cell_type": "markdown",
            "metadata": {},
            "source": [
                "[Day 15 - Advent of Code 2023](https://adventofcode.com/2023/day/15)\n",
                "\n",
                "<article class=\"day-desc\">\n <h2>\n  --- Day 15: Lens Library ---\n </h2>\n <p>\n  The newly-focused parabolic reflector dish is sending all of the collected light to a point on the side of yet another mountain - the largest mountain on Lava Island. As you approach the mountain, you find that the light is being collected by the wall of a large facility embedded in the mountainside.\n </p>\n <p>\n  You find a door under a large sign that says \"Lava Production Facility\" and next to a smaller sign that says \"Danger - Personal Protective Equipment required beyond this point\".\n </p>\n <p>\n  As you step inside, you are immediately greeted by a somewhat panicked\n  <span title=\"do you like my hard hat\">\n   reindeer\n  </span>\n  wearing goggles and a loose-fitting\n  <a href=\"https://en.wikipedia.org/wiki/Hard_hat\" target=\"_blank\">\n   hard hat\n  </a>\n  . The reindeer leads you to a shelf of goggles and hard hats (you quickly find some that fit) and then further into the facility. At one point, you pass a button with a faint snout mark and the label \"PUSH FOR HELP\". No wonder you were loaded into that\n  <a href=\"1\">\n   trebuchet\n  </a>\n  so quickly!\n </p>\n <p>\n  You pass through a final set of doors surrounded with even more warning signs and into what must be the room that collects all of the light from outside. As you admire the large assortment of lenses available to further focus the light, the reindeer brings you a book titled \"Initialization Manual\".\n </p>\n <p>\n  \"Hello!\", the book cheerfully begins, apparently unaware of the concerned reindeer reading over your shoulder. \"This procedure will let you bring the Lava Production Facility online - all without burning or melting anything unintended!\"\n </p>\n <p>\n  \"Before you begin, please be prepared to use the Holiday ASCII String Helper algorithm (appendix 1A).\" You turn to appendix 1A. The reindeer leans closer with interest.\n </p>\n <p>\n  The HASH algorithm is a way to turn any\n  <a href=\"https://en.wikipedia.org/wiki/String_(computer_science)\" target=\"_blank\">\n   string\n  </a>\n  of characters into a single\n  <em>\n   number\n  </em>\n  in the range 0 to 255. To run the HASH algorithm on a string, start with a\n  <em>\n   current value\n  </em>\n  of\n  <code>\n   0\n  </code>\n  . Then, for each character in the string starting from the beginning:\n </p>\n <ul>\n  <li>\n   Determine the\n   <a href=\"https://en.wikipedia.org/wiki/ASCII#Printable_characters\" target=\"_blank\">\n    ASCII code\n   </a>\n   for the current character of the string.\n  </li>\n  <li>\n   Increase the\n   <em>\n    current value\n   </em>\n   by the ASCII code you just determined.\n  </li>\n  <li>\n   Set the\n   <em>\n    current value\n   </em>\n   to itself multiplied by\n   <code>\n    17\n   </code>\n   .\n  </li>\n  <li>\n   Set the\n   <em>\n    current value\n   </em>\n   to the\n   <a href=\"https://en.wikipedia.org/wiki/Modulo\" target=\"_blank\">\n    remainder\n   </a>\n   of dividing itself by\n   <code>\n    256\n   </code>\n   .\n  </li>\n </ul>\n <p>\n  After following these steps for each character in the string in order, the\n  <em>\n   current value\n  </em>\n  is the output of the HASH algorithm.\n </p>\n <p>\n  So, to find the result of running the HASH algorithm on the string\n  <code>\n   HASH\n  </code>\n  :\n </p>\n <ul>\n  <li>\n   The\n   <em>\n    current value\n   </em>\n   starts at\n   <code>\n    0\n   </code>\n   .\n  </li>\n  <li>\n   The first character is\n   <code>\n    H\n   </code>\n   ; its ASCII code is\n   <code>\n    72\n   </code>\n   .\n  </li>\n  <li>\n   The\n   <em>\n    current value\n   </em>\n   increases to\n   <code>\n    72\n   </code>\n   .\n  </li>\n  <li>\n   The\n   <em>\n    current value\n   </em>\n   is multiplied by\n   <code>\n    17\n   </code>\n   to become\n   <code>\n    1224\n   </code>\n   .\n  </li>\n  <li>\n   The\n   <em>\n    current value\n   </em>\n   becomes\n   <code>\n    <em>\n     200\n    </em>\n   </code>\n   (the remainder of\n   <code>\n    1224\n   </code>\n   divided by\n   <code>\n    256\n   </code>\n   ).\n  </li>\n  <li>\n   The next character is\n   <code>\n    A\n   </code>\n   ; its ASCII code is\n   <code>\n    65\n   </code>\n   .\n  </li>\n  <li>\n   The\n   <em>\n    current value\n   </em>\n   increases to\n   <code>\n    265\n   </code>\n   .\n  </li>\n  <li>\n   The\n   <em>\n    current value\n   </em>\n   is multiplied by\n   <code>\n    17\n   </code>\n   to become\n   <code>\n    4505\n   </code>\n   .\n  </li>\n  <li>\n   The\n   <em>\n    current value\n   </em>\n   becomes\n   <code>\n    <em>\n     153\n    </em>\n   </code>\n   (the remainder of\n   <code>\n    4505\n   </code>\n   divided by\n   <code>\n    256\n   </code>\n   ).\n  </li>\n  <li>\n   The next character is\n   <code>\n    S\n   </code>\n   ; its ASCII code is\n   <code>\n    83\n   </code>\n   .\n  </li>\n  <li>\n   The\n   <em>\n    current value\n   </em>\n   increases to\n   <code>\n    236\n   </code>\n   .\n  </li>\n  <li>\n   The\n   <em>\n    current value\n   </em>\n   is multiplied by\n   <code>\n    17\n   </code>\n   to become\n   <code>\n    4012\n   </code>\n   .\n  </li>\n  <li>\n   The\n   <em>\n    current value\n   </em>\n   becomes\n   <code>\n    <em>\n     172\n    </em>\n   </code>\n   (the remainder of\n   <code>\n    4012\n   </code>\n   divided by\n   <code>\n    256\n   </code>\n   ).\n  </li>\n  <li>\n   The next character is\n   <code>\n    H\n   </code>\n   ; its ASCII code is\n   <code>\n    72\n   </code>\n   .\n  </li>\n  <li>\n   The\n   <em>\n    current value\n   </em>\n   increases to\n   <code>\n    244\n   </code>\n   .\n  </li>\n  <li>\n   The\n   <em>\n    current value\n   </em>\n   is multiplied by\n   <code>\n    17\n   </code>\n   to become\n   <code>\n    4148\n   </code>\n   .\n  </li>\n  <li>\n   The\n   <em>\n    current value\n   </em>\n   becomes\n   <code>\n    <em>\n     52\n    </em>\n   </code>\n   (the remainder of\n   <code>\n    4148\n   </code>\n   divided by\n   <code>\n    256\n   </code>\n   ).\n  </li>\n </ul>\n <p>\n  So, the result of running the HASH algorithm on the string\n  <code>\n   HASH\n  </code>\n  is\n  <code>\n   <em>\n    52\n   </em>\n  </code>\n  .\n </p>\n <p>\n  The\n  <em>\n   initialization sequence\n  </em>\n  (your puzzle input) is a comma-separated list of steps to start the Lava Production Facility.\n  <em>\n   Ignore newline characters\n  </em>\n  when parsing the initialization sequence. To verify that your HASH algorithm is working, the book offers the sum of the result of running the HASH algorithm on each step in the initialization sequence.\n </p>\n <p>\n  For example:\n </p>\n <pre><code>rn=1,cm-,qp=3,cm=2,qp-,pc=4,ot=9,ab=5,pc-,pc=6,ot=7</code></pre>\n <p>\n  This initialization sequence specifies 11 individual steps; the result of running the HASH algorithm on each of the steps is as follows:\n </p>\n <ul>\n  <li>\n   <code>\n    rn=1\n   </code>\n   becomes\n   <code>\n    <em>\n     30\n    </em>\n   </code>\n   .\n  </li>\n  <li>\n   <code>\n    cm-\n   </code>\n   becomes\n   <code>\n    <em>\n     253\n    </em>\n   </code>\n   .\n  </li>\n  <li>\n   <code>\n    qp=3\n   </code>\n   becomes\n   <code>\n    <em>\n     97\n    </em>\n   </code>\n   .\n  </li>\n  <li>\n   <code>\n    cm=2\n   </code>\n   becomes\n   <code>\n    <em>\n     47\n    </em>\n   </code>\n   .\n  </li>\n  <li>\n   <code>\n    qp-\n   </code>\n   becomes\n   <code>\n    <em>\n     14\n    </em>\n   </code>\n   .\n  </li>\n  <li>\n   <code>\n    pc=4\n   </code>\n   becomes\n   <code>\n    <em>\n     180\n    </em>\n   </code>\n   .\n  </li>\n  <li>\n   <code>\n    ot=9\n   </code>\n   becomes\n   <code>\n    <em>\n     9\n    </em>\n   </code>\n   .\n  </li>\n  <li>\n   <code>\n    ab=5\n   </code>\n   becomes\n   <code>\n    <em>\n     197\n    </em>\n   </code>\n   .\n  </li>\n  <li>\n   <code>\n    pc-\n   </code>\n   becomes\n   <code>\n    <em>\n     48\n    </em>\n   </code>\n   .\n  </li>\n  <li>\n   <code>\n    pc=6\n   </code>\n   becomes\n   <code>\n    <em>\n     214\n    </em>\n   </code>\n   .\n  </li>\n  <li>\n   <code>\n    ot=7\n   </code>\n   becomes\n   <code>\n    <em>\n     231\n    </em>\n   </code>\n   .\n  </li>\n </ul>\n <p>\n  In this example, the sum of these results is\n  <code>\n   <em>\n    1320\n   </em>\n  </code>\n  . Unfortunately, the reindeer has stolen the page containing the expected verification number and is currently running around the facility with it excitedly.\n </p>\n <p>\n  Run the HASH algorithm on each step in the initialization sequence.\n  <em>\n   What is the sum of the results?\n  </em>\n  (The initialization sequence is one long line; be careful when copy-pasting it.)\n </p>\n</article>\n"
            ]
        },
        {
            "cell_type": "code",
            "execution_count": null,
            "metadata": {},
            "outputs": [],
            "source": [
                "import helpers\n",
                "from tqdm.notebook import tqdm\n",
                "import numpy as np\n",
                "import re"
            ]
        },
        {
            "cell_type": "code",
            "execution_count": null,
            "metadata": {},
            "outputs": [],
            "source": [
                "puzzle_input = helpers.import_input(15)"
            ]
        },
        {
            "cell_type": "markdown",
            "metadata": {},
            "source": [
                "## Part 1"
            ]
        },
        {
            "cell_type": "code",
            "execution_count": null,
            "metadata": {},
            "outputs": [],
            "source": [
                "test_puzzle_input_part_1 = \"\"\"rn=1,cm-,qp=3,cm=2,qp-,pc=4,ot=9,ab=5,pc-,pc=6,ot=7\"\"\".splitlines()"
            ]
        },
        {
            "cell_type": "code",
            "execution_count": null,
            "metadata": {},
            "outputs": [],
            "source": [
                "def part_1(input):\n",
                "    return None\n",
                "\n",
                "assert part_1(test_puzzle_input_part_1) == 1320"
            ]
        },
        {
            "cell_type": "code",
            "execution_count": null,
            "metadata": {},
            "outputs": [],
            "source": [
                "part_1(puzzle_input)"
            ]
        },
        {
            "cell_type": "markdown",
            "metadata": {},
            "source": [
                "## Part 2"
            ]
        },
        {
            "cell_type": "code",
            "execution_count": null,
            "metadata": {},
            "outputs": [],
            "source": [
                "test_puzzle_input_part_2 = \"\"\"\n",
                "\"\"\".splitlines()"
            ]
        },
        {
            "cell_type": "code",
            "execution_count": null,
            "metadata": {},
            "outputs": [],
            "source": [
                "def part_2(input):\n",
                "    return None\n",
                "\n",
                "assert part_2(test_puzzle_input_part_2) == None"
            ]
        },
        {
            "cell_type": "code",
            "execution_count": null,
            "metadata": {},
            "outputs": [],
            "source": [
                "part_2(puzzle_input)"
            ]
        }
    ],
    "metadata": {
        "kernelspec": {
            "display_name": "Python 3",
            "language": "python",
            "name": "python3"
        },
        "language_info": {
            "codemirror_mode": {
                "name": "ipython",
                "version": 3
            },
            "file_extension": ".py",
            "mimetype": "text/x-python",
            "name": "python",
            "nbconvert_exporter": "python",
            "pygments_lexer": "ipython3",
            "version": "3.11.0"
        }
    },
    "nbformat": 4,
    "nbformat_minor": 2
}