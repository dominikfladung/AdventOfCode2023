{
    "cells": [
        {
            "cell_type": "markdown",
            "metadata": {},
            "source": [
                "[Day 13 - Advent of Code 2023](https://adventofcode.com/2023/day/13)\n",
                "\n",
                "<article class=\"day-desc\">\n <h2>\n  --- Day 13: Point of Incidence ---\n </h2>\n <p>\n  With your help, the hot springs team locates an appropriate spring which launches you neatly and precisely up to the edge of\n  <em>\n   Lava Island\n  </em>\n  .\n </p>\n <p>\n  There's just one problem: you don't see any\n  <em>\n   lava\n  </em>\n  .\n </p>\n <p>\n  You\n  <em>\n   do\n  </em>\n  see a lot of ash and igneous rock; there are even what look like gray mountains scattered around. After a while, you make your way to a nearby cluster of mountains only to discover that the valley between them is completely full of large\n  <em>\n   mirrors\n  </em>\n  .  Most of the mirrors seem to be aligned in a consistent way; perhaps you should head in that direction?\n </p>\n <p>\n  As you move through the valley of mirrors, you find that several of them have fallen from the large metal frames keeping them in place. The mirrors are extremely flat and shiny, and many of the fallen mirrors have lodged into the ash at strange angles. Because the terrain is all one color, it's hard to tell where it's safe to walk or where you're about to run into a mirror.\n </p>\n <p>\n  You note down the patterns of ash (\n  <code>\n   .\n  </code>\n  ) and rocks (\n  <code>\n   #\n  </code>\n  ) that you see as you walk (your puzzle input); perhaps by carefully analyzing these patterns, you can figure out where the mirrors are!\n </p>\n <p>\n  For example:\n </p>\n <pre><code>#.##..##.\n..#.##.#.\n##......#\n##......#\n..#.##.#.\n..##..##.\n#.#.##.#.\n\n#...##..#\n#....#..#\n..##..###\n#####.##.\n#####.##.\n..##..###\n#....#..#\n</code></pre>\n <p>\n  To find the reflection in each pattern, you need to find a perfect reflection across either a horizontal line between two rows or across a vertical line between two columns.\n </p>\n <p>\n  In the first pattern, the reflection is across a vertical line between two columns; arrows on each of the two columns point at the line between the columns:\n </p>\n <pre><code>123456789\n    &gt;&lt;   \n#.##..##.\n..#.##.#.\n##......#\n##......#\n..#.##.#.\n..##..##.\n#.#.##.#.\n    &gt;&lt;   \n123456789\n</code></pre>\n <p>\n  In this pattern, the line of reflection is the vertical line between columns 5 and 6. Because the vertical line is not perfectly in the middle of the pattern, part of the pattern (column 1) has nowhere to reflect onto and can be ignored; every other column has a reflected column within the pattern and must match exactly: column 2 matches column 9, column 3 matches 8, 4 matches 7, and 5 matches 6.\n </p>\n <p>\n  The second pattern reflects across a horizontal line instead:\n </p>\n <pre><code>1 #...##..# 1\n2 #....#..# 2\n3 ..##..### 3\n4v#####.##.v4\n5^#####.##.^5\n6 ..##..### 6\n7 #....#..# 7\n</code></pre>\n <p>\n  This pattern reflects across the horizontal line between rows 4 and 5. Row 1 would reflect with a hypothetical row 8, but since that's not in the pattern, row 1 doesn't need to match anything. The remaining rows match: row 2 matches row 7, row 3 matches row 6, and row 4 matches row 5.\n </p>\n <p>\n  To\n  <em>\n   summarize\n  </em>\n  your pattern notes, add up\n  <em>\n   the number of columns\n  </em>\n  to the left of each vertical line of reflection; to that, also add\n  <em>\n   100 multiplied by the number of rows\n  </em>\n  above each horizontal line of reflection. In the above example, the first pattern's vertical line has\n  <code>\n   5\n  </code>\n  columns to its left and the second pattern's horizontal line has\n  <code>\n   4\n  </code>\n  rows above it, a total of\n  <code>\n   <em>\n    405\n   </em>\n  </code>\n  .\n </p>\n <p>\n  Find the line of reflection in each of the patterns in your notes.\n  <em>\n   What number do you get after summarizing all of your notes?\n  </em>\n </p>\n</article>\n"
            ]
        },
        {
            "cell_type": "code",
            "execution_count": null,
            "metadata": {},
            "outputs": [],
            "source": [
                "import helpers\n",
                "from tqdm.notebook import tqdm\n",
                "import numpy as np\n",
                "import re"
            ]
        },
        {
            "cell_type": "code",
            "execution_count": null,
            "metadata": {},
            "outputs": [],
            "source": [
                "puzzle_input = helpers.import_input(13)"
            ]
        },
        {
            "cell_type": "markdown",
            "metadata": {},
            "source": [
                "## Part 1"
            ]
        },
        {
            "cell_type": "code",
            "execution_count": null,
            "metadata": {},
            "outputs": [],
            "source": [
                "test_puzzle_input_part_1 = \"\"\"#.##..##.\n..#.##.#.\n##......#\n##......#\n..#.##.#.\n..##..##.\n#.#.##.#.\n\n#...##..#\n#....#..#\n..##..###\n#####.##.\n#####.##.\n..##..###\n#....#..#\n\"\"\".splitlines()"
            ]
        },
        {
            "cell_type": "code",
            "execution_count": null,
            "metadata": {},
            "outputs": [],
            "source": [
                "def part_1(input):\n",
                "    return None\n",
                "\n",
                "assert part_1(test_puzzle_input_part_1) == 405"
            ]
        },
        {
            "cell_type": "code",
            "execution_count": null,
            "metadata": {},
            "outputs": [],
            "source": [
                "part_1(puzzle_input)"
            ]
        },
        {
            "cell_type": "markdown",
            "metadata": {},
            "source": [
                "## Part 2"
            ]
        },
        {
            "cell_type": "code",
            "execution_count": null,
            "metadata": {},
            "outputs": [],
            "source": [
                "test_puzzle_input_part_2 = \"\"\"\n",
                "\"\"\".splitlines()"
            ]
        },
        {
            "cell_type": "code",
            "execution_count": null,
            "metadata": {},
            "outputs": [],
            "source": [
                "def part_2(input):\n",
                "    return None\n",
                "\n",
                "assert part_2(test_puzzle_input_part_2) == None"
            ]
        },
        {
            "cell_type": "code",
            "execution_count": null,
            "metadata": {},
            "outputs": [],
            "source": [
                "part_2(puzzle_input)"
            ]
        }
    ],
    "metadata": {
        "kernelspec": {
            "display_name": "Python 3",
            "language": "python",
            "name": "python3"
        },
        "language_info": {
            "codemirror_mode": {
                "name": "ipython",
                "version": 3
            },
            "file_extension": ".py",
            "mimetype": "text/x-python",
            "name": "python",
            "nbconvert_exporter": "python",
            "pygments_lexer": "ipython3",
            "version": "3.11.0"
        }
    },
    "nbformat": 4,
    "nbformat_minor": 2
}