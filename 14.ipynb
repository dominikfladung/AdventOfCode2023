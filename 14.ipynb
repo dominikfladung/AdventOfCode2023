{
    "cells": [
        {
            "cell_type": "markdown",
            "metadata": {},
            "source": [
                "[Day 14 - Advent of Code 2023](https://adventofcode.com/2023/day/14)\n",
                "\n",
                "<article class=\"day-desc\">\n <h2>\n  --- Day 14: Parabolic Reflector Dish ---\n </h2>\n <p>\n  You reach the place where all of the mirrors were pointing: a massive\n  <a href=\"https://en.wikipedia.org/wiki/Parabolic_reflector\" target=\"_blank\">\n   parabolic reflector dish\n  </a>\n  <span title=\"Why, where do you attach YOUR massive parabolic reflector dishes?\">\n   attached\n  </span>\n  to the side of another large mountain.\n </p>\n <p>\n  The dish is made up of many small mirrors, but while the mirrors themselves are roughly in the shape of a parabolic reflector dish, each individual mirror seems to be pointing in slightly the wrong direction. If the dish is meant to focus light, all it's doing right now is sending it in a vague direction.\n </p>\n <p>\n  This system must be what provides the energy for the lava! If you focus the reflector dish, maybe you can go where it's pointing and use the light to fix the lava production.\n </p>\n <p>\n  Upon closer inspection, the individual mirrors each appear to be connected via an elaborate system of ropes and pulleys to a large metal platform below the dish. The platform is covered in large rocks of various shapes. Depending on their position, the weight of the rocks deforms the platform, and the shape of the platform controls which ropes move and ultimately the focus of the dish.\n </p>\n <p>\n  In short: if you move the rocks, you can focus the dish. The platform even has a control panel on the side that lets you\n  <em>\n   tilt\n  </em>\n  it in one of four directions! The rounded rocks (\n  <code>\n   O\n  </code>\n  ) will roll when the platform is tilted, while the cube-shaped rocks (\n  <code>\n   #\n  </code>\n  ) will stay in place. You note the positions of all of the empty spaces (\n  <code>\n   .\n  </code>\n  ) and rocks (your puzzle input). For example:\n </p>\n <pre><code>O....#....\nO.OO#....#\n.....##...\nOO.#O....O\n.O.....O#.\nO.#..O.#.#\n..O..#O..O\n.......O..\n#....###..\n#OO..#....\n</code></pre>\n <p>\n  Start by tilting the lever so all of the rocks will slide\n  <em>\n   north\n  </em>\n  as far as they will go:\n </p>\n <pre><code>OOOO.#.O..\nOO..#....#\nOO..O##..O\nO..#.OO...\n........#.\n..#....#.#\n..O..#.O.O\n..O.......\n#....###..\n#....#....\n</code></pre>\n <p>\n  You notice that the support beams along the north side of the platform are\n  <em>\n   damaged\n  </em>\n  ; to ensure the platform doesn't collapse, you should calculate the\n  <em>\n   total load\n  </em>\n  on the north support beams.\n </p>\n <p>\n  The amount of load caused by a single rounded rock (\n  <code>\n   O\n  </code>\n  ) is equal to the number of rows from the rock to the south edge of the platform, including the row the rock is on. (Cube-shaped rocks (\n  <code>\n   #\n  </code>\n  ) don't contribute to load.) So, the amount of load caused by each rock in each row is as follows:\n </p>\n <pre><code>OOOO.#.O.. 10\nOO..#....#  9\nOO..O##..O  8\nO..#.OO...  7\n........#.  6\n..#....#.#  5\n..O..#.O.O  4\n..O.......  3\n#....###..  2\n#....#....  1\n</code></pre>\n <p>\n  The total load is the sum of the load caused by all of the\n  <em>\n   rounded rocks\n  </em>\n  . In this example, the total load is\n  <code>\n   <em>\n    136\n   </em>\n  </code>\n  .\n </p>\n <p>\n  Tilt the platform so that the rounded rocks all roll north. Afterward,\n  <em>\n   what is the total load on the north support beams?\n  </em>\n </p>\n</article>\n"
            ]
        },
        {
            "cell_type": "code",
            "execution_count": null,
            "metadata": {},
            "outputs": [],
            "source": [
                "import helpers\n",
                "from tqdm.notebook import tqdm\n",
                "import numpy as np\n",
                "import re"
            ]
        },
        {
            "cell_type": "code",
            "execution_count": null,
            "metadata": {},
            "outputs": [],
            "source": [
                "puzzle_input = helpers.import_input(14)"
            ]
        },
        {
            "cell_type": "markdown",
            "metadata": {},
            "source": [
                "## Part 1"
            ]
        },
        {
            "cell_type": "code",
            "execution_count": null,
            "metadata": {},
            "outputs": [],
            "source": [
                "test_puzzle_input_part_1 = \"\"\"O....#....\nO.OO#....#\n.....##...\nOO.#O....O\n.O.....O#.\nO.#..O.#.#\n..O..#O..O\n.......O..\n#....###..\n#OO..#....\n\"\"\".splitlines()"
            ]
        },
        {
            "cell_type": "code",
            "execution_count": null,
            "metadata": {},
            "outputs": [],
            "source": [
                "def part_1(input):\n",
                "    return None\n",
                "\n",
                "assert part_1(test_puzzle_input_part_1) == 136"
            ]
        },
        {
            "cell_type": "code",
            "execution_count": null,
            "metadata": {},
            "outputs": [],
            "source": [
                "part_1(puzzle_input)"
            ]
        },
        {
            "cell_type": "markdown",
            "metadata": {},
            "source": [
                "## Part 2"
            ]
        },
        {
            "cell_type": "code",
            "execution_count": null,
            "metadata": {},
            "outputs": [],
            "source": [
                "test_puzzle_input_part_2 = \"\"\"\n",
                "\"\"\".splitlines()"
            ]
        },
        {
            "cell_type": "code",
            "execution_count": null,
            "metadata": {},
            "outputs": [],
            "source": [
                "def part_2(input):\n",
                "    return None\n",
                "\n",
                "assert part_2(test_puzzle_input_part_2) == None"
            ]
        },
        {
            "cell_type": "code",
            "execution_count": null,
            "metadata": {},
            "outputs": [],
            "source": [
                "part_2(puzzle_input)"
            ]
        }
    ],
    "metadata": {
        "kernelspec": {
            "display_name": "Python 3",
            "language": "python",
            "name": "python3"
        },
        "language_info": {
            "codemirror_mode": {
                "name": "ipython",
                "version": 3
            },
            "file_extension": ".py",
            "mimetype": "text/x-python",
            "name": "python",
            "nbconvert_exporter": "python",
            "pygments_lexer": "ipython3",
            "version": "3.11.0"
        }
    },
    "nbformat": 4,
    "nbformat_minor": 2
}