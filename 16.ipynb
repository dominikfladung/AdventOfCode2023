{
    "cells": [
        {
            "cell_type": "markdown",
            "metadata": {},
            "source": [
                "[Day 16 - Advent of Code 2023](https://adventofcode.com/2023/day/16)\n",
                "\n",
                "<article class=\"day-desc\">\n <h2>\n  --- Day 16: The Floor Will Be Lava ---\n </h2>\n <p>\n  With the beam of light completely focused\n  <em>\n   somewhere\n  </em>\n  , the reindeer leads you deeper still into the Lava Production Facility. At some point, you realize that the steel facility walls have been replaced with cave, and the doorways are just cave, and the floor is cave, and you're pretty sure this is actually just a giant cave.\n </p>\n <p>\n  Finally, as you approach what must be the heart of the mountain, you see a bright light in a cavern up ahead. There, you discover that the\n  <span title=\"Not anymore, there's a blanket!\">\n   beam\n  </span>\n  of light you so carefully focused is emerging from the cavern wall closest to the facility and pouring all of its energy into a contraption on the opposite side.\n </p>\n <p>\n  Upon closer inspection, the contraption appears to be a flat, two-dimensional square grid containing\n  <em>\n   empty space\n  </em>\n  (\n  <code>\n   .\n  </code>\n  ),\n  <em>\n   mirrors\n  </em>\n  (\n  <code>\n   /\n  </code>\n  and\n  <code>\n   \\\n  </code>\n  ), and\n  <em>\n   splitters\n  </em>\n  (\n  <code>\n   |\n  </code>\n  and\n  <code>\n   -\n  </code>\n  ).\n </p>\n <p>\n  The contraption is aligned so that most of the beam bounces around the grid, but each tile on the grid converts some of the beam's light into\n  <em>\n   heat\n  </em>\n  to melt the rock in the cavern.\n </p>\n <p>\n  You note the layout of the contraption (your puzzle input). For example:\n </p>\n <pre><code>.|...\\....\n|.-.\\.....\n.....|-...\n........|.\n..........\n.........\\\n..../.\\\\..\n.-.-/..|..\n.|....-|.\\\n..//.|....\n</code></pre>\n <p>\n  The beam enters in the top-left corner from the left and heading to the\n  <em>\n   right\n  </em>\n  . Then, its behavior depends on what it encounters as it moves:\n </p>\n <ul>\n  <li>\n   If the beam encounters\n   <em>\n    empty space\n   </em>\n   (\n   <code>\n    .\n   </code>\n   ), it continues in the same direction.\n  </li>\n  <li>\n   If the beam encounters a\n   <em>\n    mirror\n   </em>\n   (\n   <code>\n    /\n   </code>\n   or\n   <code>\n    \\\n   </code>\n   ), the beam is\n   <em>\n    reflected\n   </em>\n   90 degrees depending on the angle of the mirror. For instance, a rightward-moving beam that encounters a\n   <code>\n    /\n   </code>\n   mirror would continue\n   <em>\n    upward\n   </em>\n   in the mirror's column, while a rightward-moving beam that encounters a\n   <code>\n    \\\n   </code>\n   mirror would continue\n   <em>\n    downward\n   </em>\n   from the mirror's column.\n  </li>\n  <li>\n   If the beam encounters the\n   <em>\n    pointy end of a splitter\n   </em>\n   (\n   <code>\n    |\n   </code>\n   or\n   <code>\n    -\n   </code>\n   ), the beam passes through the splitter as if the splitter were\n   <em>\n    empty space\n   </em>\n   . For instance, a rightward-moving beam that encounters a\n   <code>\n    -\n   </code>\n   splitter would continue in the same direction.\n  </li>\n  <li>\n   If the beam encounters the\n   <em>\n    flat side of a splitter\n   </em>\n   (\n   <code>\n    |\n   </code>\n   or\n   <code>\n    -\n   </code>\n   ), the beam is\n   <em>\n    split into two beams\n   </em>\n   going in each of the two directions the splitter's pointy ends are pointing. For instance, a rightward-moving beam that encounters a\n   <code>\n    |\n   </code>\n   splitter would split into two beams: one that continues\n   <em>\n    upward\n   </em>\n   from the splitter's column and one that continues\n   <em>\n    downward\n   </em>\n   from the splitter's column.\n  </li>\n </ul>\n <p>\n  Beams do not interact with other beams; a tile can have many beams passing through it at the same time. A tile is\n  <em>\n   energized\n  </em>\n  if that tile has at least one beam pass through it, reflect in it, or split in it.\n </p>\n <p>\n  In the above example, here is how the beam of light bounces around the contraption:\n </p>\n <pre><code>&gt;|&lt;&lt;&lt;\\....\n|v-.\\^....\n.v...|-&gt;&gt;&gt;\n.v...v^.|.\n.v...v^...\n.v...v^..\\\n.v../2\\\\..\n&lt;-&gt;-/vv|..\n.|&lt;&lt;&lt;2-|.\\\n.v//.|.v..\n</code></pre>\n <p>\n  Beams are only shown on empty tiles; arrows indicate the direction of the beams. If a tile contains beams moving in multiple directions, the number of distinct directions is shown instead. Here is the same diagram but instead only showing whether a tile is\n  <em>\n   energized\n  </em>\n  (\n  <code>\n   #\n  </code>\n  ) or not (\n  <code>\n   .\n  </code>\n  ):\n </p>\n <pre><code>######....\n.#...#....\n.#...#####\n.#...##...\n.#...##...\n.#...##...\n.#..####..\n########..\n.#######..\n.#...#.#..\n</code></pre>\n <p>\n  Ultimately, in this example,\n  <code>\n   <em>\n    46\n   </em>\n  </code>\n  tiles become\n  <em>\n   energized\n  </em>\n  .\n </p>\n <p>\n  The light isn't energizing enough tiles to produce lava; to debug the contraption, you need to start by analyzing the current situation. With the beam starting in the top-left heading right,\n  <em>\n   how many tiles end up being energized?\n  </em>\n </p>\n</article>\n"
            ]
        },
        {
            "cell_type": "code",
            "execution_count": null,
            "metadata": {},
            "outputs": [],
            "source": [
                "import helpers\n",
                "from tqdm.notebook import tqdm\n",
                "import numpy as np\n",
                "import re"
            ]
        },
        {
            "cell_type": "code",
            "execution_count": null,
            "metadata": {},
            "outputs": [],
            "source": [
                "puzzle_input = helpers.import_input(16)"
            ]
        },
        {
            "cell_type": "markdown",
            "metadata": {},
            "source": [
                "## Part 1"
            ]
        },
        {
            "cell_type": "code",
            "execution_count": null,
            "metadata": {},
            "outputs": [],
            "source": [
                "test_puzzle_input_part_1 = \"\"\".|...\\....\n|.-.\\.....\n.....|-...\n........|.\n..........\n.........\\\n..../.\\\\..\n.-.-/..|..\n.|....-|.\\\n..//.|....\n\"\"\".splitlines()"
            ]
        },
        {
            "cell_type": "code",
            "execution_count": null,
            "metadata": {},
            "outputs": [],
            "source": [
                "def part_1(input):\n",
                "    return None\n",
                "\n",
                "assert part_1(test_puzzle_input_part_1) == 46"
            ]
        },
        {
            "cell_type": "code",
            "execution_count": null,
            "metadata": {},
            "outputs": [],
            "source": [
                "part_1(puzzle_input)"
            ]
        },
        {
            "cell_type": "markdown",
            "metadata": {},
            "source": [
                "## Part 2"
            ]
        },
        {
            "cell_type": "code",
            "execution_count": null,
            "metadata": {},
            "outputs": [],
            "source": [
                "test_puzzle_input_part_2 = \"\"\"\n",
                "\"\"\".splitlines()"
            ]
        },
        {
            "cell_type": "code",
            "execution_count": null,
            "metadata": {},
            "outputs": [],
            "source": [
                "def part_2(input):\n",
                "    return None\n",
                "\n",
                "assert part_2(test_puzzle_input_part_2) == None"
            ]
        },
        {
            "cell_type": "code",
            "execution_count": null,
            "metadata": {},
            "outputs": [],
            "source": [
                "part_2(puzzle_input)"
            ]
        }
    ],
    "metadata": {
        "kernelspec": {
            "display_name": "Python 3",
            "language": "python",
            "name": "python3"
        },
        "language_info": {
            "codemirror_mode": {
                "name": "ipython",
                "version": 3
            },
            "file_extension": ".py",
            "mimetype": "text/x-python",
            "name": "python",
            "nbconvert_exporter": "python",
            "pygments_lexer": "ipython3",
            "version": "3.11.0"
        }
    },
    "nbformat": 4,
    "nbformat_minor": 2
}