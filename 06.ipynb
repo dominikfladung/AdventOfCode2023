{
    "cells": [
        {
            "cell_type": "markdown",
            "metadata": {},
            "source": [
                "[Day 6 - Advent of Code 2023](https://adventofcode.com/2023/day/6)\n",
                "\n",
                "<article class=\"day-desc\">\n <h2>\n  --- Day 6: Wait For It ---\n </h2>\n <p>\n  The ferry quickly brings you across Island Island. After asking around, you discover that there is indeed normally a large pile of sand somewhere near here, but you don't see anything besides lots of water and the small island where the ferry has docked.\n </p>\n <p>\n  As you try to figure out what to do next, you notice a poster on a wall near the ferry dock. \"Boat races! Open to the public! Grand prize is an all-expenses-paid trip to\n  <em>\n   Desert Island\n  </em>\n  !\" That must be where the sand comes from! Best of all, the boat races are starting in just a few minutes.\n </p>\n <p>\n  You manage to sign up as a competitor in the boat races just in time. The organizer explains that it's not really a traditional race - instead, you will get a fixed amount of time during which your boat has to travel as far as it can, and you win if your boat goes the farthest.\n </p>\n <p>\n  As part of signing up, you get a sheet of paper (your puzzle input) that lists the\n  <em>\n   time\n  </em>\n  allowed for each race and also the best\n  <em>\n   distance\n  </em>\n  ever recorded in that race. To guarantee you win the grand prize, you need to make sure you\n  <em>\n   go farther in each race\n  </em>\n  than the current record holder.\n </p>\n <p>\n  The organizer brings you over to the area where the boat races are held. The boats are much smaller than you expected - they're actually\n  <em>\n   toy boats\n  </em>\n  , each with a big button on top. Holding down the button\n  <em>\n   charges the boat\n  </em>\n  , and releasing the button\n  <em>\n   allows the boat to move\n  </em>\n  . Boats move faster if their button was held longer, but time spent holding the button counts against the total race time. You can only hold the button at the start of the race, and boats don't move until the button is released.\n </p>\n <p>\n  For example:\n </p>\n <pre><code>Time:      7  15   30\nDistance:  9  40  200\n</code></pre>\n <p>\n  This document describes three races:\n </p>\n <ul>\n  <li>\n   The first race lasts 7 milliseconds. The record distance in this race is 9 millimeters.\n  </li>\n  <li>\n   The second race lasts 15 milliseconds. The record distance in this race is 40 millimeters.\n  </li>\n  <li>\n   The third race lasts 30 milliseconds. The record distance in this race is 200 millimeters.\n  </li>\n </ul>\n <p>\n  Your toy boat has a starting speed of\n  <em>\n   zero millimeters per millisecond\n  </em>\n  . For each whole millisecond you spend at the beginning of the race holding down the button, the boat's speed increases by\n  <em>\n   one millimeter per millisecond\n  </em>\n  .\n </p>\n <p>\n  So, because the first race lasts 7 milliseconds, you only have a few options:\n </p>\n <ul>\n  <li>\n   Don't hold the button at all (that is, hold it for\n   <em>\n    <code>\n     0\n    </code>\n    milliseconds\n   </em>\n   ) at the start of the race. The boat won't move; it will have traveled\n   <em>\n    <code>\n     0\n    </code>\n    millimeters\n   </em>\n   by the end of the race.\n  </li>\n  <li>\n   Hold the button for\n   <em>\n    <code>\n     1\n    </code>\n    millisecond\n   </em>\n   at the start of the race. Then, the boat will travel at a speed of\n   <code>\n    1\n   </code>\n   millimeter per millisecond for 6 milliseconds, reaching a total distance traveled of\n   <em>\n    <code>\n     6\n    </code>\n    millimeters\n   </em>\n   .\n  </li>\n  <li>\n   Hold the button for\n   <em>\n    <code>\n     2\n    </code>\n    milliseconds\n   </em>\n   , giving the boat a speed of\n   <code>\n    2\n   </code>\n   millimeters per millisecond. It will then get 5 milliseconds to move, reaching a total distance of\n   <em>\n    <code>\n     10\n    </code>\n    millimeters\n   </em>\n   .\n  </li>\n  <li>\n   Hold the button for\n   <em>\n    <code>\n     3\n    </code>\n    milliseconds\n   </em>\n   . After its remaining 4 milliseconds of travel time, the boat will have gone\n   <em>\n    <code>\n     12\n    </code>\n    millimeters\n   </em>\n   .\n  </li>\n  <li>\n   Hold the button for\n   <em>\n    <code>\n     4\n    </code>\n    milliseconds\n   </em>\n   . After its remaining 3 milliseconds of travel time, the boat will have gone\n   <em>\n    <code>\n     12\n    </code>\n    millimeters\n   </em>\n   .\n  </li>\n  <li>\n   Hold the button for\n   <em>\n    <code>\n     5\n    </code>\n    milliseconds\n   </em>\n   , causing the boat to travel a total of\n   <em>\n    <code>\n     10\n    </code>\n    millimeters\n   </em>\n   .\n  </li>\n  <li>\n   Hold the button for\n   <em>\n    <code>\n     6\n    </code>\n    milliseconds\n   </em>\n   , causing the boat to travel a total of\n   <em>\n    <code>\n     6\n    </code>\n    millimeters\n   </em>\n   .\n  </li>\n  <li>\n   Hold the button for\n   <em>\n    <code>\n     7\n    </code>\n    milliseconds\n   </em>\n   . That's the entire duration of the race. You never let go of the button. The boat can't move until you let go of the button. Please make sure you let go of the button so the boat gets to move.\n   <em>\n    <code>\n     0\n    </code>\n    millimeters\n   </em>\n   .\n  </li>\n </ul>\n <p>\n  Since the current record for this race is\n  <code>\n   9\n  </code>\n  millimeters, there are actually\n  <code>\n   <em>\n    4\n   </em>\n  </code>\n  different ways you could win: you could hold the button for\n  <code>\n   2\n  </code>\n  ,\n  <code>\n   3\n  </code>\n  ,\n  <code>\n   4\n  </code>\n  , or\n  <code>\n   5\n  </code>\n  milliseconds at the start of the race.\n </p>\n <p>\n  In the second race, you could hold the button for at least\n  <code>\n   4\n  </code>\n  milliseconds and at most\n  <code>\n   11\n  </code>\n  milliseconds and beat the record, a total of\n  <code>\n   <em>\n    8\n   </em>\n  </code>\n  different ways to win.\n </p>\n <p>\n  In the third race, you could hold the button for at least\n  <code>\n   11\n  </code>\n  milliseconds and no more than\n  <code>\n   19\n  </code>\n  milliseconds and still beat the record, a total of\n  <code>\n   <em>\n    9\n   </em>\n  </code>\n  ways you could win.\n </p>\n <p>\n  To see how much margin of error you have, determine the\n  <em>\n   number of ways you can beat the record\n  </em>\n  in each race; in this example, if you multiply these values together, you get\n  <code>\n   <em>\n    288\n   </em>\n  </code>\n  (\n  <code>\n   4\n  </code>\n  *\n  <code>\n   8\n  </code>\n  *\n  <code>\n   9\n  </code>\n  ).\n </p>\n <p>\n  Determine the number of ways you could beat the record in each race.\n  <em>\n   What do you get if you multiply these numbers together?\n  </em>\n </p>\n</article>\n"
            ]
        },
        {
            "cell_type": "code",
            "execution_count": null,
            "metadata": {},
            "outputs": [],
            "source": [
                "import helpers\n",
                "from tqdm.notebook import tqdm\n",
                "import numpy as np\n",
                "import re"
            ]
        },
        {
            "cell_type": "code",
            "execution_count": null,
            "metadata": {},
            "outputs": [],
            "source": [
                "puzzle_input = helpers.import_input(6)"
            ]
        },
        {
            "cell_type": "markdown",
            "metadata": {},
            "source": [
                "## Part 1"
            ]
        },
        {
            "cell_type": "code",
            "execution_count": null,
            "metadata": {},
            "outputs": [],
            "source": [
                "test_puzzle_input_part_1 = \"\"\"Time:      7  15   30\nDistance:  9  40  200\n\"\"\".splitlines()"
            ]
        },
        {
            "cell_type": "code",
            "execution_count": null,
            "metadata": {},
            "outputs": [],
            "source": [
                "def part_1(input):\n",
                "    return None\n",
                "\n",
                "assert part_1(test_puzzle_input_part_1) == 9"
            ]
        },
        {
            "cell_type": "code",
            "execution_count": null,
            "metadata": {},
            "outputs": [],
            "source": [
                "part_1(puzzle_input)"
            ]
        },
        {
            "cell_type": "markdown",
            "metadata": {},
            "source": [
                "## Part 2"
            ]
        },
        {
            "cell_type": "code",
            "execution_count": null,
            "metadata": {},
            "outputs": [],
            "source": [
                "test_puzzle_input_part_2 = \"\"\"\n",
                "\"\"\".splitlines()"
            ]
        },
        {
            "cell_type": "code",
            "execution_count": null,
            "metadata": {},
            "outputs": [],
            "source": [
                "def part_2(input):\n",
                "    return None\n",
                "\n",
                "assert part_2(test_puzzle_input_part_2) == None"
            ]
        },
        {
            "cell_type": "code",
            "execution_count": null,
            "metadata": {},
            "outputs": [],
            "source": [
                "part_2(puzzle_input)"
            ]
        }
    ],
    "metadata": {
        "kernelspec": {
            "display_name": "Python 3",
            "language": "python",
            "name": "python3"
        },
        "language_info": {
            "codemirror_mode": {
                "name": "ipython",
                "version": 3
            },
            "file_extension": ".py",
            "mimetype": "text/x-python",
            "name": "python",
            "nbconvert_exporter": "python",
            "pygments_lexer": "ipython3",
            "version": "3.11.0"
        }
    },
    "nbformat": 4,
    "nbformat_minor": 2
}