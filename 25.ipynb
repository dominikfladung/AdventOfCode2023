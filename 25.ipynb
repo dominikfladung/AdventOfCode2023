{
    "cells": [
        {
            "cell_type": "markdown",
            "metadata": {},
            "source": [
                "[Day 25 - Advent of Code 2023](https://adventofcode.com/2023/day/25)\n",
                "\n",
                "<article class=\"day-desc\">\n <h2>\n  --- Day 25: Snowverload ---\n </h2>\n <p>\n  <em>\n   Still\n  </em>\n  somehow without snow, you go to the last place you haven't checked: the center of Snow Island, directly below the waterfall.\n </p>\n <p>\n  Here, someone has clearly been trying to fix the problem. Scattered everywhere are hundreds of weather machines, almanacs, communication modules, hoof prints, machine parts, mirrors, lenses, and so on.\n </p>\n <p>\n  Somehow, everything has been\n  <em>\n   wired together\n  </em>\n  into a massive snow-producing apparatus, but nothing seems to be running. You check a tiny screen on one of the communication modules:\n  <code>\n   Error 2023\n  </code>\n  . It doesn't say what\n  <code>\n   Error 2023\n  </code>\n  means, but it\n  <em>\n   does\n  </em>\n  have the phone number for a support line printed on it.\n </p>\n <p>\n  \"Hi, you've reached Weather Machines And So On, Inc. How can I help you?\" You explain the situation.\n </p>\n <p>\n  \"Error 2023, you say? Why, that's a power overload error, of course! It means you have too many components plugged in. Try unplugging some components and--\" You explain that there are hundreds of components here and you're in a bit of a hurry.\n </p>\n <p>\n  \"Well, let's see how bad it is; do you see a\n  <em>\n   big red reset button\n  </em>\n  somewhere? It should be on its own module. If you push it, it probably won't fix anything, but it'll report how overloaded things are.\" After a minute or two, you find the reset button; it's so big that it takes two hands just to get enough leverage to push it. Its screen then displays:\n </p>\n <pre><code>SYSTEM OVERLOAD!\n\nConnected components would require\npower equal to at least <em class=\"star\">100 stars</em>!\n</code></pre>\n <p>\n  \"Wait,\n  <em>\n   how\n  </em>\n  many components did you say are plugged in? With that much equipment, you could produce snow for an\n  <em>\n   entire\n  </em>\n  --\" You disconnect the call.\n </p>\n <p>\n  You have nowhere near that many stars - you need to find a way to disconnect at least half of the equipment here, but it's already Christmas! You only have time to disconnect\n  <em>\n   three wires\n  </em>\n  .\n </p>\n <p>\n  Fortunately, someone left a wiring diagram (your puzzle input) that shows\n  <em>\n   how the components are connected\n  </em>\n  . For example:\n </p>\n <pre><code>jqt: rhn xhk nvd\nrsh: frs pzl lsr\nxhk: hfx\ncmg: qnr nvd lhk bvb\nrhn: xhk bvb hfx\nbvb: xhk hfx\npzl: lsr hfx nvd\nqnr: nvd\nntq: jqt hfx bvb xhk\nnvd: lhk\nlsr: lhk\nrzs: qnr cmg lsr rsh\nfrs: qnr lhk lsr\n</code></pre>\n <p>\n  Each line shows the\n  <em>\n   name of a component\n  </em>\n  , a colon, and then\n  <em>\n   a list of other components\n  </em>\n  to which that component is connected. Connections aren't directional;\n  <code>\n   abc: xyz\n  </code>\n  and\n  <code>\n   xyz: abc\n  </code>\n  both represent the same configuration. Each connection between two components is represented only once, so some components might only ever appear on the left or right side of a colon.\n </p>\n <p>\n  In this example, if you disconnect the wire between\n  <code>\n   hfx\n  </code>\n  /\n  <code>\n   pzl\n  </code>\n  , the wire between\n  <code>\n   bvb\n  </code>\n  /\n  <code>\n   cmg\n  </code>\n  , and the wire between\n  <code>\n   nvd\n  </code>\n  /\n  <code>\n   jqt\n  </code>\n  , you will\n  <em>\n   divide the components into two separate, disconnected groups\n  </em>\n  :\n </p>\n <ul>\n  <li>\n   <code>\n    <em>\n     9\n    </em>\n   </code>\n   components:\n   <code>\n    cmg\n   </code>\n   ,\n   <code>\n    frs\n   </code>\n   ,\n   <code>\n    lhk\n   </code>\n   ,\n   <code>\n    lsr\n   </code>\n   ,\n   <code>\n    nvd\n   </code>\n   ,\n   <code>\n    pzl\n   </code>\n   ,\n   <code>\n    qnr\n   </code>\n   ,\n   <code>\n    rsh\n   </code>\n   , and\n   <code>\n    rzs\n   </code>\n   .\n  </li>\n  <li>\n   <code>\n    <em>\n     6\n    </em>\n   </code>\n   components:\n   <code>\n    bvb\n   </code>\n   ,\n   <code>\n    hfx\n   </code>\n   ,\n   <code>\n    jqt\n   </code>\n   ,\n   <code>\n    ntq\n   </code>\n   ,\n   <code>\n    rhn\n   </code>\n   , and\n   <code>\n    xhk\n   </code>\n   .\n  </li>\n </ul>\n <p>\n  Multiplying the sizes of these groups together produces\n  <code>\n   <em>\n    54\n   </em>\n  </code>\n  .\n </p>\n <p>\n  Find the three wires you need to disconnect in order to divide the components into two separate groups.\n  <em>\n   What do you get if you multiply the sizes of these two groups together?\n  </em>\n </p>\n</article>\n"
            ]
        },
        {
            "cell_type": "code",
            "execution_count": null,
            "metadata": {},
            "outputs": [],
            "source": [
                "import helpers\n",
                "from tqdm.notebook import tqdm\n",
                "import numpy as np\n",
                "import re"
            ]
        },
        {
            "cell_type": "code",
            "execution_count": null,
            "metadata": {},
            "outputs": [],
            "source": [
                "puzzle_input = helpers.import_input(25)"
            ]
        },
        {
            "cell_type": "markdown",
            "metadata": {},
            "source": [
                "## Part 1"
            ]
        },
        {
            "cell_type": "code",
            "execution_count": null,
            "metadata": {},
            "outputs": [],
            "source": [
                "test_puzzle_input_part_1 = \"\"\"Error 2023\"\"\".splitlines()"
            ]
        },
        {
            "cell_type": "code",
            "execution_count": null,
            "metadata": {},
            "outputs": [],
            "source": [
                "def part_1(input):\n",
                "    return None\n",
                "\n",
                "assert part_1(test_puzzle_input_part_1) == 54"
            ]
        },
        {
            "cell_type": "code",
            "execution_count": null,
            "metadata": {},
            "outputs": [],
            "source": [
                "part_1(puzzle_input)"
            ]
        },
        {
            "cell_type": "markdown",
            "metadata": {},
            "source": [
                "## Part 2"
            ]
        },
        {
            "cell_type": "code",
            "execution_count": null,
            "metadata": {},
            "outputs": [],
            "source": [
                "test_puzzle_input_part_2 = \"\"\"\n",
                "\"\"\".splitlines()"
            ]
        },
        {
            "cell_type": "code",
            "execution_count": null,
            "metadata": {},
            "outputs": [],
            "source": [
                "def part_2(input):\n",
                "    return None\n",
                "\n",
                "assert part_2(test_puzzle_input_part_2) == None"
            ]
        },
        {
            "cell_type": "code",
            "execution_count": null,
            "metadata": {},
            "outputs": [],
            "source": [
                "part_2(puzzle_input)"
            ]
        }
    ],
    "metadata": {
        "kernelspec": {
            "display_name": "Python 3",
            "language": "python",
            "name": "python3"
        },
        "language_info": {
            "codemirror_mode": {
                "name": "ipython",
                "version": 3
            },
            "file_extension": ".py",
            "mimetype": "text/x-python",
            "name": "python",
            "nbconvert_exporter": "python",
            "pygments_lexer": "ipython3",
            "version": "3.11.0"
        }
    },
    "nbformat": 4,
    "nbformat_minor": 2
}