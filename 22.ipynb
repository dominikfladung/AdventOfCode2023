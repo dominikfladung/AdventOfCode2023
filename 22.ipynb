{
    "cells": [
        {
            "cell_type": "markdown",
            "metadata": {},
            "source": [
                "[Day 22 - Advent of Code 2023](https://adventofcode.com/2023/day/22)\n",
                "\n",
                "<article class=\"day-desc\">\n <h2>\n  --- Day 22: Sand Slabs ---\n </h2>\n <p>\n  Enough sand has fallen; it can finally filter water for Snow Island.\n </p>\n <p>\n  Well,\n  <em>\n   almost\n  </em>\n  .\n </p>\n <p>\n  The sand has been falling as large compacted\n  <em>\n   bricks\n  </em>\n  of sand, piling up to form an impressive stack here near the edge of Island Island. In order to make use of the sand to filter water, some of the bricks will need to be broken apart - nay,\n  <em>\n   <span title=\"Disintegrate - X,R\nSorcery\nDestroy X target bricks of sand. They cannot be regenerated. Create 32768 0/1 colorless Sand artifact creature tokens for each brick of sand destroyed in this way.\">\n    disintegrated\n   </span>\n  </em>\n  - back into freely flowing sand.\n </p>\n <p>\n  The stack is tall enough that you'll have to be careful about choosing which bricks to disintegrate; if you disintegrate the wrong brick, large portions of the stack could topple, which sounds pretty dangerous.\n </p>\n <p>\n  The Elves responsible for water filtering operations took a\n  <em>\n   snapshot of the bricks while they were still falling\n  </em>\n  (your puzzle input) which should let you work out which bricks are safe to disintegrate. For example:\n </p>\n <pre><code>1,0,1~1,2,1\n0,0,2~2,0,2\n0,2,3~2,2,3\n0,0,4~0,2,4\n2,0,5~2,2,5\n0,1,6~2,1,6\n1,1,8~1,1,9\n</code></pre>\n <p>\n  Each line of text in the snapshot represents the position of a single brick at the time the snapshot was taken. The position is given as two\n  <code>\n   x,y,z\n  </code>\n  coordinates - one for each end of the brick - separated by a tilde (\n  <code>\n   ~\n  </code>\n  ). Each brick is made up of a single straight line of cubes, and the Elves were even careful to choose a time for the snapshot that had all of the free-falling bricks at\n  <em>\n   integer positions above the ground\n  </em>\n  , so the whole snapshot is aligned to a three-dimensional cube grid.\n </p>\n <p>\n  A line like\n  <code>\n   2,2,2~2,2,2\n  </code>\n  means that both ends of the brick are at the same coordinate - in other words, that the brick is a single cube.\n </p>\n <p>\n  Lines like\n  <code>\n   0,0,10~1,0,10\n  </code>\n  or\n  <code>\n   0,0,10~0,1,10\n  </code>\n  both represent bricks that are\n  <em>\n   two cubes\n  </em>\n  in volume, both oriented horizontally. The first brick extends in the\n  <code>\n   x\n  </code>\n  direction, while the second brick extends in the\n  <code>\n   y\n  </code>\n  direction.\n </p>\n <p>\n  A line like\n  <code>\n   0,0,1~0,0,10\n  </code>\n  represents a\n  <em>\n   ten-cube brick\n  </em>\n  which is oriented\n  <em>\n   vertically\n  </em>\n  . One end of the brick is the cube located at\n  <code>\n   0,0,1\n  </code>\n  , while the other end of the brick is located directly above it at\n  <code>\n   0,0,10\n  </code>\n  .\n </p>\n <p>\n  The ground is at\n  <code>\n   z=0\n  </code>\n  and is perfectly flat; the lowest\n  <code>\n   z\n  </code>\n  value a brick can have is therefore\n  <code>\n   1\n  </code>\n  . So,\n  <code>\n   5,5,1~5,6,1\n  </code>\n  and\n  <code>\n   0,2,1~0,2,5\n  </code>\n  are both resting on the ground, but\n  <code>\n   3,3,2~3,3,3\n  </code>\n  was above the ground at the time of the snapshot.\n </p>\n <p>\n  Because the snapshot was taken while the bricks were still falling, some bricks will\n  <em>\n   still be in the air\n  </em>\n  ; you'll need to start by figuring out where they will end up. Bricks are magically stabilized, so they\n  <em>\n   never rotate\n  </em>\n  , even in weird situations like where a long horizontal brick is only supported on one end. Two bricks cannot occupy the same position, so a falling brick will come to rest upon the first other brick it encounters.\n </p>\n <p>\n  Here is the same example again, this time with each brick given a letter so it can be marked in diagrams:\n </p>\n <pre><code>1,0,1~1,2,1   &lt;- A\n0,0,2~2,0,2   &lt;- B\n0,2,3~2,2,3   &lt;- C\n0,0,4~0,2,4   &lt;- D\n2,0,5~2,2,5   &lt;- E\n0,1,6~2,1,6   &lt;- F\n1,1,8~1,1,9   &lt;- G\n</code></pre>\n <p>\n  At the time of the snapshot, from the side so the\n  <code>\n   x\n  </code>\n  axis goes left to right, these bricks are arranged like this:\n </p>\n <pre><code> x\n012\n.G. 9\n.G. 8\n... 7\nFFF 6\n..E 5 z\nD.. 4\nCCC 3\nBBB 2\n.A. 1\n--- 0\n</code></pre>\n <p>\n  Rotating the perspective 90 degrees so the\n  <code>\n   y\n  </code>\n  axis now goes left to right, the same bricks are arranged like this:\n </p>\n <pre><code> y\n012\n.G. 9\n.G. 8\n... 7\n.F. 6\nEEE 5 z\nDDD 4\n..C 3\nB.. 2\nAAA 1\n--- 0\n</code></pre>\n <p>\n  Once all of the bricks fall downward as far as they can go, the stack looks like this, where\n  <code>\n   ?\n  </code>\n  means bricks are hidden behind other bricks at that location:\n </p>\n <pre><code> x\n012\n.G. 6\n.G. 5\nFFF 4\nD.E 3 z\n??? 2\n.A. 1\n--- 0\n</code></pre>\n <p>\n  Again from the side:\n </p>\n <pre><code> y\n012\n.G. 6\n.G. 5\n.F. 4\n??? 3 z\nB.C 2\nAAA 1\n--- 0\n</code></pre>\n <p>\n  Now that all of the bricks have settled, it becomes easier to tell which bricks are supporting which other bricks:\n </p>\n <ul>\n  <li>\n   Brick\n   <code>\n    A\n   </code>\n   is the only brick supporting bricks\n   <code>\n    B\n   </code>\n   and\n   <code>\n    C\n   </code>\n   .\n  </li>\n  <li>\n   Brick\n   <code>\n    B\n   </code>\n   is one of two bricks supporting brick\n   <code>\n    D\n   </code>\n   and brick\n   <code>\n    E\n   </code>\n   .\n  </li>\n  <li>\n   Brick\n   <code>\n    C\n   </code>\n   is the other brick supporting brick\n   <code>\n    D\n   </code>\n   and brick\n   <code>\n    E\n   </code>\n   .\n  </li>\n  <li>\n   Brick\n   <code>\n    D\n   </code>\n   supports brick\n   <code>\n    F\n   </code>\n   .\n  </li>\n  <li>\n   Brick\n   <code>\n    E\n   </code>\n   also supports brick\n   <code>\n    F\n   </code>\n   .\n  </li>\n  <li>\n   Brick\n   <code>\n    F\n   </code>\n   supports brick\n   <code>\n    G\n   </code>\n   .\n  </li>\n  <li>\n   Brick\n   <code>\n    G\n   </code>\n   isn't supporting any bricks.\n  </li>\n </ul>\n <p>\n  Your first task is to figure out\n  <em>\n   which bricks are safe to disintegrate\n  </em>\n  . A brick can be safely disintegrated if, after removing it,\n  <em>\n   no other bricks\n  </em>\n  would fall further directly downward. Don't actually disintegrate any bricks - just determine what would happen if, for each brick, only that brick were disintegrated. Bricks can be disintegrated even if they're completely surrounded by other bricks; you can squeeze between bricks if you need to.\n </p>\n <p>\n  In this example, the bricks can be disintegrated as follows:\n </p>\n <ul>\n  <li>\n   Brick\n   <code>\n    A\n   </code>\n   cannot be disintegrated safely; if it were disintegrated, bricks\n   <code>\n    B\n   </code>\n   and\n   <code>\n    C\n   </code>\n   would both fall.\n  </li>\n  <li>\n   Brick\n   <code>\n    B\n   </code>\n   <em>\n    can\n   </em>\n   be disintegrated; the bricks above it (\n   <code>\n    D\n   </code>\n   and\n   <code>\n    E\n   </code>\n   ) would still be supported by brick\n   <code>\n    C\n   </code>\n   .\n  </li>\n  <li>\n   Brick\n   <code>\n    C\n   </code>\n   <em>\n    can\n   </em>\n   be disintegrated; the bricks above it (\n   <code>\n    D\n   </code>\n   and\n   <code>\n    E\n   </code>\n   ) would still be supported by brick\n   <code>\n    B\n   </code>\n   .\n  </li>\n  <li>\n   Brick\n   <code>\n    D\n   </code>\n   <em>\n    can\n   </em>\n   be disintegrated; the brick above it (\n   <code>\n    F\n   </code>\n   ) would still be supported by brick\n   <code>\n    E\n   </code>\n   .\n  </li>\n  <li>\n   Brick\n   <code>\n    E\n   </code>\n   <em>\n    can\n   </em>\n   be disintegrated; the brick above it (\n   <code>\n    F\n   </code>\n   ) would still be supported by brick\n   <code>\n    D\n   </code>\n   .\n  </li>\n  <li>\n   Brick\n   <code>\n    F\n   </code>\n   cannot be disintegrated; the brick above it (\n   <code>\n    G\n   </code>\n   ) would fall.\n  </li>\n  <li>\n   Brick\n   <code>\n    G\n   </code>\n   <em>\n    can\n   </em>\n   be disintegrated; it does not support any other bricks.\n  </li>\n </ul>\n <p>\n  So, in this example,\n  <code>\n   <em>\n    5\n   </em>\n  </code>\n  bricks can be safely disintegrated.\n </p>\n <p>\n  Figure how the blocks will settle based on the snapshot. Once they've settled, consider disintegrating a single brick;\n  <em>\n   how many bricks could be safely chosen as the one to get disintegrated?\n  </em>\n </p>\n</article>\n"
            ]
        },
        {
            "cell_type": "code",
            "execution_count": null,
            "metadata": {},
            "outputs": [],
            "source": [
                "import helpers\n",
                "from tqdm.notebook import tqdm\n",
                "import numpy as np\n",
                "import re"
            ]
        },
        {
            "cell_type": "code",
            "execution_count": null,
            "metadata": {},
            "outputs": [],
            "source": [
                "puzzle_input = helpers.import_input(22)"
            ]
        },
        {
            "cell_type": "markdown",
            "metadata": {},
            "source": [
                "## Part 1"
            ]
        },
        {
            "cell_type": "code",
            "execution_count": null,
            "metadata": {},
            "outputs": [],
            "source": [
                "test_puzzle_input_part_1 = \"\"\"1,0,1~1,2,1\n0,0,2~2,0,2\n0,2,3~2,2,3\n0,0,4~0,2,4\n2,0,5~2,2,5\n0,1,6~2,1,6\n1,1,8~1,1,9\n\"\"\".splitlines()"
            ]
        },
        {
            "cell_type": "code",
            "execution_count": null,
            "metadata": {},
            "outputs": [],
            "source": [
                "def part_1(input):\n",
                "    return None\n",
                "\n",
                "assert part_1(test_puzzle_input_part_1) == 5"
            ]
        },
        {
            "cell_type": "code",
            "execution_count": null,
            "metadata": {},
            "outputs": [],
            "source": [
                "part_1(puzzle_input)"
            ]
        },
        {
            "cell_type": "markdown",
            "metadata": {},
            "source": [
                "## Part 2"
            ]
        },
        {
            "cell_type": "code",
            "execution_count": null,
            "metadata": {},
            "outputs": [],
            "source": [
                "test_puzzle_input_part_2 = \"\"\"\n",
                "\"\"\".splitlines()"
            ]
        },
        {
            "cell_type": "code",
            "execution_count": null,
            "metadata": {},
            "outputs": [],
            "source": [
                "def part_2(input):\n",
                "    return None\n",
                "\n",
                "assert part_2(test_puzzle_input_part_2) == None"
            ]
        },
        {
            "cell_type": "code",
            "execution_count": null,
            "metadata": {},
            "outputs": [],
            "source": [
                "part_2(puzzle_input)"
            ]
        }
    ],
    "metadata": {
        "kernelspec": {
            "display_name": "Python 3",
            "language": "python",
            "name": "python3"
        },
        "language_info": {
            "codemirror_mode": {
                "name": "ipython",
                "version": 3
            },
            "file_extension": ".py",
            "mimetype": "text/x-python",
            "name": "python",
            "nbconvert_exporter": "python",
            "pygments_lexer": "ipython3",
            "version": "3.11.0"
        }
    },
    "nbformat": 4,
    "nbformat_minor": 2
}