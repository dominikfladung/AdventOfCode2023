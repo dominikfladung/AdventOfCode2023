{
    "cells": [
        {
            "cell_type": "markdown",
            "metadata": {},
            "source": [
                "[Day 12 - Advent of Code 2023](https://adventofcode.com/2023/day/12)\n",
                "\n",
                "<article class=\"day-desc\">\n <h2>\n  --- Day 12: Hot Springs ---\n </h2>\n <p>\n  You finally reach the hot springs! You can see steam rising from secluded areas attached to the primary, ornate building.\n </p>\n <p>\n  As you turn to enter, the\n  <a href=\"11\">\n   researcher\n  </a>\n  stops you. \"Wait - I thought you were looking for the hot springs, weren't you?\" You indicate that this definitely looks like hot springs to you.\n </p>\n <p>\n  \"Oh, sorry, common mistake! This is actually the\n  <a href=\"https://en.wikipedia.org/wiki/Onsen\" target=\"_blank\">\n   onsen\n  </a>\n  ! The hot springs are next door.\"\n </p>\n <p>\n  You look in the direction the researcher is pointing and suddenly notice the\n  <span title=\"I love this joke. I'm not sorry.\">\n   massive metal helixes\n  </span>\n  towering overhead. \"This way!\"\n </p>\n <p>\n  It only takes you a few more steps to reach the main gate of the massive fenced-off area containing the springs. You go through the gate and into a small administrative building.\n </p>\n <p>\n  \"Hello! What brings you to the hot springs today? Sorry they're not very hot right now; we're having a\n  <em>\n   lava shortage\n  </em>\n  at the moment.\" You ask about the missing machine parts for Desert Island.\n </p>\n <p>\n  \"Oh, all of Gear Island is currently offline! Nothing is being manufactured at the moment, not until we get more lava to heat our forges. And our springs. The springs aren't very springy unless they're hot!\"\n </p>\n <p>\n  \"Say, could you go up and see why the lava stopped flowing? The springs are too cold for normal operation, but we should be able to find one springy enough to launch\n  <em>\n   you\n  </em>\n  up there!\"\n </p>\n <p>\n  There's just one problem - many of the springs have fallen into disrepair, so they're not actually sure which springs would even be\n  <em>\n   safe\n  </em>\n  to use! Worse yet, their\n  <em>\n   condition records of which springs are damaged\n  </em>\n  (your puzzle input) are also damaged! You'll need to help them repair the damaged records.\n </p>\n <p>\n  In the giant field just outside, the springs are arranged into\n  <em>\n   rows\n  </em>\n  . For each row, the condition records show every spring and whether it is\n  <em>\n   operational\n  </em>\n  (\n  <code>\n   .\n  </code>\n  ) or\n  <em>\n   damaged\n  </em>\n  (\n  <code>\n   #\n  </code>\n  ). This is the part of the condition records that is itself damaged; for some springs, it is simply\n  <em>\n   unknown\n  </em>\n  (\n  <code>\n   ?\n  </code>\n  ) whether the spring is operational or damaged.\n </p>\n <p>\n  However, the engineer that produced the condition records also duplicated some of this information in a different format! After the list of springs for a given row, the size of each\n  <em>\n   contiguous group of damaged springs\n  </em>\n  is listed in the order those groups appear in the row. This list always accounts for every damaged spring, and each number is the entire size of its contiguous group (that is, groups are always separated by at least one operational spring:\n  <code>\n   ####\n  </code>\n  would always be\n  <code>\n   4\n  </code>\n  , never\n  <code>\n   2,2\n  </code>\n  ).\n </p>\n <p>\n  So, condition records with no unknown spring conditions might look like this:\n </p>\n <pre><code>#.#.### 1,1,3\n.#...#....###. 1,1,3\n.#.###.#.###### 1,3,1,6\n####.#...#... 4,1,1\n#....######..#####. 1,6,5\n.###.##....# 3,2,1\n</code></pre>\n <p>\n  However, the condition records are partially damaged; some of the springs' conditions are actually\n  <em>\n   unknown\n  </em>\n  (\n  <code>\n   ?\n  </code>\n  ). For example:\n </p>\n <pre><code>???.### 1,1,3\n.??..??...?##. 1,1,3\n?#?#?#?#?#?#?#? 1,3,1,6\n????.#...#... 4,1,1\n????.######..#####. 1,6,5\n?###???????? 3,2,1\n</code></pre>\n <p>\n  Equipped with this information, it is your job to figure out\n  <em>\n   how many different arrangements\n  </em>\n  of operational and broken springs fit the given criteria in each row.\n </p>\n <p>\n  In the first line (\n  <code>\n   ???.### 1,1,3\n  </code>\n  ), there is exactly\n  <em>\n   one\n  </em>\n  way separate groups of one, one, and three broken springs (in that order) can appear in that row: the first three unknown springs must be broken, then operational, then broken (\n  <code>\n   #.#\n  </code>\n  ), making the whole row\n  <code>\n   #.#.###\n  </code>\n  .\n </p>\n <p>\n  The second line is more interesting:\n  <code>\n   .??..??...?##. 1,1,3\n  </code>\n  could be a total of\n  <em>\n   four\n  </em>\n  different arrangements. The last\n  <code>\n   ?\n  </code>\n  must always be broken (to satisfy the final contiguous group of three broken springs), and each\n  <code>\n   ??\n  </code>\n  must hide exactly one of the two broken springs. (Neither\n  <code>\n   ??\n  </code>\n  could be both broken springs or they would form a single contiguous group of two; if that were true, the numbers afterward would have been\n  <code>\n   2,3\n  </code>\n  instead.) Since each\n  <code>\n   ??\n  </code>\n  can either be\n  <code>\n   #.\n  </code>\n  or\n  <code>\n   .#\n  </code>\n  , there are four possible arrangements of springs.\n </p>\n <p>\n  The last line is actually consistent with\n  <em>\n   ten\n  </em>\n  different arrangements! Because the first number is\n  <code>\n   3\n  </code>\n  , the first and second\n  <code>\n   ?\n  </code>\n  must both be\n  <code>\n   .\n  </code>\n  (if either were\n  <code>\n   #\n  </code>\n  , the first number would have to be\n  <code>\n   4\n  </code>\n  or higher). However, the remaining run of unknown spring conditions have many different ways they could hold groups of two and one broken springs:\n </p>\n <pre><code>?###???????? 3,2,1\n.###.##.#...\n.###.##..#..\n.###.##...#.\n.###.##....#\n.###..##.#..\n.###..##..#.\n.###..##...#\n.###...##.#.\n.###...##..#\n.###....##.#\n</code></pre>\n <p>\n  In this example, the number of possible arrangements for each row is:\n </p>\n <ul>\n  <li>\n   <code>\n    ???.### 1,1,3\n   </code>\n   -\n   <code>\n    <em>\n     1\n    </em>\n   </code>\n   arrangement\n  </li>\n  <li>\n   <code>\n    .??..??...?##. 1,1,3\n   </code>\n   -\n   <code>\n    <em>\n     4\n    </em>\n   </code>\n   arrangements\n  </li>\n  <li>\n   <code>\n    ?#?#?#?#?#?#?#? 1,3,1,6\n   </code>\n   -\n   <code>\n    <em>\n     1\n    </em>\n   </code>\n   arrangement\n  </li>\n  <li>\n   <code>\n    ????.#...#... 4,1,1\n   </code>\n   -\n   <code>\n    <em>\n     1\n    </em>\n   </code>\n   arrangement\n  </li>\n  <li>\n   <code>\n    ????.######..#####. 1,6,5\n   </code>\n   -\n   <code>\n    <em>\n     4\n    </em>\n   </code>\n   arrangements\n  </li>\n  <li>\n   <code>\n    ?###???????? 3,2,1\n   </code>\n   -\n   <code>\n    <em>\n     10\n    </em>\n   </code>\n   arrangements\n  </li>\n </ul>\n <p>\n  Adding all of the possible arrangement counts together produces a total of\n  <code>\n   <em>\n    21\n   </em>\n  </code>\n  arrangements.\n </p>\n <p>\n  For each row, count all of the different arrangements of operational and broken springs that meet the given criteria.\n  <em>\n   What is the sum of those counts?\n  </em>\n </p>\n</article>\n"
            ]
        },
        {
            "cell_type": "code",
            "execution_count": null,
            "metadata": {},
            "outputs": [],
            "source": [
                "import helpers\n",
                "from tqdm.notebook import tqdm\n",
                "import numpy as np\n",
                "import re"
            ]
        },
        {
            "cell_type": "code",
            "execution_count": null,
            "metadata": {},
            "outputs": [],
            "source": [
                "puzzle_input = helpers.import_input(12)"
            ]
        },
        {
            "cell_type": "markdown",
            "metadata": {},
            "source": [
                "## Part 1"
            ]
        },
        {
            "cell_type": "code",
            "execution_count": null,
            "metadata": {},
            "outputs": [],
            "source": [
                "test_puzzle_input_part_1 = \"\"\"#.#.### 1,1,3\n.#...#....###. 1,1,3\n.#.###.#.###### 1,3,1,6\n####.#...#... 4,1,1\n#....######..#####. 1,6,5\n.###.##....# 3,2,1\n\"\"\".splitlines()"
            ]
        },
        {
            "cell_type": "code",
            "execution_count": null,
            "metadata": {},
            "outputs": [],
            "source": [
                "def part_1(input):\n",
                "    return None\n",
                "\n",
                "assert part_1(test_puzzle_input_part_1) == 21"
            ]
        },
        {
            "cell_type": "code",
            "execution_count": null,
            "metadata": {},
            "outputs": [],
            "source": [
                "part_1(puzzle_input)"
            ]
        },
        {
            "cell_type": "markdown",
            "metadata": {},
            "source": [
                "## Part 2"
            ]
        },
        {
            "cell_type": "code",
            "execution_count": null,
            "metadata": {},
            "outputs": [],
            "source": [
                "test_puzzle_input_part_2 = \"\"\"\n",
                "\"\"\".splitlines()"
            ]
        },
        {
            "cell_type": "code",
            "execution_count": null,
            "metadata": {},
            "outputs": [],
            "source": [
                "def part_2(input):\n",
                "    return None\n",
                "\n",
                "assert part_2(test_puzzle_input_part_2) == None"
            ]
        },
        {
            "cell_type": "code",
            "execution_count": null,
            "metadata": {},
            "outputs": [],
            "source": [
                "part_2(puzzle_input)"
            ]
        }
    ],
    "metadata": {
        "kernelspec": {
            "display_name": "Python 3",
            "language": "python",
            "name": "python3"
        },
        "language_info": {
            "codemirror_mode": {
                "name": "ipython",
                "version": 3
            },
            "file_extension": ".py",
            "mimetype": "text/x-python",
            "name": "python",
            "nbconvert_exporter": "python",
            "pygments_lexer": "ipython3",
            "version": "3.11.0"
        }
    },
    "nbformat": 4,
    "nbformat_minor": 2
}