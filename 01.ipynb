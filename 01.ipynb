{
    "cells": [
        {
            "cell_type": "markdown",
            "metadata": {},
            "source": [
                "[Day 1 - Advent of Code 2023](https://adventofcode.com/2023/day/1)\n",
                "\n",
                "<article class=\"day-desc\">\n",
                " <h2>\n",
                "  --- Day 1: Trebuchet?! ---\n",
                " </h2>\n",
                " <p>\n",
                "  Something is wrong with global snow production, and you've been selected to take a look. The Elves have even given you a map; on it, they've used stars to mark the top fifty locations that are likely to be having problems.\n",
                " </p>\n",
                " <p>\n",
                "  You've been doing this long enough to know that to restore snow operations, you need to check all\n",
                "  <em class=\"star\">\n",
                "   fifty stars\n",
                "  </em>\n",
                "  by December 25th.\n",
                " </p>\n",
                " <p>\n",
                "  Collect stars by solving puzzles.  Two puzzles will be made available on each day in the Advent calendar; the second puzzle is unlocked when you complete the first.  Each puzzle grants\n",
                "  <em class=\"star\">\n",
                "   one star\n",
                "  </em>\n",
                "  . Good luck!\n",
                " </p>\n",
                " <p>\n",
                "  You try to ask why they can't just use a\n",
                "  <a href=\"/2015/day/1\">\n",
                "   weather machine\n",
                "  </a>\n",
                "  (\"not powerful enough\") and where they're even sending you (\"the sky\") and why your map looks mostly blank (\"you sure ask a lot of questions\")\n",
                "  <span title=\"My hope is that this abomination of a run-on sentence somehow conveys the chaos of being hastily loaded into a trebuchet.\">\n",
                "   and\n",
                "  </span>\n",
                "  hang on did you just say the sky (\"of course, where do you think snow comes from\") when you realize that the Elves are already loading you into a\n",
                "  <a href=\"https://en.wikipedia.org/wiki/Trebuchet\" target=\"_blank\">\n",
                "   trebuchet\n",
                "  </a>\n",
                "  (\"please hold still, we need to strap you in\").\n",
                " </p>\n",
                " <p>\n",
                "  As they're making the final adjustments, they discover that their calibration document (your puzzle input) has been\n",
                "  <em>\n",
                "   amended\n",
                "  </em>\n",
                "  by a very young Elf who was apparently just excited to show off her art skills. Consequently, the Elves are having trouble reading the values on the document.\n",
                " </p>\n",
                " <p>\n",
                "  The newly-improved calibration document consists of lines of text; each line originally contained a specific\n",
                "  <em>\n",
                "   calibration value\n",
                "  </em>\n",
                "  that the Elves now need to recover. On each line, the calibration value can be found by combining the\n",
                "  <em>\n",
                "   first digit\n",
                "  </em>\n",
                "  and the\n",
                "  <em>\n",
                "   last digit\n",
                "  </em>\n",
                "  (in that order) to form a single\n",
                "  <em>\n",
                "   two-digit number\n",
                "  </em>\n",
                "  .\n",
                " </p>\n",
                " <p>\n",
                "  For example:\n",
                " </p>\n",
                " <pre><code>1abc2\n",
                "pqr3stu8vwx\n",
                "a1b2c3d4e5f\n",
                "treb7uchet\n",
                "</code></pre>\n",
                " <p>\n",
                "  In this example, the calibration values of these four lines are\n",
                "  <code>\n",
                "   12\n",
                "  </code>\n",
                "  ,\n",
                "  <code>\n",
                "   38\n",
                "  </code>\n",
                "  ,\n",
                "  <code>\n",
                "   15\n",
                "  </code>\n",
                "  , and\n",
                "  <code>\n",
                "   77\n",
                "  </code>\n",
                "  . Adding these together produces\n",
                "  <code>\n",
                "   <em>\n",
                "    142\n",
                "   </em>\n",
                "  </code>\n",
                "  .\n",
                " </p>\n",
                " <p>\n",
                "  Consider your entire calibration document.\n",
                "  <em>\n",
                "   What is the sum of all of the calibration values?\n",
                "  </em>\n",
                " </p>\n",
                "</article>\n"
            ]
        },
        {
            "cell_type": "code",
            "execution_count": 1,
            "metadata": {},
            "outputs": [],
            "source": [
                "import helpers\n",
                "from tqdm.notebook import tqdm\n",
                "import numpy as np\n",
                "import re"
            ]
        },
        {
            "cell_type": "code",
            "execution_count": 2,
            "metadata": {},
            "outputs": [],
            "source": [
                "puzzle_input = helpers.import_input(1)"
            ]
        },
        {
            "cell_type": "markdown",
            "metadata": {},
            "source": [
                "## Part 1"
            ]
        },
        {
            "cell_type": "code",
            "execution_count": 3,
            "metadata": {},
            "outputs": [],
            "source": [
                "test_puzzle_input_part_1 = \"\"\"1abc2\n",
                "pqr3stu8vwx\n",
                "a1b2c3d4e5f\n",
                "treb7uchet\n",
                "\"\"\".splitlines()"
            ]
        },
        {
            "cell_type": "code",
            "execution_count": 4,
            "metadata": {},
            "outputs": [],
            "source": [
                "def find_numbers(line):\n",
                "    regex = r'(\\d+)'\n",
                "    matches = re.finditer(f'(?=({regex}))', line)\n",
                "    return [match.group(1) for match in matches]\n",
                "   \n",
                "\n",
                "def part_1(input):\n",
                "    solution = 0\n",
                "    for line in input:\n",
                "        numbers_found = find_numbers(line.lower())\n",
                "        first_number = numbers_found[0][0]\n",
                "        last_number = numbers_found[-1][0]\n",
                "    \n",
                "        calibration_value = first_number + last_number\n",
                "        solution += int(calibration_value)\n",
                "    return solution\n",
                "\n",
                "assert part_1(test_puzzle_input_part_1) == 142"
            ]
        },
        {
            "cell_type": "code",
            "execution_count": 5,
            "metadata": {},
            "outputs": [
                {
                    "data": {
                        "text/plain": [
                            "54388"
                        ]
                    },
                    "execution_count": 5,
                    "metadata": {},
                    "output_type": "execute_result"
                }
            ],
            "source": [
                "part_1(puzzle_input)"
            ]
        },
        {
            "cell_type": "markdown",
            "metadata": {},
            "source": [
                "## Part 2\n",
                "\n",
                "--- Part Two ---\n",
                "\n",
                "Your calculation isn't quite right. It looks like some of the digits are actually spelled out with letters: one, two, three, four, five, six, seven, eight, and nine also count as valid \"digits\".\n",
                "\n",
                "Equipped with this new information, you now need to find the real first and last digit on each line. For example:\n",
                "\n",
                "<code>\n",
                "two1nine\n",
                "eightwothree\n",
                "abcone2threexyz\n",
                "xtwone3four\n",
                "4nineeightseven2\n",
                "zoneight234\n",
                "7pqrstsixteen\n",
                "</code>\n",
                "\n",
                "In this example, the calibration values are 29, 83, 13, 24, 42, 14, and 76. Adding these together produces 281.\n"
            ]
        },
        {
            "cell_type": "code",
            "execution_count": 6,
            "metadata": {},
            "outputs": [],
            "source": [
                "test_puzzle_input_part_2 = \"\"\"two1nine\n",
                "eightwothree\n",
                "abcone2threexyz\n",
                "xtwone3four\n",
                "4nineeightseven2\n",
                "zoneight234\n",
                "7pqrstsixteen\"\"\".splitlines()"
            ]
        },
        {
            "cell_type": "code",
            "execution_count": 10,
            "metadata": {},
            "outputs": [
                {
                    "ename": "KeyboardInterrupt",
                    "evalue": "",
                    "output_type": "error",
                    "traceback": [
                        "\u001b[1;31m---------------------------------------------------------------------------\u001b[0m",
                        "\u001b[1;31mKeyboardInterrupt\u001b[0m                         Traceback (most recent call last)",
                        "\u001b[1;32mc:\\Users\\dominik.fladung\\dev\\AdventOfCode2023\\01.ipynb Cell 10\u001b[0m line \u001b[0;36m3\n\u001b[0;32m     <a href='vscode-notebook-cell:/c%3A/Users/dominik.fladung/dev/AdventOfCode2023/01.ipynb#X12sZmlsZQ%3D%3D?line=34'>35</a>\u001b[0m         solution \u001b[39m+\u001b[39m\u001b[39m=\u001b[39m \u001b[39mint\u001b[39m(calibration_value)\n\u001b[0;32m     <a href='vscode-notebook-cell:/c%3A/Users/dominik.fladung/dev/AdventOfCode2023/01.ipynb#X12sZmlsZQ%3D%3D?line=35'>36</a>\u001b[0m     \u001b[39mreturn\u001b[39;00m solution\n\u001b[1;32m---> <a href='vscode-notebook-cell:/c%3A/Users/dominik.fladung/dev/AdventOfCode2023/01.ipynb#X12sZmlsZQ%3D%3D?line=37'>38</a>\u001b[0m \u001b[39massert\u001b[39;00m part_2(test_puzzle_input_part_2) \u001b[39m==\u001b[39m \u001b[39m281\u001b[39m\n",
                        "\u001b[1;32mc:\\Users\\dominik.fladung\\dev\\AdventOfCode2023\\01.ipynb Cell 10\u001b[0m line \u001b[0;36m3\n\u001b[0;32m     <a href='vscode-notebook-cell:/c%3A/Users/dominik.fladung/dev/AdventOfCode2023/01.ipynb#X12sZmlsZQ%3D%3D?line=28'>29</a>\u001b[0m \u001b[39mfor\u001b[39;00m line \u001b[39min\u001b[39;00m \u001b[39minput\u001b[39m:\n\u001b[0;32m     <a href='vscode-notebook-cell:/c%3A/Users/dominik.fladung/dev/AdventOfCode2023/01.ipynb#X12sZmlsZQ%3D%3D?line=29'>30</a>\u001b[0m     numbers_found \u001b[39m=\u001b[39m find_numbers(line\u001b[39m.\u001b[39mlower())\n\u001b[1;32m---> <a href='vscode-notebook-cell:/c%3A/Users/dominik.fladung/dev/AdventOfCode2023/01.ipynb#X12sZmlsZQ%3D%3D?line=30'>31</a>\u001b[0m     first_number \u001b[39m=\u001b[39m numbers_found[\u001b[39m0\u001b[39m][\u001b[39m0\u001b[39m]\n\u001b[0;32m     <a href='vscode-notebook-cell:/c%3A/Users/dominik.fladung/dev/AdventOfCode2023/01.ipynb#X12sZmlsZQ%3D%3D?line=31'>32</a>\u001b[0m     last_number \u001b[39m=\u001b[39m numbers_found[\u001b[39m-\u001b[39m\u001b[39m1\u001b[39m][\u001b[39m0\u001b[39m]\n\u001b[0;32m     <a href='vscode-notebook-cell:/c%3A/Users/dominik.fladung/dev/AdventOfCode2023/01.ipynb#X12sZmlsZQ%3D%3D?line=33'>34</a>\u001b[0m     calibration_value \u001b[39m=\u001b[39m first_number \u001b[39m+\u001b[39m last_number\n",
                        "\u001b[1;32mc:\\Users\\dominik.fladung\\dev\\AdventOfCode2023\\01.ipynb Cell 10\u001b[0m line \u001b[0;36m3\n\u001b[0;32m     <a href='vscode-notebook-cell:/c%3A/Users/dominik.fladung/dev/AdventOfCode2023/01.ipynb#X12sZmlsZQ%3D%3D?line=28'>29</a>\u001b[0m \u001b[39mfor\u001b[39;00m line \u001b[39min\u001b[39;00m \u001b[39minput\u001b[39m:\n\u001b[0;32m     <a href='vscode-notebook-cell:/c%3A/Users/dominik.fladung/dev/AdventOfCode2023/01.ipynb#X12sZmlsZQ%3D%3D?line=29'>30</a>\u001b[0m     numbers_found \u001b[39m=\u001b[39m find_numbers(line\u001b[39m.\u001b[39mlower())\n\u001b[1;32m---> <a href='vscode-notebook-cell:/c%3A/Users/dominik.fladung/dev/AdventOfCode2023/01.ipynb#X12sZmlsZQ%3D%3D?line=30'>31</a>\u001b[0m     first_number \u001b[39m=\u001b[39m numbers_found[\u001b[39m0\u001b[39m][\u001b[39m0\u001b[39m]\n\u001b[0;32m     <a href='vscode-notebook-cell:/c%3A/Users/dominik.fladung/dev/AdventOfCode2023/01.ipynb#X12sZmlsZQ%3D%3D?line=31'>32</a>\u001b[0m     last_number \u001b[39m=\u001b[39m numbers_found[\u001b[39m-\u001b[39m\u001b[39m1\u001b[39m][\u001b[39m0\u001b[39m]\n\u001b[0;32m     <a href='vscode-notebook-cell:/c%3A/Users/dominik.fladung/dev/AdventOfCode2023/01.ipynb#X12sZmlsZQ%3D%3D?line=33'>34</a>\u001b[0m     calibration_value \u001b[39m=\u001b[39m first_number \u001b[39m+\u001b[39m last_number\n",
                        "File \u001b[1;32m~\\AppData\\Roaming\\Python\\Python311\\site-packages\\debugpy\\_vendored\\pydevd\\_pydevd_bundle\\pydevd_frame.py:987\u001b[0m, in \u001b[0;36mPyDBFrame.trace_dispatch\u001b[1;34m(self, frame, event, arg)\u001b[0m\n\u001b[0;32m    985\u001b[0m \u001b[39m# if thread has a suspend flag, we suspend with a busy wait\u001b[39;00m\n\u001b[0;32m    986\u001b[0m \u001b[39mif\u001b[39;00m info\u001b[39m.\u001b[39mpydev_state \u001b[39m==\u001b[39m STATE_SUSPEND:\n\u001b[1;32m--> 987\u001b[0m     \u001b[39mself\u001b[39;49m\u001b[39m.\u001b[39;49mdo_wait_suspend(thread, frame, event, arg)\n\u001b[0;32m    988\u001b[0m     \u001b[39mreturn\u001b[39;00m \u001b[39mself\u001b[39m\u001b[39m.\u001b[39mtrace_dispatch\n\u001b[0;32m    989\u001b[0m \u001b[39melse\u001b[39;00m:\n",
                        "File \u001b[1;32m~\\AppData\\Roaming\\Python\\Python311\\site-packages\\debugpy\\_vendored\\pydevd\\_pydevd_bundle\\pydevd_frame.py:164\u001b[0m, in \u001b[0;36mPyDBFrame.do_wait_suspend\u001b[1;34m(self, *args, **kwargs)\u001b[0m\n\u001b[0;32m    163\u001b[0m \u001b[39mdef\u001b[39;00m \u001b[39mdo_wait_suspend\u001b[39m(\u001b[39mself\u001b[39m, \u001b[39m*\u001b[39margs, \u001b[39m*\u001b[39m\u001b[39m*\u001b[39mkwargs):\n\u001b[1;32m--> 164\u001b[0m     \u001b[39mself\u001b[39;49m\u001b[39m.\u001b[39;49m_args[\u001b[39m0\u001b[39;49m]\u001b[39m.\u001b[39;49mdo_wait_suspend(\u001b[39m*\u001b[39;49margs, \u001b[39m*\u001b[39;49m\u001b[39m*\u001b[39;49mkwargs)\n",
                        "File \u001b[1;32m~\\AppData\\Roaming\\Python\\Python311\\site-packages\\debugpy\\_vendored\\pydevd\\pydevd.py:2062\u001b[0m, in \u001b[0;36mPyDB.do_wait_suspend\u001b[1;34m(self, thread, frame, event, arg, exception_type)\u001b[0m\n\u001b[0;32m   2059\u001b[0m             from_this_thread\u001b[39m.\u001b[39mappend(frame_custom_thread_id)\n\u001b[0;32m   2061\u001b[0m     \u001b[39mwith\u001b[39;00m \u001b[39mself\u001b[39m\u001b[39m.\u001b[39m_threads_suspended_single_notification\u001b[39m.\u001b[39mnotify_thread_suspended(thread_id, stop_reason):\n\u001b[1;32m-> 2062\u001b[0m         keep_suspended \u001b[39m=\u001b[39m \u001b[39mself\u001b[39;49m\u001b[39m.\u001b[39;49m_do_wait_suspend(thread, frame, event, arg, suspend_type, from_this_thread, frames_tracker)\n\u001b[0;32m   2064\u001b[0m frames_list \u001b[39m=\u001b[39m \u001b[39mNone\u001b[39;00m\n\u001b[0;32m   2066\u001b[0m \u001b[39mif\u001b[39;00m keep_suspended:\n\u001b[0;32m   2067\u001b[0m     \u001b[39m# This means that we should pause again after a set next statement.\u001b[39;00m\n",
                        "File \u001b[1;32m~\\AppData\\Roaming\\Python\\Python311\\site-packages\\debugpy\\_vendored\\pydevd\\pydevd.py:2098\u001b[0m, in \u001b[0;36mPyDB._do_wait_suspend\u001b[1;34m(self, thread, frame, event, arg, suspend_type, from_this_thread, frames_tracker)\u001b[0m\n\u001b[0;32m   2095\u001b[0m         \u001b[39mself\u001b[39m\u001b[39m.\u001b[39m_call_input_hook()\n\u001b[0;32m   2097\u001b[0m     \u001b[39mself\u001b[39m\u001b[39m.\u001b[39mprocess_internal_commands()\n\u001b[1;32m-> 2098\u001b[0m     time\u001b[39m.\u001b[39msleep(\u001b[39m0.01\u001b[39m)\n\u001b[0;32m   2100\u001b[0m \u001b[39mself\u001b[39m\u001b[39m.\u001b[39mcancel_async_evaluation(get_current_thread_id(thread), \u001b[39mstr\u001b[39m(\u001b[39mid\u001b[39m(frame)))\n\u001b[0;32m   2102\u001b[0m \u001b[39m# process any stepping instructions\u001b[39;00m\n",
                        "\u001b[1;31mKeyboardInterrupt\u001b[0m: "
                    ]
                }
            ],
            "source": [
                "numbers_dictionary = {\n",
                "    'one': \"1\",\n",
                "    'two': \"2\",\n",
                "    'three': \"3\",\n",
                "    'four': \"4\",\n",
                "    'five': \"5\",\n",
                "    'six': \"6\",\n",
                "    'seven': \"7\",\n",
                "    'eight': \"8\",\n",
                "    'nine': \"9\",\n",
                "    '1': \"1\",\n",
                "    '2': \"2\",\n",
                "    '3': \"3\",\n",
                "    '4': \"4\",\n",
                "    '5': \"5\",\n",
                "    '6': \"6\",\n",
                "    '7': \"7\",\n",
                "    '8': \"8\",\n",
                "    '9': \"9\"\n",
                "}\n",
                "\n",
                "def find_numbers(line):\n",
                "    regex = \"|\".join(numbers_dictionary.keys())\n",
                "    matches = re.finditer(f'(?=({regex}))', line)\n",
                "    return [numbers_dictionary[match.group(1)] for match in matches]\n",
                "\n",
                "def part_2(input):\n",
                "    solution = 0\n",
                "    for line in input:\n",
                "        numbers_found = find_numbers(line.lower())\n",
                "        first_number = numbers_found[0][0]\n",
                "        last_number = numbers_found[-1][0]\n",
                "    \n",
                "        calibration_value = first_number + last_number\n",
                "        solution += int(calibration_value)\n",
                "    return solution\n",
                "\n",
                "assert part_2(test_puzzle_input_part_2) == 281"
            ]
        },
        {
            "cell_type": "code",
            "execution_count": null,
            "metadata": {},
            "outputs": [],
            "source": [
                "part_2(puzzle_input)"
            ]
        }
    ],
    "metadata": {
        "kernelspec": {
            "display_name": "Python 3",
            "language": "python",
            "name": "python3"
        },
        "language_info": {
            "codemirror_mode": {
                "name": "ipython",
                "version": 3
            },
            "file_extension": ".py",
            "mimetype": "text/x-python",
            "name": "python",
            "nbconvert_exporter": "python",
            "pygments_lexer": "ipython3",
            "version": "3.11.0"
        }
    },
    "nbformat": 4,
    "nbformat_minor": 2
}
