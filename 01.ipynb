{
    "cells": [
        {
            "cell_type": "markdown",
            "metadata": {},
            "source": [
                "[Day 1 - Advent of Code 2023](https://adventofcode.com/2023/day/1)\n",
                "\n",
                "<article class=\"day-desc\">\n",
                " <h2>\n",
                "  --- Day 1: Trebuchet?! ---\n",
                " </h2>\n",
                " <p>\n",
                "  Something is wrong with global snow production, and you've been selected to take a look. The Elves have even given you a map; on it, they've used stars to mark the top fifty locations that are likely to be having problems.\n",
                " </p>\n",
                " <p>\n",
                "  You've been doing this long enough to know that to restore snow operations, you need to check all\n",
                "  <em class=\"star\">\n",
                "   fifty stars\n",
                "  </em>\n",
                "  by December 25th.\n",
                " </p>\n",
                " <p>\n",
                "  Collect stars by solving puzzles.  Two puzzles will be made available on each day in the Advent calendar; the second puzzle is unlocked when you complete the first.  Each puzzle grants\n",
                "  <em class=\"star\">\n",
                "   one star\n",
                "  </em>\n",
                "  . Good luck!\n",
                " </p>\n",
                " <p>\n",
                "  You try to ask why they can't just use a\n",
                "  <a href=\"/2015/day/1\">\n",
                "   weather machine\n",
                "  </a>\n",
                "  (\"not powerful enough\") and where they're even sending you (\"the sky\") and why your map looks mostly blank (\"you sure ask a lot of questions\")\n",
                "  <span title=\"My hope is that this abomination of a run-on sentence somehow conveys the chaos of being hastily loaded into a trebuchet.\">\n",
                "   and\n",
                "  </span>\n",
                "  hang on did you just say the sky (\"of course, where do you think snow comes from\") when you realize that the Elves are already loading you into a\n",
                "  <a href=\"https://en.wikipedia.org/wiki/Trebuchet\" target=\"_blank\">\n",
                "   trebuchet\n",
                "  </a>\n",
                "  (\"please hold still, we need to strap you in\").\n",
                " </p>\n",
                " <p>\n",
                "  As they're making the final adjustments, they discover that their calibration document (your puzzle input) has been\n",
                "  <em>\n",
                "   amended\n",
                "  </em>\n",
                "  by a very young Elf who was apparently just excited to show off her art skills. Consequently, the Elves are having trouble reading the values on the document.\n",
                " </p>\n",
                " <p>\n",
                "  The newly-improved calibration document consists of lines of text; each line originally contained a specific\n",
                "  <em>\n",
                "   calibration value\n",
                "  </em>\n",
                "  that the Elves now need to recover. On each line, the calibration value can be found by combining the\n",
                "  <em>\n",
                "   first digit\n",
                "  </em>\n",
                "  and the\n",
                "  <em>\n",
                "   last digit\n",
                "  </em>\n",
                "  (in that order) to form a single\n",
                "  <em>\n",
                "   two-digit number\n",
                "  </em>\n",
                "  .\n",
                " </p>\n",
                " <p>\n",
                "  For example:\n",
                " </p>\n",
                " <pre><code>1abc2\n",
                "pqr3stu8vwx\n",
                "a1b2c3d4e5f\n",
                "treb7uchet\n",
                "</code></pre>\n",
                " <p>\n",
                "  In this example, the calibration values of these four lines are\n",
                "  <code>\n",
                "   12\n",
                "  </code>\n",
                "  ,\n",
                "  <code>\n",
                "   38\n",
                "  </code>\n",
                "  ,\n",
                "  <code>\n",
                "   15\n",
                "  </code>\n",
                "  , and\n",
                "  <code>\n",
                "   77\n",
                "  </code>\n",
                "  . Adding these together produces\n",
                "  <code>\n",
                "   <em>\n",
                "    142\n",
                "   </em>\n",
                "  </code>\n",
                "  .\n",
                " </p>\n",
                " <p>\n",
                "  Consider your entire calibration document.\n",
                "  <em>\n",
                "   What is the sum of all of the calibration values?\n",
                "  </em>\n",
                " </p>\n",
                "</article>\n"
            ]
        },
        {
            "cell_type": "code",
            "execution_count": 10,
            "metadata": {},
            "outputs": [],
            "source": [
                "import helpers\n",
                "from tqdm.notebook import tqdm\n",
                "import numpy as np\n",
                "import re"
            ]
        },
        {
            "cell_type": "code",
            "execution_count": 11,
            "metadata": {},
            "outputs": [],
            "source": [
                "puzzle_input = helpers.import_input(1)"
            ]
        },
        {
            "cell_type": "markdown",
            "metadata": {},
            "source": [
                "## Part 1"
            ]
        },
        {
            "cell_type": "code",
            "execution_count": 12,
            "metadata": {},
            "outputs": [],
            "source": [
                "test_puzzle_input_part_1 = \"\"\"1abc2\n",
                "pqr3stu8vwx\n",
                "a1b2c3d4e5f\n",
                "treb7uchet\n",
                "\"\"\".splitlines()"
            ]
        },
        {
            "cell_type": "code",
            "execution_count": 13,
            "metadata": {},
            "outputs": [],
            "source": [
                "def find_numbers(line):\n",
                "    regex = r'(\\d+)'\n",
                "    matches = re.finditer(f'(?=({regex}))', line)\n",
                "    return [match.group(1) for match in matches]\n",
                "   \n",
                "\n",
                "def part_1(input):\n",
                "    solution = 0\n",
                "    for line in input:\n",
                "        numbers_found = find_numbers(line.lower())\n",
                "        first_number = numbers_found[0]\n",
                "        last_number = numbers_found[-1]\n",
                "    \n",
                "        calibration_value = first_number + last_number\n",
                "        solution += int(calibration_value)\n",
                "    return solution\n",
                "\n",
                "assert part_1(test_puzzle_input_part_1) == 142"
            ]
        },
        {
            "cell_type": "code",
            "execution_count": 14,
            "metadata": {},
            "outputs": [
                {
                    "data": {
                        "text/plain": [
                            "11035578"
                        ]
                    },
                    "execution_count": 14,
                    "metadata": {},
                    "output_type": "execute_result"
                }
            ],
            "source": [
                "part_1(puzzle_input)"
            ]
        },
        {
            "cell_type": "markdown",
            "metadata": {},
            "source": [
                "## Part 2\n",
                "\n",
                "--- Part Two ---\n",
                "\n",
                "Your calculation isn't quite right. It looks like some of the digits are actually spelled out with letters: one, two, three, four, five, six, seven, eight, and nine also count as valid \"digits\".\n",
                "\n",
                "Equipped with this new information, you now need to find the real first and last digit on each line. For example:\n",
                "\n",
                "<code>\n",
                "two1nine\n",
                "eightwothree\n",
                "abcone2threexyz\n",
                "xtwone3four\n",
                "4nineeightseven2\n",
                "zoneight234\n",
                "7pqrstsixteen\n",
                "</code>\n",
                "\n",
                "In this example, the calibration values are 29, 83, 13, 24, 42, 14, and 76. Adding these together produces 281.\n"
            ]
        },
        {
            "cell_type": "code",
            "execution_count": 15,
            "metadata": {},
            "outputs": [],
            "source": [
                "test_puzzle_input_part_2 = \"\"\"two1nine\n",
                "eightwothree\n",
                "abcone2threexyz\n",
                "xtwone3four\n",
                "4nineeightseven2\n",
                "zoneight234\n",
                "7pqrstsixteen\"\"\".splitlines()"
            ]
        },
        {
            "cell_type": "code",
            "execution_count": 16,
            "metadata": {},
            "outputs": [],
            "source": [
                "numbers_dictionary = {\n",
                "    'one': \"1\",\n",
                "    'two': \"2\",\n",
                "    'three': \"3\",\n",
                "    'four': \"4\",\n",
                "    'five': \"5\",\n",
                "    'six': \"6\",\n",
                "    'seven': \"7\",\n",
                "    'eight': \"8\",\n",
                "    'nine': \"9\",\n",
                "    '1': \"1\",\n",
                "    '2': \"2\",\n",
                "    '3': \"3\",\n",
                "    '4': \"4\",\n",
                "    '5': \"5\",\n",
                "    '6': \"6\",\n",
                "    '7': \"7\",\n",
                "    '8': \"8\",\n",
                "    '9': \"9\"\n",
                "}\n",
                "\n",
                "def find_numbers(line):\n",
                "    regex = \"|\".join(numbers_dictionary.keys())\n",
                "    matches = re.finditer(f'(?=({regex}))', line)\n",
                "    return [numbers_dictionary[match.group(1)] for match in matches]\n",
                "\n",
                "def part_2(input):\n",
                "    solution = 0\n",
                "    for line in input:\n",
                "        numbers_found = find_numbers(line.lower())\n",
                "        first_number = numbers_found[0]\n",
                "        last_number = numbers_found[-1]\n",
                "    \n",
                "        calibration_value = first_number + last_number\n",
                "        solution += int(calibration_value)\n",
                "    return solution\n",
                "\n",
                "assert part_2(test_puzzle_input_part_2) == 281"
            ]
        },
        {
            "cell_type": "code",
            "execution_count": 17,
            "metadata": {},
            "outputs": [
                {
                    "data": {
                        "text/plain": [
                            "53515"
                        ]
                    },
                    "execution_count": 17,
                    "metadata": {},
                    "output_type": "execute_result"
                }
            ],
            "source": [
                "part_2(puzzle_input)"
            ]
        }
    ],
    "metadata": {
        "kernelspec": {
            "display_name": "Python 3",
            "language": "python",
            "name": "python3"
        },
        "language_info": {
            "codemirror_mode": {
                "name": "ipython",
                "version": 3
            },
            "file_extension": ".py",
            "mimetype": "text/x-python",
            "name": "python",
            "nbconvert_exporter": "python",
            "pygments_lexer": "ipython3",
            "version": "3.11.0"
        }
    },
    "nbformat": 4,
    "nbformat_minor": 2
}
