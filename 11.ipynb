{
    "cells": [
        {
            "cell_type": "markdown",
            "metadata": {},
            "source": [
                "[Day 11 - Advent of Code 2023](https://adventofcode.com/2023/day/11)\n",
                "\n",
                "<article class=\"day-desc\">\n <h2>\n  --- Day 11: Cosmic Expansion ---\n </h2>\n <p>\n  You continue following signs for \"Hot Springs\" and eventually come across an\n  <a href=\"https://en.wikipedia.org/wiki/Observatory\" target=\"_blank\">\n   observatory\n  </a>\n  . The Elf within turns out to be a researcher studying cosmic expansion using the giant telescope here.\n </p>\n <p>\n  He doesn't know anything about the missing machine parts; he's only visiting for this research project. However, he confirms that the hot springs are the next-closest area likely to have people; he'll even take you straight there once he's done with today's observation analysis.\n </p>\n <p>\n  Maybe you can help him with the analysis to speed things up?\n </p>\n <p>\n  The researcher has collected a bunch of data and compiled the data into a single giant\n  <em>\n   image\n  </em>\n  (your puzzle input). The image includes\n  <em>\n   empty space\n  </em>\n  (\n  <code>\n   .\n  </code>\n  ) and\n  <em>\n   galaxies\n  </em>\n  (\n  <code>\n   #\n  </code>\n  ). For example:\n </p>\n <pre><code>...#......\n.......#..\n#.........\n..........\n......#...\n.#........\n.........#\n..........\n.......#..\n#...#.....\n</code></pre>\n <p>\n  The researcher is trying to figure out the sum of the lengths of the\n  <em>\n   shortest path between every pair of galaxies\n  </em>\n  . However, there's a catch: the universe expanded in the time it took the light from those galaxies to reach the observatory.\n </p>\n <p>\n  Due to something involving gravitational effects,\n  <em>\n   only some space expands\n  </em>\n  . In fact, the result is that\n  <em>\n   any rows or columns that contain no galaxies\n  </em>\n  should all actually be twice as big.\n </p>\n <p>\n  In the above example, three columns and two rows contain no galaxies:\n </p>\n <pre><code>   v  v  v\n ...#......\n .......#..\n #.........\n&gt;..........&lt;\n ......#...\n .#........\n .........#\n&gt;..........&lt;\n .......#..\n #...#.....\n   ^  ^  ^\n</code></pre>\n <p>\n  These rows and columns need to be\n  <em>\n   twice as big\n  </em>\n  ; the result of cosmic expansion therefore looks like this:\n </p>\n <pre><code>....#........\n.........#...\n#............\n.............\n.............\n........#....\n.#...........\n............#\n.............\n.............\n.........#...\n#....#.......\n</code></pre>\n <p>\n  Equipped with this expanded universe, the shortest path between every pair of galaxies can be found. It can help to assign every galaxy a unique number:\n </p>\n <pre><code>....1........\n.........2...\n3............\n.............\n.............\n........4....\n.5...........\n............6\n.............\n.............\n.........7...\n8....9.......\n</code></pre>\n <p>\n  In these 9 galaxies, there are\n  <em>\n   36 pairs\n  </em>\n  . Only count each pair once; order within the pair doesn't matter. For each pair, find any shortest path between the two galaxies using only steps that move up, down, left, or right exactly one\n  <code>\n   .\n  </code>\n  or\n  <code>\n   #\n  </code>\n  at a time. (The shortest path between two galaxies is allowed to pass through another galaxy.)\n </p>\n <p>\n  For example, here is one of the shortest paths between galaxies\n  <code>\n   5\n  </code>\n  and\n  <code>\n   9\n  </code>\n  :\n </p>\n <pre><code>....1........\n.........2...\n3............\n.............\n.............\n........4....\n.5...........\n.##.........6\n..##.........\n...##........\n....##...7...\n8....9.......\n</code></pre>\n <p>\n  This path has length\n  <code>\n   <em>\n    9\n   </em>\n  </code>\n  because it takes a minimum of\n  <em>\n   nine steps\n  </em>\n  to get from galaxy\n  <code>\n   5\n  </code>\n  to galaxy\n  <code>\n   9\n  </code>\n  (the eight locations marked\n  <code>\n   #\n  </code>\n  plus the step onto galaxy\n  <code>\n   9\n  </code>\n  itself). Here are some other example shortest path lengths:\n </p>\n <ul>\n  <li>\n   Between galaxy\n   <code>\n    1\n   </code>\n   and galaxy\n   <code>\n    7\n   </code>\n   : 15\n  </li>\n  <li>\n   Between galaxy\n   <code>\n    3\n   </code>\n   and galaxy\n   <code>\n    6\n   </code>\n   : 17\n  </li>\n  <li>\n   Between galaxy\n   <code>\n    8\n   </code>\n   and galaxy\n   <code>\n    9\n   </code>\n   : 5\n  </li>\n </ul>\n <p>\n  In this example, after expanding the universe, the sum of the shortest path between all 36 pairs of galaxies is\n  <code>\n   <em>\n    374\n   </em>\n  </code>\n  .\n </p>\n <p>\n  Expand the universe, then find the length of the shortest path between every pair of galaxies.\n  <em>\n   What is the sum of these lengths?\n  </em>\n </p>\n</article>\n"
            ]
        },
        {
            "cell_type": "code",
            "execution_count": null,
            "metadata": {},
            "outputs": [],
            "source": [
                "import helpers\n",
                "from tqdm.notebook import tqdm\n",
                "import numpy as np\n",
                "import re"
            ]
        },
        {
            "cell_type": "code",
            "execution_count": null,
            "metadata": {},
            "outputs": [],
            "source": [
                "puzzle_input = helpers.import_input(11)"
            ]
        },
        {
            "cell_type": "markdown",
            "metadata": {},
            "source": [
                "## Part 1"
            ]
        },
        {
            "cell_type": "code",
            "execution_count": null,
            "metadata": {},
            "outputs": [],
            "source": [
                "test_puzzle_input_part_1 = \"\"\"...#......\n.......#..\n#.........\n..........\n......#...\n.#........\n.........#\n..........\n.......#..\n#...#.....\n\"\"\".splitlines()"
            ]
        },
        {
            "cell_type": "code",
            "execution_count": null,
            "metadata": {},
            "outputs": [],
            "source": [
                "def part_1(input):\n",
                "    return None\n",
                "\n",
                "assert part_1(test_puzzle_input_part_1) == 374"
            ]
        },
        {
            "cell_type": "code",
            "execution_count": null,
            "metadata": {},
            "outputs": [],
            "source": [
                "part_1(puzzle_input)"
            ]
        },
        {
            "cell_type": "markdown",
            "metadata": {},
            "source": [
                "## Part 2"
            ]
        },
        {
            "cell_type": "code",
            "execution_count": null,
            "metadata": {},
            "outputs": [],
            "source": [
                "test_puzzle_input_part_2 = \"\"\"\n",
                "\"\"\".splitlines()"
            ]
        },
        {
            "cell_type": "code",
            "execution_count": null,
            "metadata": {},
            "outputs": [],
            "source": [
                "def part_2(input):\n",
                "    return None\n",
                "\n",
                "assert part_2(test_puzzle_input_part_2) == None"
            ]
        },
        {
            "cell_type": "code",
            "execution_count": null,
            "metadata": {},
            "outputs": [],
            "source": [
                "part_2(puzzle_input)"
            ]
        }
    ],
    "metadata": {
        "kernelspec": {
            "display_name": "Python 3",
            "language": "python",
            "name": "python3"
        },
        "language_info": {
            "codemirror_mode": {
                "name": "ipython",
                "version": 3
            },
            "file_extension": ".py",
            "mimetype": "text/x-python",
            "name": "python",
            "nbconvert_exporter": "python",
            "pygments_lexer": "ipython3",
            "version": "3.11.0"
        }
    },
    "nbformat": 4,
    "nbformat_minor": 2
}