{
    "cells": [
        {
            "cell_type": "markdown",
            "metadata": {},
            "source": [
                "[Day 8 - Advent of Code 2023](https://adventofcode.com/2023/day/8)\n",
                "\n",
                "<article class=\"day-desc\">\n <h2>\n  --- Day 8: Haunted Wasteland ---\n </h2>\n <p>\n  You're still riding a camel across Desert Island when you spot a sandstorm quickly approaching. When you turn to warn the Elf, she disappears before your eyes! To be fair, she had just finished warning you about\n  <em>\n   ghosts\n  </em>\n  a few minutes ago.\n </p>\n <p>\n  One of the camel's pouches is labeled \"maps\" - sure enough, it's full of documents (your puzzle input) about how to navigate the desert. At least, you're pretty sure that's what they are; one of the documents contains a list of left/right instructions, and the rest of the documents seem to describe some kind of\n  <em>\n   network\n  </em>\n  of labeled nodes.\n </p>\n <p>\n  It seems like you're meant to use the\n  <em>\n   left/right\n  </em>\n  instructions to\n  <em>\n   navigate the network\n  </em>\n  . Perhaps if you have the camel follow the same instructions, you can escape the haunted wasteland!\n </p>\n <p>\n  After examining the maps for a bit, two nodes stick out:\n  <code>\n   AAA\n  </code>\n  and\n  <code>\n   ZZZ\n  </code>\n  . You feel like\n  <code>\n   AAA\n  </code>\n  is where you are now, and you have to follow the left/right instructions until you reach\n  <code>\n   ZZZ\n  </code>\n  .\n </p>\n <p>\n  This format defines each\n  <em>\n   node\n  </em>\n  of the network individually. For example:\n </p>\n <pre><code>RL\n\nAAA = (BBB, CCC)\nBBB = (DDD, EEE)\nCCC = (ZZZ, GGG)\nDDD = (DDD, DDD)\nEEE = (EEE, EEE)\nGGG = (GGG, GGG)\nZZZ = (ZZZ, ZZZ)\n</code></pre>\n <p>\n  Starting with\n  <code>\n   AAA\n  </code>\n  , you need to\n  <em>\n   look up the next element\n  </em>\n  based on the next left/right instruction in your input. In this example, start with\n  <code>\n   AAA\n  </code>\n  and go\n  <em>\n   right\n  </em>\n  (\n  <code>\n   R\n  </code>\n  ) by choosing the right element of\n  <code>\n   AAA\n  </code>\n  ,\n  <code>\n   <em>\n    CCC\n   </em>\n  </code>\n  . Then,\n  <code>\n   L\n  </code>\n  means to choose the\n  <em>\n   left\n  </em>\n  element of\n  <code>\n   CCC\n  </code>\n  ,\n  <code>\n   <em>\n    ZZZ\n   </em>\n  </code>\n  . By following the left/right instructions, you reach\n  <code>\n   ZZZ\n  </code>\n  in\n  <code>\n   <em>\n    2\n   </em>\n  </code>\n  steps.\n </p>\n <p>\n  Of course, you might not find\n  <code>\n   ZZZ\n  </code>\n  right away. If you run out of left/right instructions, repeat the whole sequence of instructions as necessary:\n  <code>\n   RL\n  </code>\n  really means\n  <code>\n   RLRLRLRLRLRLRLRL...\n  </code>\n  and so on. For example, here is a situation that takes\n  <code>\n   <em>\n    6\n   </em>\n  </code>\n  steps to reach\n  <code>\n   ZZZ\n  </code>\n  :\n </p>\n <pre><code>LLR\n\nAAA = (BBB, BBB)\nBBB = (AAA, ZZZ)\nZZZ = (ZZZ, ZZZ)\n</code></pre>\n <p>\n  Starting at\n  <code>\n   AAA\n  </code>\n  , follow the left/right instructions.\n  <em>\n   How many steps are required to reach\n   <code>\n    ZZZ\n   </code>\n   ?\n  </em>\n </p>\n</article>\n"
            ]
        },
        {
            "cell_type": "code",
            "execution_count": null,
            "metadata": {},
            "outputs": [],
            "source": [
                "import helpers\n",
                "from tqdm.notebook import tqdm\n",
                "import numpy as np\n",
                "import re"
            ]
        },
        {
            "cell_type": "code",
            "execution_count": null,
            "metadata": {},
            "outputs": [],
            "source": [
                "puzzle_input = helpers.import_input(8)"
            ]
        },
        {
            "cell_type": "markdown",
            "metadata": {},
            "source": [
                "## Part 1"
            ]
        },
        {
            "cell_type": "code",
            "execution_count": null,
            "metadata": {},
            "outputs": [],
            "source": [
                "test_puzzle_input_part_1 = \"\"\"RL\n\nAAA = (BBB, CCC)\nBBB = (DDD, EEE)\nCCC = (ZZZ, GGG)\nDDD = (DDD, DDD)\nEEE = (EEE, EEE)\nGGG = (GGG, GGG)\nZZZ = (ZZZ, ZZZ)\n\"\"\".splitlines()"
            ]
        },
        {
            "cell_type": "code",
            "execution_count": null,
            "metadata": {},
            "outputs": [],
            "source": [
                "def part_1(input):\n",
                "    return None\n",
                "\n",
                "assert part_1(test_puzzle_input_part_1) == ZZZ"
            ]
        },
        {
            "cell_type": "code",
            "execution_count": null,
            "metadata": {},
            "outputs": [],
            "source": [
                "part_1(puzzle_input)"
            ]
        },
        {
            "cell_type": "markdown",
            "metadata": {},
            "source": [
                "## Part 2"
            ]
        },
        {
            "cell_type": "code",
            "execution_count": null,
            "metadata": {},
            "outputs": [],
            "source": [
                "test_puzzle_input_part_2 = \"\"\"\n",
                "\"\"\".splitlines()"
            ]
        },
        {
            "cell_type": "code",
            "execution_count": null,
            "metadata": {},
            "outputs": [],
            "source": [
                "def part_2(input):\n",
                "    return None\n",
                "\n",
                "assert part_2(test_puzzle_input_part_2) == None"
            ]
        },
        {
            "cell_type": "code",
            "execution_count": null,
            "metadata": {},
            "outputs": [],
            "source": [
                "part_2(puzzle_input)"
            ]
        }
    ],
    "metadata": {
        "kernelspec": {
            "display_name": "Python 3",
            "language": "python",
            "name": "python3"
        },
        "language_info": {
            "codemirror_mode": {
                "name": "ipython",
                "version": 3
            },
            "file_extension": ".py",
            "mimetype": "text/x-python",
            "name": "python",
            "nbconvert_exporter": "python",
            "pygments_lexer": "ipython3",
            "version": "3.11.0"
        }
    },
    "nbformat": 4,
    "nbformat_minor": 2
}