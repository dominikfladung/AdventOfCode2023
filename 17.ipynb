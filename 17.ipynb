{
    "cells": [
        {
            "cell_type": "markdown",
            "metadata": {},
            "source": [
                "[Day 17 - Advent of Code 2023](https://adventofcode.com/2023/day/17)\n",
                "\n",
                "<article class=\"day-desc\">\n <h2>\n  --- Day 17: Clumsy Crucible ---\n </h2>\n <p>\n  The lava starts flowing rapidly once the Lava Production Facility is operational. As you\n  <span title=\"see you soon?\">\n   leave\n  </span>\n  , the reindeer offers you a parachute, allowing you to quickly reach Gear Island.\n </p>\n <p>\n  As you descend, your bird's-eye view of Gear Island reveals why you had trouble finding anyone on your way up: half of Gear Island is empty, but the half below you is a giant factory city!\n </p>\n <p>\n  You land near the gradually-filling pool of lava at the base of your new\n  <em>\n   lavafall\n  </em>\n  . Lavaducts will eventually carry the lava throughout the city, but to make use of it immediately, Elves are loading it into large\n  <a href=\"https://en.wikipedia.org/wiki/Crucible\" target=\"_blank\">\n   crucibles\n  </a>\n  on wheels.\n </p>\n <p>\n  The crucibles are top-heavy and pushed by hand. Unfortunately, the crucibles become very difficult to steer at high speeds, and so it can be hard to go in a straight line for very long.\n </p>\n <p>\n  To get Desert Island the machine parts it needs as soon as possible, you'll need to find the best way to get the crucible\n  <em>\n   from the lava pool to the machine parts factory\n  </em>\n  . To do this, you need to minimize\n  <em>\n   heat loss\n  </em>\n  while choosing a route that doesn't require the crucible to go in a\n  <em>\n   straight line\n  </em>\n  for too long.\n </p>\n <p>\n  Fortunately, the Elves here have a map (your puzzle input) that uses traffic patterns, ambient temperature, and hundreds of other parameters to calculate exactly how much heat loss can be expected for a crucible entering any particular city block.\n </p>\n <p>\n  For example:\n </p>\n <pre><code>2413432311323\n3215453535623\n3255245654254\n3446585845452\n4546657867536\n1438598798454\n4457876987766\n3637877979653\n4654967986887\n4564679986453\n1224686865563\n2546548887735\n4322674655533\n</code></pre>\n <p>\n  Each city block is marked by a single digit that represents the\n  <em>\n   amount of heat loss if the crucible enters that block\n  </em>\n  . The starting point, the lava pool, is the top-left city block; the destination, the machine parts factory, is the bottom-right city block. (Because you already start in the top-left block, you don't incur that block's heat loss unless you leave that block and then return to it.)\n </p>\n <p>\n  Because it is difficult to keep the top-heavy crucible going in a straight line for very long, it can move\n  <em>\n   at most three blocks\n  </em>\n  in a single direction before it must turn 90 degrees left or right. The crucible also can't reverse direction; after entering each city block, it may only turn left, continue straight, or turn right.\n </p>\n <p>\n  One way to\n  <em>\n   minimize heat loss\n  </em>\n  is this path:\n </p>\n <pre><code>2<em>&gt;</em><em>&gt;</em>34<em>^</em><em>&gt;</em><em>&gt;</em><em>&gt;</em>1323\n32<em>v</em><em>&gt;</em><em>&gt;</em><em>&gt;</em>35<em>v</em>5623\n32552456<em>v</em><em>&gt;</em><em>&gt;</em>54\n3446585845<em>v</em>52\n4546657867<em>v</em><em>&gt;</em>6\n14385987984<em>v</em>4\n44578769877<em>v</em>6\n36378779796<em>v</em><em>&gt;</em>\n465496798688<em>v</em>\n456467998645<em>v</em>\n12246868655<em>&lt;</em><em>v</em>\n25465488877<em>v</em>5\n43226746555<em>v</em><em>&gt;</em>\n</code></pre>\n <p>\n  This path never moves more than three consecutive blocks in the same direction and incurs a heat loss of only\n  <code>\n   <em>\n    102\n   </em>\n  </code>\n  .\n </p>\n <p>\n  Directing the crucible from the lava pool to the machine parts factory, but not moving more than three consecutive blocks in the same direction,\n  <em>\n   what is the least heat loss it can incur?\n  </em>\n </p>\n</article>\n"
            ]
        },
        {
            "cell_type": "code",
            "execution_count": null,
            "metadata": {},
            "outputs": [],
            "source": [
                "import helpers\n",
                "from tqdm.notebook import tqdm\n",
                "import numpy as np\n",
                "import re"
            ]
        },
        {
            "cell_type": "code",
            "execution_count": null,
            "metadata": {},
            "outputs": [],
            "source": [
                "puzzle_input = helpers.import_input(17)"
            ]
        },
        {
            "cell_type": "markdown",
            "metadata": {},
            "source": [
                "## Part 1"
            ]
        },
        {
            "cell_type": "code",
            "execution_count": null,
            "metadata": {},
            "outputs": [],
            "source": [
                "test_puzzle_input_part_1 = \"\"\"2413432311323\n3215453535623\n3255245654254\n3446585845452\n4546657867536\n1438598798454\n4457876987766\n3637877979653\n4654967986887\n4564679986453\n1224686865563\n2546548887735\n4322674655533\n\"\"\".splitlines()"
            ]
        },
        {
            "cell_type": "code",
            "execution_count": null,
            "metadata": {},
            "outputs": [],
            "source": [
                "def part_1(input):\n",
                "    return None\n",
                "\n",
                "assert part_1(test_puzzle_input_part_1) == 102"
            ]
        },
        {
            "cell_type": "code",
            "execution_count": null,
            "metadata": {},
            "outputs": [],
            "source": [
                "part_1(puzzle_input)"
            ]
        },
        {
            "cell_type": "markdown",
            "metadata": {},
            "source": [
                "## Part 2"
            ]
        },
        {
            "cell_type": "code",
            "execution_count": null,
            "metadata": {},
            "outputs": [],
            "source": [
                "test_puzzle_input_part_2 = \"\"\"\n",
                "\"\"\".splitlines()"
            ]
        },
        {
            "cell_type": "code",
            "execution_count": null,
            "metadata": {},
            "outputs": [],
            "source": [
                "def part_2(input):\n",
                "    return None\n",
                "\n",
                "assert part_2(test_puzzle_input_part_2) == None"
            ]
        },
        {
            "cell_type": "code",
            "execution_count": null,
            "metadata": {},
            "outputs": [],
            "source": [
                "part_2(puzzle_input)"
            ]
        }
    ],
    "metadata": {
        "kernelspec": {
            "display_name": "Python 3",
            "language": "python",
            "name": "python3"
        },
        "language_info": {
            "codemirror_mode": {
                "name": "ipython",
                "version": 3
            },
            "file_extension": ".py",
            "mimetype": "text/x-python",
            "name": "python",
            "nbconvert_exporter": "python",
            "pygments_lexer": "ipython3",
            "version": "3.11.0"
        }
    },
    "nbformat": 4,
    "nbformat_minor": 2
}