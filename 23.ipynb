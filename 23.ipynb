{
    "cells": [
        {
            "cell_type": "markdown",
            "metadata": {},
            "source": [
                "[Day 23 - Advent of Code 2023](https://adventofcode.com/2023/day/23)\n",
                "\n",
                "<article class=\"day-desc\">\n <h2>\n  --- Day 23: A Long Walk ---\n </h2>\n <p>\n  The Elves resume water filtering operations! Clean water starts flowing over the edge of Island Island.\n </p>\n <p>\n  They offer to help\n  <em>\n   you\n  </em>\n  go over the edge of Island Island, too! Just\n  <span title=\"It'll be fiiiiiiiine.\">\n   hold on tight\n  </span>\n  to one end of this impossibly long rope and they'll lower you down a safe distance from the massive waterfall you just created.\n </p>\n <p>\n  As you finally reach Snow Island, you see that the water isn't really reaching the ground: it's being\n  <em>\n   absorbed by the air\n  </em>\n  itself. It looks like you'll finally have a little downtime while the moisture builds up to snow-producing levels. Snow Island is pretty scenic, even without any snow; why not take a walk?\n </p>\n <p>\n  There's a map of nearby hiking trails (your puzzle input) that indicates\n  <em>\n   paths\n  </em>\n  (\n  <code>\n   .\n  </code>\n  ),\n  <em>\n   forest\n  </em>\n  (\n  <code>\n   #\n  </code>\n  ), and steep\n  <em>\n   slopes\n  </em>\n  (\n  <code>\n   ^\n  </code>\n  ,\n  <code>\n   &gt;\n  </code>\n  ,\n  <code>\n   v\n  </code>\n  , and\n  <code>\n   &lt;\n  </code>\n  ).\n </p>\n <p>\n  For example:\n </p>\n <pre><code>#.#####################\n#.......#########...###\n#######.#########.#.###\n###.....#.&gt;.&gt;.###.#.###\n###v#####.#v#.###.#.###\n###.&gt;...#.#.#.....#...#\n###v###.#.#.#########.#\n###...#.#.#.......#...#\n#####.#.#.#######.#.###\n#.....#.#.#.......#...#\n#.#####.#.#.#########v#\n#.#...#...#...###...&gt;.#\n#.#.#v#######v###.###v#\n#...#.&gt;.#...&gt;.&gt;.#.###.#\n#####v#.#.###v#.#.###.#\n#.....#...#...#.#.#...#\n#.#########.###.#.#.###\n#...###...#...#...#.###\n###.###.#.###v#####v###\n#...#...#.#.&gt;.&gt;.#.&gt;.###\n#.###.###.#.###.#.#v###\n#.....###...###...#...#\n#####################.#\n</code></pre>\n <p>\n  You're currently on the single path tile in the top row; your goal is to reach the single path tile in the bottom row. Because of all the mist from the waterfall, the slopes are probably quite\n  <em>\n   icy\n  </em>\n  ; if you step onto a slope tile, your next step must be\n  <em>\n   downhill\n  </em>\n  (in the direction the arrow is pointing). To make sure you have the most scenic hike possible,\n  <em>\n   never step onto the same tile twice\n  </em>\n  . What is the longest hike you can take?\n </p>\n <p>\n  In the example above, the longest hike you can take is marked with\n  <code>\n   O\n  </code>\n  , and your starting position is marked\n  <code>\n   S\n  </code>\n  :\n </p>\n <pre><code>#S#####################\n#OOOOOOO#########...###\n#######O#########.#.###\n###OOOOO#OOO&gt;.###.#.###\n###O#####O#O#.###.#.###\n###OOOOO#O#O#.....#...#\n###v###O#O#O#########.#\n###...#O#O#OOOOOOO#...#\n#####.#O#O#######O#.###\n#.....#O#O#OOOOOOO#...#\n#.#####O#O#O#########v#\n#.#...#OOO#OOO###OOOOO#\n#.#.#v#######O###O###O#\n#...#.&gt;.#...&gt;OOO#O###O#\n#####v#.#.###v#O#O###O#\n#.....#...#...#O#O#OOO#\n#.#########.###O#O#O###\n#...###...#...#OOO#O###\n###.###.#.###v#####O###\n#...#...#.#.&gt;.&gt;.#.&gt;O###\n#.###.###.#.###.#.#O###\n#.....###...###...#OOO#\n#####################O#\n</code></pre>\n <p>\n  This hike contains\n  <code>\n   <em>\n    94\n   </em>\n  </code>\n  steps. (The other possible hikes you could have taken were\n  <code>\n   90\n  </code>\n  ,\n  <code>\n   86\n  </code>\n  ,\n  <code>\n   82\n  </code>\n  ,\n  <code>\n   82\n  </code>\n  , and\n  <code>\n   74\n  </code>\n  steps long.)\n </p>\n <p>\n  Find the longest hike you can take through the hiking trails listed on your map.\n  <em>\n   How many steps long is the longest hike?\n  </em>\n </p>\n</article>\n"
            ]
        },
        {
            "cell_type": "code",
            "execution_count": null,
            "metadata": {},
            "outputs": [],
            "source": [
                "import helpers\n",
                "from tqdm.notebook import tqdm\n",
                "import numpy as np\n",
                "import re"
            ]
        },
        {
            "cell_type": "code",
            "execution_count": null,
            "metadata": {},
            "outputs": [],
            "source": [
                "puzzle_input = helpers.import_input(23)"
            ]
        },
        {
            "cell_type": "markdown",
            "metadata": {},
            "source": [
                "## Part 1"
            ]
        },
        {
            "cell_type": "code",
            "execution_count": null,
            "metadata": {},
            "outputs": [],
            "source": [
                "test_puzzle_input_part_1 = \"\"\"#.#####################\n#.......#########...###\n#######.#########.#.###\n###.....#.>.>.###.#.###\n###v#####.#v#.###.#.###\n###.>...#.#.#.....#...#\n###v###.#.#.#########.#\n###...#.#.#.......#...#\n#####.#.#.#######.#.###\n#.....#.#.#.......#...#\n#.#####.#.#.#########v#\n#.#...#...#...###...>.#\n#.#.#v#######v###.###v#\n#...#.>.#...>.>.#.###.#\n#####v#.#.###v#.#.###.#\n#.....#...#...#.#.#...#\n#.#########.###.#.#.###\n#...###...#...#...#.###\n###.###.#.###v#####v###\n#...#...#.#.>.>.#.>.###\n#.###.###.#.###.#.#v###\n#.....###...###...#...#\n#####################.#\n\"\"\".splitlines()"
            ]
        },
        {
            "cell_type": "code",
            "execution_count": null,
            "metadata": {},
            "outputs": [],
            "source": [
                "def part_1(input):\n",
                "    return None\n",
                "\n",
                "assert part_1(test_puzzle_input_part_1) == 74"
            ]
        },
        {
            "cell_type": "code",
            "execution_count": null,
            "metadata": {},
            "outputs": [],
            "source": [
                "part_1(puzzle_input)"
            ]
        },
        {
            "cell_type": "markdown",
            "metadata": {},
            "source": [
                "## Part 2"
            ]
        },
        {
            "cell_type": "code",
            "execution_count": null,
            "metadata": {},
            "outputs": [],
            "source": [
                "test_puzzle_input_part_2 = \"\"\"\n",
                "\"\"\".splitlines()"
            ]
        },
        {
            "cell_type": "code",
            "execution_count": null,
            "metadata": {},
            "outputs": [],
            "source": [
                "def part_2(input):\n",
                "    return None\n",
                "\n",
                "assert part_2(test_puzzle_input_part_2) == None"
            ]
        },
        {
            "cell_type": "code",
            "execution_count": null,
            "metadata": {},
            "outputs": [],
            "source": [
                "part_2(puzzle_input)"
            ]
        }
    ],
    "metadata": {
        "kernelspec": {
            "display_name": "Python 3",
            "language": "python",
            "name": "python3"
        },
        "language_info": {
            "codemirror_mode": {
                "name": "ipython",
                "version": 3
            },
            "file_extension": ".py",
            "mimetype": "text/x-python",
            "name": "python",
            "nbconvert_exporter": "python",
            "pygments_lexer": "ipython3",
            "version": "3.11.0"
        }
    },
    "nbformat": 4,
    "nbformat_minor": 2
}