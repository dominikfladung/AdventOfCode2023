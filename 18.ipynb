{
    "cells": [
        {
            "cell_type": "markdown",
            "metadata": {},
            "source": [
                "[Day 18 - Advent of Code 2023](https://adventofcode.com/2023/day/18)\n",
                "\n",
                "<article class=\"day-desc\">\n <h2>\n  --- Day 18: Lavaduct Lagoon ---\n </h2>\n <p>\n  Thanks to your efforts, the machine parts factory is one of the first factories up and running since the lavafall came back. However, to catch up with the large backlog of parts requests, the factory will also need a\n  <em>\n   large supply of lava\n  </em>\n  for a while; the Elves have already started creating a large lagoon nearby for this purpose.\n </p>\n <p>\n  However, they aren't sure the lagoon will be big enough; they've asked you to take a look at the\n  <em>\n   dig plan\n  </em>\n  (your puzzle input). For example:\n </p>\n <pre><code>R 6 (#70c710)\nD 5 (#0dc571)\nL 2 (#5713f0)\nD 2 (#d2c081)\nR 2 (#59c680)\nD 2 (#411b91)\nL 5 (#8ceee2)\nU 2 (#caa173)\nL 1 (#1b58a2)\nU 2 (#caa171)\nR 2 (#7807d2)\nU 3 (#a77fa3)\nL 2 (#015232)\nU 2 (#7a21e3)\n</code></pre>\n <p>\n  The digger starts in a 1 meter cube hole in the ground. They then dig the specified number of meters\n  <em>\n   up\n  </em>\n  (\n  <code>\n   U\n  </code>\n  ),\n  <em>\n   down\n  </em>\n  (\n  <code>\n   D\n  </code>\n  ),\n  <em>\n   left\n  </em>\n  (\n  <code>\n   L\n  </code>\n  ), or\n  <em>\n   right\n  </em>\n  (\n  <code>\n   R\n  </code>\n  ), clearing full 1 meter cubes as they go. The directions are given as seen from above, so if \"up\" were north, then \"right\" would be east, and so on. Each trench is also listed with\n  <em>\n   the color that the edge of the trench should be painted\n  </em>\n  as an\n  <a href=\"https://en.wikipedia.org/wiki/RGB_color_model#Numeric_representations\" target=\"_blank\">\n   RGB hexadecimal color code\n  </a>\n  .\n </p>\n <p>\n  When viewed from above, the above example dig plan would result in the following loop of\n  <em>\n   trench\n  </em>\n  (\n  <code>\n   #\n  </code>\n  ) having been dug out from otherwise\n  <em>\n   ground-level terrain\n  </em>\n  (\n  <code>\n   .\n  </code>\n  ):\n </p>\n <pre><code>#######\n#.....#\n###...#\n..#...#\n..#...#\n###.###\n#...#..\n##..###\n.#....#\n.######\n</code></pre>\n <p>\n  At this point, the trench could contain 38 cubic meters of lava. However, this is just the edge of the lagoon; the next step is to\n  <em>\n   dig out the interior\n  </em>\n  so that it is one meter deep as well:\n </p>\n <pre><code>#######\n#######\n#######\n..#####\n..#####\n#######\n#####..\n#######\n.######\n.######\n</code></pre>\n <p>\n  Now, the lagoon can contain a much more respectable\n  <code>\n   <em>\n    62\n   </em>\n  </code>\n  cubic meters of lava. While the interior is dug out, the edges are also painted according to the color codes in the dig plan.\n </p>\n <p>\n  The Elves are concerned the lagoon won't be large enough; if they follow their dig plan,\n  <em>\n   how many cubic meters of lava could it hold?\n  </em>\n </p>\n</article>\n"
            ]
        },
        {
            "cell_type": "code",
            "execution_count": null,
            "metadata": {},
            "outputs": [],
            "source": [
                "import helpers\n",
                "from tqdm.notebook import tqdm\n",
                "import numpy as np\n",
                "import re"
            ]
        },
        {
            "cell_type": "code",
            "execution_count": null,
            "metadata": {},
            "outputs": [],
            "source": [
                "puzzle_input = helpers.import_input(18)"
            ]
        },
        {
            "cell_type": "markdown",
            "metadata": {},
            "source": [
                "## Part 1"
            ]
        },
        {
            "cell_type": "code",
            "execution_count": null,
            "metadata": {},
            "outputs": [],
            "source": [
                "test_puzzle_input_part_1 = \"\"\"R 6 (#70c710)\nD 5 (#0dc571)\nL 2 (#5713f0)\nD 2 (#d2c081)\nR 2 (#59c680)\nD 2 (#411b91)\nL 5 (#8ceee2)\nU 2 (#caa173)\nL 1 (#1b58a2)\nU 2 (#caa171)\nR 2 (#7807d2)\nU 3 (#a77fa3)\nL 2 (#015232)\nU 2 (#7a21e3)\n\"\"\".splitlines()"
            ]
        },
        {
            "cell_type": "code",
            "execution_count": null,
            "metadata": {},
            "outputs": [],
            "source": [
                "def part_1(input):\n",
                "    return None\n",
                "\n",
                "assert part_1(test_puzzle_input_part_1) == 62"
            ]
        },
        {
            "cell_type": "code",
            "execution_count": null,
            "metadata": {},
            "outputs": [],
            "source": [
                "part_1(puzzle_input)"
            ]
        },
        {
            "cell_type": "markdown",
            "metadata": {},
            "source": [
                "## Part 2"
            ]
        },
        {
            "cell_type": "code",
            "execution_count": null,
            "metadata": {},
            "outputs": [],
            "source": [
                "test_puzzle_input_part_2 = \"\"\"\n",
                "\"\"\".splitlines()"
            ]
        },
        {
            "cell_type": "code",
            "execution_count": null,
            "metadata": {},
            "outputs": [],
            "source": [
                "def part_2(input):\n",
                "    return None\n",
                "\n",
                "assert part_2(test_puzzle_input_part_2) == None"
            ]
        },
        {
            "cell_type": "code",
            "execution_count": null,
            "metadata": {},
            "outputs": [],
            "source": [
                "part_2(puzzle_input)"
            ]
        }
    ],
    "metadata": {
        "kernelspec": {
            "display_name": "Python 3",
            "language": "python",
            "name": "python3"
        },
        "language_info": {
            "codemirror_mode": {
                "name": "ipython",
                "version": 3
            },
            "file_extension": ".py",
            "mimetype": "text/x-python",
            "name": "python",
            "nbconvert_exporter": "python",
            "pygments_lexer": "ipython3",
            "version": "3.11.0"
        }
    },
    "nbformat": 4,
    "nbformat_minor": 2
}