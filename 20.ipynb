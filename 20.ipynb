{
    "cells": [
        {
            "cell_type": "markdown",
            "metadata": {},
            "source": [
                "[Day 20 - Advent of Code 2023](https://adventofcode.com/2023/day/20)\n",
                "\n",
                "<article class=\"day-desc\">\n <h2>\n  --- Day 20: Pulse Propagation ---\n </h2>\n <p>\n  With your help, the Elves manage to find the right parts and fix all of the machines. Now, they just need to send the command to boot up the machines and get the sand flowing again.\n </p>\n <p>\n  The machines are far apart and wired together with long\n  <em>\n   cables\n  </em>\n  . The cables don't connect to the machines directly, but rather to communication\n  <em>\n   modules\n  </em>\n  attached to the machines that perform various initialization tasks and also act as communication relays.\n </p>\n <p>\n  Modules communicate using\n  <em>\n   pulses\n  </em>\n  . Each pulse is either a\n  <em>\n   high pulse\n  </em>\n  or a\n  <em>\n   low pulse\n  </em>\n  . When a module sends a pulse, it sends that type of pulse to each module in its list of\n  <em>\n   destination modules\n  </em>\n  .\n </p>\n <p>\n  There are several different types of modules:\n </p>\n <p>\n  <em>\n   Flip-flop\n  </em>\n  modules (prefix\n  <code>\n   %\n  </code>\n  ) are either\n  <em>\n   on\n  </em>\n  or\n  <em>\n   off\n  </em>\n  ; they are initially\n  <em>\n   off\n  </em>\n  . If a flip-flop module receives a high pulse, it is ignored and nothing happens. However, if a flip-flop module receives a low pulse, it\n  <em>\n   flips between on and off\n  </em>\n  . If it was off, it turns on and sends a high pulse. If it was on, it turns off and sends a low pulse.\n </p>\n <p>\n  <em>\n   Conjunction\n  </em>\n  modules (prefix\n  <code>\n   &amp;\n  </code>\n  )\n  <em>\n   remember\n  </em>\n  the type of the most recent pulse received from\n  <em>\n   each\n  </em>\n  of their connected input modules; they initially default to remembering a\n  <em>\n   low pulse\n  </em>\n  for each input. When a pulse is received, the conjunction module first updates its memory for that input. Then, if it remembers\n  <em>\n   high pulses\n  </em>\n  for all inputs, it sends a\n  <em>\n   low pulse\n  </em>\n  ; otherwise, it sends a\n  <em>\n   high pulse\n  </em>\n  .\n </p>\n <p>\n  There is a single\n  <em>\n   broadcast module\n  </em>\n  (named\n  <code>\n   broadcaster\n  </code>\n  ). When it receives a pulse, it sends the same pulse to all of its destination modules.\n </p>\n <p>\n  Here at Desert Machine Headquarters, there is a module with a single button on it called, aptly, the\n  <em>\n   button module\n  </em>\n  . When you push the button, a single\n  <em>\n   low pulse\n  </em>\n  is sent directly to the\n  <code>\n   broadcaster\n  </code>\n  module.\n </p>\n <p>\n  After pushing the button, you must wait until all pulses have been delivered and fully handled before pushing it again. Never push the button if modules are still processing pulses.\n </p>\n <p>\n  Pulses are always processed\n  <em>\n   in the order they are sent\n  </em>\n  . So, if a pulse is sent to modules\n  <code>\n   a\n  </code>\n  ,\n  <code>\n   b\n  </code>\n  , and\n  <code>\n   c\n  </code>\n  , and then module\n  <code>\n   a\n  </code>\n  processes its pulse and sends more pulses, the pulses sent to modules\n  <code>\n   b\n  </code>\n  and\n  <code>\n   c\n  </code>\n  would have to be handled first.\n </p>\n <p>\n  The module configuration (your puzzle input) lists each module. The name of the module is preceded by a symbol identifying its type, if any. The name is then followed by an arrow and a list of its destination modules. For example:\n </p>\n <pre><code>broadcaster -&gt; a, b, c\n%a -&gt; b\n%b -&gt; c\n%c -&gt; inv\n&amp;inv -&gt; a\n</code></pre>\n <p>\n  In this module configuration, the broadcaster has three destination modules named\n  <code>\n   a\n  </code>\n  ,\n  <code>\n   b\n  </code>\n  , and\n  <code>\n   c\n  </code>\n  . Each of these modules is a flip-flop module (as indicated by the\n  <code>\n   %\n  </code>\n  prefix).\n  <code>\n   a\n  </code>\n  outputs to\n  <code>\n   b\n  </code>\n  which outputs to\n  <code>\n   c\n  </code>\n  which outputs to another module named\n  <code>\n   inv\n  </code>\n  .\n  <code>\n   inv\n  </code>\n  is a conjunction module (as indicated by the\n  <code>\n   &amp;\n  </code>\n  prefix) which, because it has only one input, acts like an\n  <span title=\"This puzzle originally had a separate inverter module type until I realized it was just a worse conjunction module.\">\n   inverter\n  </span>\n  (it sends the opposite of the pulse type it receives); it outputs to\n  <code>\n   a\n  </code>\n  .\n </p>\n <p>\n  By pushing the button once, the following pulses are sent:\n </p>\n <pre><code>button -low-&gt; broadcaster\nbroadcaster -low-&gt; a\nbroadcaster -low-&gt; b\nbroadcaster -low-&gt; c\na -high-&gt; b\nb -high-&gt; c\nc -high-&gt; inv\ninv -low-&gt; a\na -low-&gt; b\nb -low-&gt; c\nc -low-&gt; inv\ninv -high-&gt; a\n</code></pre>\n <p>\n  After this sequence, the flip-flop modules all end up\n  <em>\n   off\n  </em>\n  , so pushing the button again repeats the same sequence.\n </p>\n <p>\n  Here's a more interesting example:\n </p>\n <pre><code>broadcaster -&gt; a\n%a -&gt; inv, con\n&amp;inv -&gt; b\n%b -&gt; con\n&amp;con -&gt; output\n</code></pre>\n <p>\n  This module configuration includes the\n  <code>\n   broadcaster\n  </code>\n  , two flip-flops (named\n  <code>\n   a\n  </code>\n  and\n  <code>\n   b\n  </code>\n  ), a single-input conjunction module (\n  <code>\n   inv\n  </code>\n  ), a multi-input conjunction module (\n  <code>\n   con\n  </code>\n  ), and an untyped module named\n  <code>\n   output\n  </code>\n  (for testing purposes). The multi-input conjunction module\n  <code>\n   con\n  </code>\n  watches the two flip-flop modules and, if they're both on, sends a\n  <em>\n   low pulse\n  </em>\n  to the\n  <code>\n   output\n  </code>\n  module.\n </p>\n <p>\n  Here's what happens if you push the button once:\n </p>\n <pre><code>button -low-&gt; broadcaster\nbroadcaster -low-&gt; a\na -high-&gt; inv\na -high-&gt; con\ninv -low-&gt; b\ncon -high-&gt; output\nb -high-&gt; con\ncon -low-&gt; output\n</code></pre>\n <p>\n  Both flip-flops turn on and a low pulse is sent to\n  <code>\n   output\n  </code>\n  ! However, now that both flip-flops are on and\n  <code>\n   con\n  </code>\n  remembers a high pulse from each of its two inputs, pushing the button a second time does something different:\n </p>\n <pre><code>button -low-&gt; broadcaster\nbroadcaster -low-&gt; a\na -low-&gt; inv\na -low-&gt; con\ninv -high-&gt; b\ncon -high-&gt; output\n</code></pre>\n <p>\n  Flip-flop\n  <code>\n   a\n  </code>\n  turns off! Now,\n  <code>\n   con\n  </code>\n  remembers a low pulse from module\n  <code>\n   a\n  </code>\n  , and so it sends only a high pulse to\n  <code>\n   output\n  </code>\n  .\n </p>\n <p>\n  Push the button a third time:\n </p>\n <pre><code>button -low-&gt; broadcaster\nbroadcaster -low-&gt; a\na -high-&gt; inv\na -high-&gt; con\ninv -low-&gt; b\ncon -low-&gt; output\nb -low-&gt; con\ncon -high-&gt; output\n</code></pre>\n <p>\n  This time, flip-flop\n  <code>\n   a\n  </code>\n  turns on, then flip-flop\n  <code>\n   b\n  </code>\n  turns off. However, before\n  <code>\n   b\n  </code>\n  can turn off, the pulse sent to\n  <code>\n   con\n  </code>\n  is handled first, so it\n  <em>\n   briefly remembers all high pulses\n  </em>\n  for its inputs and sends a low pulse to\n  <code>\n   output\n  </code>\n  . After that, flip-flop\n  <code>\n   b\n  </code>\n  turns off, which causes\n  <code>\n   con\n  </code>\n  to update its state and send a high pulse to\n  <code>\n   output\n  </code>\n  .\n </p>\n <p>\n  Finally, with\n  <code>\n   a\n  </code>\n  on and\n  <code>\n   b\n  </code>\n  off, push the button a fourth time:\n </p>\n <pre><code>button -low-&gt; broadcaster\nbroadcaster -low-&gt; a\na -low-&gt; inv\na -low-&gt; con\ninv -high-&gt; b\ncon -high-&gt; output\n</code></pre>\n <p>\n  This completes the cycle:\n  <code>\n   a\n  </code>\n  turns off, causing\n  <code>\n   con\n  </code>\n  to remember only low pulses and restoring all modules to their original states.\n </p>\n <p>\n  To get the cables warmed up, the Elves have pushed the button\n  <code>\n   1000\n  </code>\n  times. How many pulses got sent as a result (including the pulses sent by the button itself)?\n </p>\n <p>\n  In the first example, the same thing happens every time the button is pushed:\n  <code>\n   8\n  </code>\n  low pulses and\n  <code>\n   4\n  </code>\n  high pulses are sent. So, after pushing the button\n  <code>\n   1000\n  </code>\n  times,\n  <code>\n   8000\n  </code>\n  low pulses and\n  <code>\n   4000\n  </code>\n  high pulses are sent. Multiplying these together gives\n  <code>\n   <em>\n    32000000\n   </em>\n  </code>\n  .\n </p>\n <p>\n  In the second example, after pushing the button\n  <code>\n   1000\n  </code>\n  times,\n  <code>\n   4250\n  </code>\n  low pulses and\n  <code>\n   2750\n  </code>\n  high pulses are sent. Multiplying these together gives\n  <code>\n   <em>\n    11687500\n   </em>\n  </code>\n  .\n </p>\n <p>\n  Consult your module configuration; determine the number of low pulses and high pulses that would be sent after pushing the button\n  <code>\n   1000\n  </code>\n  times, waiting for all pulses to be fully handled after each push of the button.\n  <em>\n   What do you get if you multiply the total number of low pulses sent by the total number of high pulses sent?\n  </em>\n </p>\n</article>\n"
            ]
        },
        {
            "cell_type": "code",
            "execution_count": null,
            "metadata": {},
            "outputs": [],
            "source": [
                "import helpers\n",
                "from tqdm.notebook import tqdm\n",
                "import numpy as np\n",
                "import re"
            ]
        },
        {
            "cell_type": "code",
            "execution_count": null,
            "metadata": {},
            "outputs": [],
            "source": [
                "puzzle_input = helpers.import_input(20)"
            ]
        },
        {
            "cell_type": "markdown",
            "metadata": {},
            "source": [
                "## Part 1"
            ]
        },
        {
            "cell_type": "code",
            "execution_count": null,
            "metadata": {},
            "outputs": [],
            "source": [
                "test_puzzle_input_part_1 = \"\"\"broadcaster\"\"\".splitlines()"
            ]
        },
        {
            "cell_type": "code",
            "execution_count": null,
            "metadata": {},
            "outputs": [],
            "source": [
                "def part_1(input):\n",
                "    return None\n",
                "\n",
                "assert part_1(test_puzzle_input_part_1) == 1000"
            ]
        },
        {
            "cell_type": "code",
            "execution_count": null,
            "metadata": {},
            "outputs": [],
            "source": [
                "part_1(puzzle_input)"
            ]
        },
        {
            "cell_type": "markdown",
            "metadata": {},
            "source": [
                "## Part 2"
            ]
        },
        {
            "cell_type": "code",
            "execution_count": null,
            "metadata": {},
            "outputs": [],
            "source": [
                "test_puzzle_input_part_2 = \"\"\"\n",
                "\"\"\".splitlines()"
            ]
        },
        {
            "cell_type": "code",
            "execution_count": null,
            "metadata": {},
            "outputs": [],
            "source": [
                "def part_2(input):\n",
                "    return None\n",
                "\n",
                "assert part_2(test_puzzle_input_part_2) == None"
            ]
        },
        {
            "cell_type": "code",
            "execution_count": null,
            "metadata": {},
            "outputs": [],
            "source": [
                "part_2(puzzle_input)"
            ]
        }
    ],
    "metadata": {
        "kernelspec": {
            "display_name": "Python 3",
            "language": "python",
            "name": "python3"
        },
        "language_info": {
            "codemirror_mode": {
                "name": "ipython",
                "version": 3
            },
            "file_extension": ".py",
            "mimetype": "text/x-python",
            "name": "python",
            "nbconvert_exporter": "python",
            "pygments_lexer": "ipython3",
            "version": "3.11.0"
        }
    },
    "nbformat": 4,
    "nbformat_minor": 2
}