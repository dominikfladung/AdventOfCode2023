{
    "cells": [
        {
            "cell_type": "markdown",
            "metadata": {},
            "source": [
                "[Day 24 - Advent of Code 2023](https://adventofcode.com/2023/day/24)\n",
                "\n",
                "<article class=\"day-desc\">\n <h2>\n  --- Day 24: Never Tell Me The Odds ---\n </h2>\n <p>\n  It seems like something is going wrong with the snow-making process. Instead of forming snow, the water that's been absorbed into the air seems to be forming\n  <a href=\"https://en.wikipedia.org/wiki/Hail\" target=\"_blank\">\n   hail\n  </a>\n  !\n </p>\n <p>\n  Maybe there's something you can do to break up the hailstones?\n </p>\n <p>\n  Due to strong, probably-magical winds, the hailstones are all flying through the air in perfectly linear trajectories. You make a note of each hailstone's\n  <em>\n   position\n  </em>\n  and\n  <em>\n   velocity\n  </em>\n  (your puzzle input). For example:\n </p>\n <pre><code>19, 13, 30 @ -2,  1, -2\n18, 19, 22 @ -1, -1, -2\n20, 25, 34 @ -2, -2, -4\n12, 31, 28 @ -1, -2, -1\n20, 19, 15 @  1, -5, -3\n</code></pre>\n <p>\n  Each line of text corresponds to the position and velocity of a single hailstone. The positions indicate where the hailstones are\n  <em>\n   right now\n  </em>\n  (at time\n  <code>\n   0\n  </code>\n  ). The velocities are constant and indicate exactly how far each hailstone will move in\n  <em>\n   one nanosecond\n  </em>\n  .\n </p>\n <p>\n  Each line of text uses the format\n  <code>\n   px py pz @ vx vy vz\n  </code>\n  . For instance, the hailstone specified by\n  <code>\n   20, 19, 15 @  1, -5, -3\n  </code>\n  has initial X position\n  <code>\n   20\n  </code>\n  , Y position\n  <code>\n   19\n  </code>\n  , Z position\n  <code>\n   15\n  </code>\n  , X velocity\n  <code>\n   1\n  </code>\n  , Y velocity\n  <code>\n   -5\n  </code>\n  , and Z velocity\n  <code>\n   -3\n  </code>\n  . After one nanosecond, the hailstone would be at\n  <code>\n   21, 14, 12\n  </code>\n  .\n </p>\n <p>\n  Perhaps you won't have to do anything. How likely are the hailstones to collide with each other and smash into tiny ice crystals?\n </p>\n <p>\n  To estimate this, consider only the X and Y axes;\n  <em>\n   ignore the Z axis\n  </em>\n  . Looking\n  <em>\n   forward in time\n  </em>\n  , how many of the hailstones'\n  <em>\n   paths\n  </em>\n  will intersect within a test area? (The hailstones themselves don't have to collide, just test for intersections between the paths they will trace.)\n </p>\n <p>\n  In this example, look for intersections that happen with an X and Y position each at least\n  <code>\n   7\n  </code>\n  and at most\n  <code>\n   27\n  </code>\n  ; in your actual data, you'll need to check a much larger test area. Comparing all pairs of hailstones' future paths produces the following results:\n </p>\n <pre><code>Hailstone A: 19, 13, 30 @ -2, 1, -2\nHailstone B: 18, 19, 22 @ -1, -1, -2\nHailstones' paths will cross <em>inside</em> the test area (at x=14.333, y=15.333).\n\nHailstone A: 19, 13, 30 @ -2, 1, -2\nHailstone B: 20, 25, 34 @ -2, -2, -4\nHailstones' paths will cross <em>inside</em> the test area (at x=11.667, y=16.667).\n\nHailstone A: 19, 13, 30 @ -2, 1, -2\nHailstone B: 12, 31, 28 @ -1, -2, -1\nHailstones' paths will cross outside the test area (at x=6.2, y=19.4).\n\nHailstone A: 19, 13, 30 @ -2, 1, -2\nHailstone B: 20, 19, 15 @ 1, -5, -3\nHailstones' paths crossed in the past for hailstone A.\n\nHailstone A: 18, 19, 22 @ -1, -1, -2\nHailstone B: 20, 25, 34 @ -2, -2, -4\nHailstones' paths are parallel; they never intersect.\n\nHailstone A: 18, 19, 22 @ -1, -1, -2\nHailstone B: 12, 31, 28 @ -1, -2, -1\nHailstones' paths will cross outside the test area (at x=-6, y=-5).\n\nHailstone A: 18, 19, 22 @ -1, -1, -2\nHailstone B: 20, 19, 15 @ 1, -5, -3\nHailstones' paths crossed in the past for both hailstones.\n\nHailstone A: 20, 25, 34 @ -2, -2, -4\nHailstone B: 12, 31, 28 @ -1, -2, -1\nHailstones' paths will cross outside the test area (at x=-2, y=3).\n\nHailstone A: 20, 25, 34 @ -2, -2, -4\nHailstone B: 20, 19, 15 @ 1, -5, -3\nHailstones' paths crossed in the past for hailstone B.\n\nHailstone A: 12, 31, 28 @ -1, -2, -1\nHailstone B: 20, 19, 15 @ 1, -5, -3\nHailstones' paths crossed in the past for both hailstones.\n</code></pre>\n <p>\n  So, in this example,\n  <code>\n   <em>\n    2\n   </em>\n  </code>\n  hailstones' future paths cross inside the boundaries of the test area.\n </p>\n <p>\n  However, you'll need to search a much larger test area if you want to see if any hailstones might collide. Look for intersections that happen with an X and Y position each at least\n  <code>\n   200000000000000\n  </code>\n  and at most\n  <code>\n   400000000000000\n  </code>\n  . Disregard the Z axis entirely.\n </p>\n <p>\n  Considering only the X and Y axes, check all pairs of hailstones' future paths for intersections.\n  <em>\n   How many of these intersections occur within the test area?\n  </em>\n </p>\n</article>\n"
            ]
        },
        {
            "cell_type": "code",
            "execution_count": null,
            "metadata": {},
            "outputs": [],
            "source": [
                "import helpers\n",
                "from tqdm.notebook import tqdm\n",
                "import numpy as np\n",
                "import re"
            ]
        },
        {
            "cell_type": "code",
            "execution_count": null,
            "metadata": {},
            "outputs": [],
            "source": [
                "puzzle_input = helpers.import_input(24)"
            ]
        },
        {
            "cell_type": "markdown",
            "metadata": {},
            "source": [
                "## Part 1"
            ]
        },
        {
            "cell_type": "code",
            "execution_count": null,
            "metadata": {},
            "outputs": [],
            "source": [
                "test_puzzle_input_part_1 = \"\"\"19, 13, 30 @ -2,  1, -2\n18, 19, 22 @ -1, -1, -2\n20, 25, 34 @ -2, -2, -4\n12, 31, 28 @ -1, -2, -1\n20, 19, 15 @  1, -5, -3\n\"\"\".splitlines()"
            ]
        },
        {
            "cell_type": "code",
            "execution_count": null,
            "metadata": {},
            "outputs": [],
            "source": [
                "def part_1(input):\n",
                "    return None\n",
                "\n",
                "assert part_1(test_puzzle_input_part_1) == 400000000000000"
            ]
        },
        {
            "cell_type": "code",
            "execution_count": null,
            "metadata": {},
            "outputs": [],
            "source": [
                "part_1(puzzle_input)"
            ]
        },
        {
            "cell_type": "markdown",
            "metadata": {},
            "source": [
                "## Part 2"
            ]
        },
        {
            "cell_type": "code",
            "execution_count": null,
            "metadata": {},
            "outputs": [],
            "source": [
                "test_puzzle_input_part_2 = \"\"\"\n",
                "\"\"\".splitlines()"
            ]
        },
        {
            "cell_type": "code",
            "execution_count": null,
            "metadata": {},
            "outputs": [],
            "source": [
                "def part_2(input):\n",
                "    return None\n",
                "\n",
                "assert part_2(test_puzzle_input_part_2) == None"
            ]
        },
        {
            "cell_type": "code",
            "execution_count": null,
            "metadata": {},
            "outputs": [],
            "source": [
                "part_2(puzzle_input)"
            ]
        }
    ],
    "metadata": {
        "kernelspec": {
            "display_name": "Python 3",
            "language": "python",
            "name": "python3"
        },
        "language_info": {
            "codemirror_mode": {
                "name": "ipython",
                "version": 3
            },
            "file_extension": ".py",
            "mimetype": "text/x-python",
            "name": "python",
            "nbconvert_exporter": "python",
            "pygments_lexer": "ipython3",
            "version": "3.11.0"
        }
    },
    "nbformat": 4,
    "nbformat_minor": 2
}