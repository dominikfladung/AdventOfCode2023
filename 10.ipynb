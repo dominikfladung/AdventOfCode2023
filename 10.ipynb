{
    "cells": [
        {
            "cell_type": "markdown",
            "metadata": {},
            "source": [
                "[Day 10 - Advent of Code 2023](https://adventofcode.com/2023/day/10)\n",
                "\n",
                "<article class=\"day-desc\">\n <h2>\n  --- Day 10: Pipe Maze ---\n </h2>\n <p>\n  You use the hang glider to ride the hot air from Desert Island all the way up to the floating metal island. This island is surprisingly cold and there definitely aren't any thermals to glide on, so you leave your hang glider behind.\n </p>\n <p>\n  You wander around for a while, but you don't find any people or animals. However, you do occasionally find signposts labeled \"\n  <a href=\"https://en.wikipedia.org/wiki/Hot_spring\" target=\"_blank\">\n   Hot Springs\n  </a>\n  \" pointing in a seemingly consistent direction; maybe you can find someone at the hot springs and ask them where the desert-machine parts are made.\n </p>\n <p>\n  The landscape here is alien; even the flowers and trees are made of metal. As you stop to admire some metal grass, you notice something metallic scurry away in your peripheral vision and jump into a big pipe! It didn't look like any animal you've ever seen; if you want a better look, you'll need to get ahead of it.\n </p>\n <p>\n  Scanning the area, you discover that the entire field you're standing on is\n  <span title=\"Manufactured by Hamilton and Hilbert Pipe Company\">\n   densely packed with pipes\n  </span>\n  ; it was hard to tell at first because they're the same metallic silver color as the \"ground\". You make a quick sketch of all of the surface pipes you can see (your puzzle input).\n </p>\n <p>\n  The pipes are arranged in a two-dimensional grid of\n  <em>\n   tiles\n  </em>\n  :\n </p>\n <ul>\n  <li>\n   <code>\n    |\n   </code>\n   is a\n   <em>\n    vertical pipe\n   </em>\n   connecting north and south.\n  </li>\n  <li>\n   <code>\n    -\n   </code>\n   is a\n   <em>\n    horizontal pipe\n   </em>\n   connecting east and west.\n  </li>\n  <li>\n   <code>\n    L\n   </code>\n   is a\n   <em>\n    90-degree bend\n   </em>\n   connecting north and east.\n  </li>\n  <li>\n   <code>\n    J\n   </code>\n   is a\n   <em>\n    90-degree bend\n   </em>\n   connecting north and west.\n  </li>\n  <li>\n   <code>\n    7\n   </code>\n   is a\n   <em>\n    90-degree bend\n   </em>\n   connecting south and west.\n  </li>\n  <li>\n   <code>\n    F\n   </code>\n   is a\n   <em>\n    90-degree bend\n   </em>\n   connecting south and east.\n  </li>\n  <li>\n   <code>\n    .\n   </code>\n   is\n   <em>\n    ground\n   </em>\n   ; there is no pipe in this tile.\n  </li>\n  <li>\n   <code>\n    S\n   </code>\n   is the\n   <em>\n    starting position\n   </em>\n   of the animal; there is a pipe on this tile, but your sketch doesn't show what shape the pipe has.\n  </li>\n </ul>\n <p>\n  Based on the acoustics of the animal's scurrying, you're confident the pipe that contains the animal is\n  <em>\n   one large, continuous loop\n  </em>\n  .\n </p>\n <p>\n  For example, here is a square loop of pipe:\n </p>\n <pre><code>.....\n.F-7.\n.|.|.\n.L-J.\n.....\n</code></pre>\n <p>\n  If the animal had entered this loop in the northwest corner, the sketch would instead look like this:\n </p>\n <pre><code>.....\n.<em>S</em>-7.\n.|.|.\n.L-J.\n.....\n</code></pre>\n <p>\n  In the above diagram, the\n  <code>\n   S\n  </code>\n  tile is still a 90-degree\n  <code>\n   F\n  </code>\n  bend: you can tell because of how the adjacent pipes connect to it.\n </p>\n <p>\n  Unfortunately, there are also many pipes that\n  <em>\n   aren't connected to the loop\n  </em>\n  ! This sketch shows the same loop as above:\n </p>\n <pre><code>-L|F7\n7S-7|\nL|7||\n-L-J|\nL|-JF\n</code></pre>\n <p>\n  In the above diagram, you can still figure out which pipes form the main loop: they're the ones connected to\n  <code>\n   S\n  </code>\n  , pipes those pipes connect to, pipes\n  <em>\n   those\n  </em>\n  pipes connect to, and so on. Every pipe in the main loop connects to its two neighbors (including\n  <code>\n   S\n  </code>\n  , which will have exactly two pipes connecting to it, and which is assumed to connect back to those two pipes).\n </p>\n <p>\n  Here is a sketch that contains a slightly more complex main loop:\n </p>\n <pre><code>..F7.\n.FJ|.\nSJ.L7\n|F--J\nLJ...\n</code></pre>\n <p>\n  Here's the same example sketch with the extra, non-main-loop pipe tiles also shown:\n </p>\n <pre><code>7-F7-\n.FJ|7\nSJLL7\n|F--J\nLJ.LJ\n</code></pre>\n <p>\n  If you want to\n  <em>\n   get out ahead of the animal\n  </em>\n  , you should find the tile in the loop that is\n  <em>\n   farthest\n  </em>\n  from the starting position. Because the animal is in the pipe, it doesn't make sense to measure this by direct distance. Instead, you need to find the tile that would take the longest number of steps\n  <em>\n   along the loop\n  </em>\n  to reach from the starting point - regardless of which way around the loop the animal went.\n </p>\n <p>\n  In the first example with the square loop:\n </p>\n <pre><code>.....\n.S-7.\n.|.|.\n.L-J.\n.....\n</code></pre>\n <p>\n  You can count the distance each tile in the loop is from the starting point like this:\n </p>\n <pre><code>.....\n.012.\n.1.3.\n.23<em>4</em>.\n.....\n</code></pre>\n <p>\n  In this example, the farthest point from the start is\n  <code>\n   <em>\n    4\n   </em>\n  </code>\n  steps away.\n </p>\n <p>\n  Here's the more complex loop again:\n </p>\n <pre><code>..F7.\n.FJ|.\nSJ.L7\n|F--J\nLJ...\n</code></pre>\n <p>\n  Here are the distances for each tile on that loop:\n </p>\n <pre><code>..45.\n.236.\n01.7<em>8</em>\n14567\n23...\n</code></pre>\n <p>\n  Find the single giant loop starting at\n  <code>\n   S\n  </code>\n  .\n  <em>\n   How many steps along the loop does it take to get from the starting position to the point farthest from the starting position?\n  </em>\n </p>\n</article>\n"
            ]
        },
        {
            "cell_type": "code",
            "execution_count": null,
            "metadata": {},
            "outputs": [],
            "source": [
                "import helpers\n",
                "from tqdm.notebook import tqdm\n",
                "import numpy as np\n",
                "import re"
            ]
        },
        {
            "cell_type": "code",
            "execution_count": null,
            "metadata": {},
            "outputs": [],
            "source": [
                "puzzle_input = helpers.import_input(10)"
            ]
        },
        {
            "cell_type": "markdown",
            "metadata": {},
            "source": [
                "## Part 1"
            ]
        },
        {
            "cell_type": "code",
            "execution_count": null,
            "metadata": {},
            "outputs": [],
            "source": [
                "test_puzzle_input_part_1 = \"\"\".....\n.F-7.\n.|.|.\n.L-J.\n.....\n\"\"\".splitlines()"
            ]
        },
        {
            "cell_type": "code",
            "execution_count": null,
            "metadata": {},
            "outputs": [],
            "source": [
                "def part_1(input):\n",
                "    return None\n",
                "\n",
                "assert part_1(test_puzzle_input_part_1) == S"
            ]
        },
        {
            "cell_type": "code",
            "execution_count": null,
            "metadata": {},
            "outputs": [],
            "source": [
                "part_1(puzzle_input)"
            ]
        },
        {
            "cell_type": "markdown",
            "metadata": {},
            "source": [
                "## Part 2"
            ]
        },
        {
            "cell_type": "code",
            "execution_count": null,
            "metadata": {},
            "outputs": [],
            "source": [
                "test_puzzle_input_part_2 = \"\"\"\n",
                "\"\"\".splitlines()"
            ]
        },
        {
            "cell_type": "code",
            "execution_count": null,
            "metadata": {},
            "outputs": [],
            "source": [
                "def part_2(input):\n",
                "    return None\n",
                "\n",
                "assert part_2(test_puzzle_input_part_2) == None"
            ]
        },
        {
            "cell_type": "code",
            "execution_count": null,
            "metadata": {},
            "outputs": [],
            "source": [
                "part_2(puzzle_input)"
            ]
        }
    ],
    "metadata": {
        "kernelspec": {
            "display_name": "Python 3",
            "language": "python",
            "name": "python3"
        },
        "language_info": {
            "codemirror_mode": {
                "name": "ipython",
                "version": 3
            },
            "file_extension": ".py",
            "mimetype": "text/x-python",
            "name": "python",
            "nbconvert_exporter": "python",
            "pygments_lexer": "ipython3",
            "version": "3.11.0"
        }
    },
    "nbformat": 4,
    "nbformat_minor": 2
}