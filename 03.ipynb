{
    "cells": [
        {
            "cell_type": "markdown",
            "metadata": {},
            "source": [
                "[Day 3 - Advent of Code 2023](https://adventofcode.com/2023/day/3)\n",
                "\n",
                "<article class=\"day-desc\">\n",
                " <h2>\n",
                "  --- Day 3: Gear Ratios ---\n",
                " </h2>\n",
                " <p>\n",
                "  You and the Elf eventually reach a\n",
                "  <a href=\"https://en.wikipedia.org/wiki/Gondola_lift\" target=\"_blank\">\n",
                "   gondola lift\n",
                "  </a>\n",
                "  station; he says the gondola lift will take you up to the\n",
                "  <em>\n",
                "   water source\n",
                "  </em>\n",
                "  , but this is as far as he can bring you. You go inside.\n",
                " </p>\n",
                " <p>\n",
                "  It doesn't take long to find the gondolas, but there seems to be a problem: they're not moving.\n",
                " </p>\n",
                " <p>\n",
                "  \"Aaah!\"\n",
                " </p>\n",
                " <p>\n",
                "  You turn around to see a slightly-greasy Elf with a wrench and a look of surprise. \"Sorry, I wasn't expecting anyone! The gondola lift isn't working right now; it'll still be a while before I can fix it.\" You offer to help.\n",
                " </p>\n",
                " <p>\n",
                "  The engineer explains that an engine part seems to be missing from the engine, but nobody can figure out which one. If you can\n",
                "  <em>\n",
                "   add up all the part numbers\n",
                "  </em>\n",
                "  in the engine schematic, it should be easy to work out which part is missing.\n",
                " </p>\n",
                " <p>\n",
                "  The engine schematic (your puzzle input) consists of a visual representation of the engine. There are lots of numbers and symbols you don't really understand, but apparently\n",
                "  <em>\n",
                "   any number adjacent to a symbol\n",
                "  </em>\n",
                "  , even diagonally, is a \"part number\" and should be included in your sum. (Periods (\n",
                "  <code>\n",
                "   .\n",
                "  </code>\n",
                "  ) do not count as a symbol.)\n",
                " </p>\n",
                " <p>\n",
                "  Here is an example engine schematic:\n",
                " </p>\n",
                " <pre><code>467..114..\n",
                "...*......\n",
                "..35..633.\n",
                "......#...\n",
                "617*......\n",
                ".....+.58.\n",
                "..592.....\n",
                "......755.\n",
                "...$.*....\n",
                ".664.598..\n",
                "</code></pre>\n",
                " <p>\n",
                "  In this schematic, two numbers are\n",
                "  <em>\n",
                "   not\n",
                "  </em>\n",
                "  part numbers because they are not adjacent to a symbol:\n",
                "  <code>\n",
                "   114\n",
                "  </code>\n",
                "  (top right) and\n",
                "  <code>\n",
                "   58\n",
                "  </code>\n",
                "  (middle right). Every other number is adjacent to a symbol and so\n",
                "  <em>\n",
                "   is\n",
                "  </em>\n",
                "  a part number; their sum is\n",
                "  <code>\n",
                "   <em>\n",
                "    4361\n",
                "   </em>\n",
                "  </code>\n",
                "  .\n",
                " </p>\n",
                " <p>\n",
                "  Of course, the actual engine schematic is much larger.\n",
                "  <em>\n",
                "   What is the sum of all of the part numbers in the engine schematic?\n",
                "  </em>\n",
                " </p>\n",
                "</article>\n"
            ]
        },
        {
            "cell_type": "code",
            "execution_count": 1,
            "metadata": {},
            "outputs": [],
            "source": [
                "import helpers\n",
                "from tqdm.notebook import tqdm\n",
                "import numpy as np\n",
                "import re"
            ]
        },
        {
            "cell_type": "code",
            "execution_count": 2,
            "metadata": {},
            "outputs": [],
            "source": [
                "puzzle_input = helpers.import_input(3)"
            ]
        },
        {
            "cell_type": "markdown",
            "metadata": {},
            "source": [
                "## Part 1"
            ]
        },
        {
            "cell_type": "code",
            "execution_count": 3,
            "metadata": {},
            "outputs": [],
            "source": [
                "test_puzzle_input_part_1 = \"\"\"467..114..\n",
                "...*......\n",
                "..35..633.\n",
                "......#...\n",
                "617*......\n",
                ".....+.58.\n",
                "..592.....\n",
                "......755.\n",
                "...$.*....\n",
                ".664.598..\n",
                "\"\"\".splitlines()"
            ]
        },
        {
            "cell_type": "code",
            "execution_count": 4,
            "metadata": {},
            "outputs": [],
            "source": [
                "numbers = [\"0\", \"1\", \"2\", \"3\", \"4\", \"5\", \"6\", \"7\", \"8\", \"9\"]\n",
                "\n",
                "def find_numbers(line):\n",
                "    regex = r'(\\d+)'\n",
                "    return re.findall(regex, line)\n",
                "\n",
                "def part_1(input):\n",
                "    parts = []\n",
                "    x1 = None\n",
                "    for y in range(len(input)):\n",
                "        for x in range(len(input[y]) + 1):                \n",
                "            if x1 == None and x < len(input[y]) and input[y][x] in numbers:\n",
                "                x1 = x\n",
                "            \n",
                "            if x1 != None and (x >= len(input[y]) or input[y][x] not in numbers):\n",
                "                x2 = x - 1\n",
                "                if has_adjecent_symbol(input, x1, x2, y):\n",
                "                    parts.append(input[y][x1:x2 + 1])\n",
                "                \n",
                "                x1 = None\n",
                "                x2 = None\n",
                "\n",
                "    solution = sum([int(i) for i in parts])\n",
                "    # all_numbers = []\n",
                "    # for line in input:\n",
                "    #     all_numbers += find_numbers(line)\n",
                "\n",
                "    # missing_numbers = [i for i in all_numbers if i not in parts]\n",
                "\n",
                "    return solution\n",
                "\n",
                "def has_adjecent_symbol(input, x1, x2, y1):\n",
                "    for y in range(y1 - 1, y1 + 2):\n",
                "        for x in range(x1 - 1, x2 + 2):\n",
                "            # out of y-bounds\n",
                "            if y < 0 or y >= len(input):\n",
                "                continue\n",
                "\n",
                "            # out of x-bounds\n",
                "            if x < 0 or x >= len(input[y]):\n",
                "                continue\n",
                "\n",
                "            if input[y][x] not in numbers and input[y][x] != \".\":\n",
                "                return True\n",
                "    \n",
                "    return False\n",
                "\n",
                "                \n",
                "\n",
                "assert part_1(test_puzzle_input_part_1) == 4361"
            ]
        },
        {
            "cell_type": "code",
            "execution_count": 5,
            "metadata": {},
            "outputs": [],
            "source": [
                "part_1(puzzle_input)\n",
                "assert part_1(puzzle_input) == 539713"
            ]
        },
        {
            "cell_type": "markdown",
            "metadata": {},
            "source": [
                "## Part 2\n",
                "--- Part Two ---\n",
                "\n",
                "The engineer finds the missing part and installs it in the engine! As the engine springs to life, you jump in the closest gondola, finally ready to ascend to the water source.\n",
                "\n",
                "You don't seem to be going very fast, though. Maybe something is still wrong? Fortunately, the gondola has a phone labeled \"help\", so you pick it up and the engineer answers.\n",
                "\n",
                "Before you can explain the situation, she suggests that you look out the window. There stands the engineer, holding a phone in one hand and waving with the other. You're going so slowly that you haven't even left the station. You exit the gondola.\n",
                "\n",
                "The missing part wasn't the only issue - one of the gears in the engine is wrong. A gear is any * symbol that is adjacent to exactly two part numbers. Its gear ratio is the result of multiplying those two numbers together.\n",
                "\n",
                "This time, you need to find the gear ratio of every gear and add them all up so that the engineer can figure out which gear needs to be replaced.\n",
                "\n",
                "Consider the same engine schematic again:"
            ]
        },
        {
            "cell_type": "code",
            "execution_count": 6,
            "metadata": {},
            "outputs": [],
            "source": [
                "test_puzzle_input_part_2 = \"\"\"467..114..\n",
                "...*......\n",
                "..35..633.\n",
                "......#...\n",
                "617*......\n",
                ".....+.58.\n",
                "..592.....\n",
                "......755.\n",
                "...$.*....\n",
                ".664.598..\n",
                "\"\"\".splitlines()"
            ]
        },
        {
            "cell_type": "code",
            "execution_count": 7,
            "metadata": {},
            "outputs": [],
            "source": [
                "def part_2(input):\n",
                "    number_regex = re.compile(r'(\\d+)')\n",
                "    gear_ratio = []\n",
                "\n",
                "    for y in range(len(input)):\n",
                "        for x in range(len(input[y])):\n",
                "            if input[y][x] == \"*\":\n",
                "                number_matches = []\n",
                "                for i in range(max(y - 1, 0), min(y + 2, len(input))):\n",
                "                    number_matches += number_regex.finditer(input[i])\n",
                "\n",
                "                numbers_in_range = []\n",
                "                for e in number_matches:\n",
                "                    number = int(e.group())\n",
                "                    start =  e.start()\n",
                "                    end = e.end()\n",
                "                    if start - 1 <= x <= end:\n",
                "                        numbers_in_range.append(number)\n",
                "               \n",
                "                if len(numbers_in_range) == 2:\n",
                "                    gear_ratio.append(numbers_in_range[0] * numbers_in_range[1])\n",
                "            \n",
                "    return sum(gear_ratio)\n",
                "\n",
                "assert part_2(test_puzzle_input_part_2) == 467835"
            ]
        },
        {
            "cell_type": "code",
            "execution_count": 8,
            "metadata": {},
            "outputs": [
                {
                    "data": {
                        "text/plain": [
                            "84159075"
                        ]
                    },
                    "execution_count": 8,
                    "metadata": {},
                    "output_type": "execute_result"
                }
            ],
            "source": [
                "part_2(puzzle_input)"
            ]
        }
    ],
    "metadata": {
        "kernelspec": {
            "display_name": "Python 3",
            "language": "python",
            "name": "python3"
        },
        "language_info": {
            "codemirror_mode": {
                "name": "ipython",
                "version": 3
            },
            "file_extension": ".py",
            "mimetype": "text/x-python",
            "name": "python",
            "nbconvert_exporter": "python",
            "pygments_lexer": "ipython3",
            "version": "3.10.11"
        }
    },
    "nbformat": 4,
    "nbformat_minor": 2
}
